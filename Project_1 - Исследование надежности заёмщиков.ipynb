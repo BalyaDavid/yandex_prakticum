{
  "cells": [
    {
      "cell_type": "markdown",
      "metadata": {
        "id": "DaXZnayLjs7S"
      },
      "source": [
        "# Исследование надёжности заёмщиков\n",
        "\n",
        "Заказчик — кредитный отдел банка. Нужно разобраться, влияет ли семейное положение и количество детей клиента на факт погашения кредита в срок. Входные данные от банка — статистика о платёжеспособности клиентов.\n",
        "\n",
        "Результаты исследования будут учтены при построении модели **кредитного скоринга** — специальной системы, которая оценивает способность потенциального заёмщика вернуть кредит банку."
      ]
    },
    {
      "cell_type": "markdown",
      "metadata": {
        "id": "9QHvDEu1js7S"
      },
      "source": [
        "## Шаг 1. Откройте файл с данными и изучите общую информацию"
      ]
    },
    {
      "cell_type": "code",
      "execution_count": null,
      "metadata": {
        "id": "bSde4mZPjs7T"
      },
      "outputs": [],
      "source": [
        "import pandas as pd\n",
        "from pymystem3 import Mystem\n",
        "m = Mystem()\n",
        "from collections import Counter"
      ]
    },
    {
      "cell_type": "code",
      "execution_count": null,
      "metadata": {
        "id": "m153yWEOjs7U"
      },
      "outputs": [],
      "source": [
        "data = pd.read_csv('/datasets/data.csv')"
      ]
    },
    {
      "cell_type": "markdown",
      "metadata": {
        "id": "T_xMCyZwjs7V"
      },
      "source": [
        "Выведем первые 20 строк таблицы, также воспользуемся методами .info() и .describe() для полного ознакомления с данными:"
      ]
    },
    {
      "cell_type": "code",
      "execution_count": null,
      "metadata": {
        "scrolled": false,
        "id": "s93uT7lQjs7V",
        "outputId": "5edd8e6f-a831-45bb-eeb3-c9835329f6b4"
      },
      "outputs": [
        {
          "data": {
            "text/html": [
              "<div>\n",
              "<style scoped>\n",
              "    .dataframe tbody tr th:only-of-type {\n",
              "        vertical-align: middle;\n",
              "    }\n",
              "\n",
              "    .dataframe tbody tr th {\n",
              "        vertical-align: top;\n",
              "    }\n",
              "\n",
              "    .dataframe thead th {\n",
              "        text-align: right;\n",
              "    }\n",
              "</style>\n",
              "<table border=\"1\" class=\"dataframe\">\n",
              "  <thead>\n",
              "    <tr style=\"text-align: right;\">\n",
              "      <th></th>\n",
              "      <th>children</th>\n",
              "      <th>days_employed</th>\n",
              "      <th>dob_years</th>\n",
              "      <th>education</th>\n",
              "      <th>education_id</th>\n",
              "      <th>family_status</th>\n",
              "      <th>family_status_id</th>\n",
              "      <th>gender</th>\n",
              "      <th>income_type</th>\n",
              "      <th>debt</th>\n",
              "      <th>total_income</th>\n",
              "      <th>purpose</th>\n",
              "    </tr>\n",
              "  </thead>\n",
              "  <tbody>\n",
              "    <tr>\n",
              "      <td>0</td>\n",
              "      <td>1</td>\n",
              "      <td>-8437.673028</td>\n",
              "      <td>42</td>\n",
              "      <td>высшее</td>\n",
              "      <td>0</td>\n",
              "      <td>женат / замужем</td>\n",
              "      <td>0</td>\n",
              "      <td>F</td>\n",
              "      <td>сотрудник</td>\n",
              "      <td>0</td>\n",
              "      <td>253875.639453</td>\n",
              "      <td>покупка жилья</td>\n",
              "    </tr>\n",
              "    <tr>\n",
              "      <td>1</td>\n",
              "      <td>1</td>\n",
              "      <td>-4024.803754</td>\n",
              "      <td>36</td>\n",
              "      <td>среднее</td>\n",
              "      <td>1</td>\n",
              "      <td>женат / замужем</td>\n",
              "      <td>0</td>\n",
              "      <td>F</td>\n",
              "      <td>сотрудник</td>\n",
              "      <td>0</td>\n",
              "      <td>112080.014102</td>\n",
              "      <td>приобретение автомобиля</td>\n",
              "    </tr>\n",
              "    <tr>\n",
              "      <td>2</td>\n",
              "      <td>0</td>\n",
              "      <td>-5623.422610</td>\n",
              "      <td>33</td>\n",
              "      <td>Среднее</td>\n",
              "      <td>1</td>\n",
              "      <td>женат / замужем</td>\n",
              "      <td>0</td>\n",
              "      <td>M</td>\n",
              "      <td>сотрудник</td>\n",
              "      <td>0</td>\n",
              "      <td>145885.952297</td>\n",
              "      <td>покупка жилья</td>\n",
              "    </tr>\n",
              "    <tr>\n",
              "      <td>3</td>\n",
              "      <td>3</td>\n",
              "      <td>-4124.747207</td>\n",
              "      <td>32</td>\n",
              "      <td>среднее</td>\n",
              "      <td>1</td>\n",
              "      <td>женат / замужем</td>\n",
              "      <td>0</td>\n",
              "      <td>M</td>\n",
              "      <td>сотрудник</td>\n",
              "      <td>0</td>\n",
              "      <td>267628.550329</td>\n",
              "      <td>дополнительное образование</td>\n",
              "    </tr>\n",
              "    <tr>\n",
              "      <td>4</td>\n",
              "      <td>0</td>\n",
              "      <td>340266.072047</td>\n",
              "      <td>53</td>\n",
              "      <td>среднее</td>\n",
              "      <td>1</td>\n",
              "      <td>гражданский брак</td>\n",
              "      <td>1</td>\n",
              "      <td>F</td>\n",
              "      <td>пенсионер</td>\n",
              "      <td>0</td>\n",
              "      <td>158616.077870</td>\n",
              "      <td>сыграть свадьбу</td>\n",
              "    </tr>\n",
              "    <tr>\n",
              "      <td>5</td>\n",
              "      <td>0</td>\n",
              "      <td>-926.185831</td>\n",
              "      <td>27</td>\n",
              "      <td>высшее</td>\n",
              "      <td>0</td>\n",
              "      <td>гражданский брак</td>\n",
              "      <td>1</td>\n",
              "      <td>M</td>\n",
              "      <td>компаньон</td>\n",
              "      <td>0</td>\n",
              "      <td>255763.565419</td>\n",
              "      <td>покупка жилья</td>\n",
              "    </tr>\n",
              "    <tr>\n",
              "      <td>6</td>\n",
              "      <td>0</td>\n",
              "      <td>-2879.202052</td>\n",
              "      <td>43</td>\n",
              "      <td>высшее</td>\n",
              "      <td>0</td>\n",
              "      <td>женат / замужем</td>\n",
              "      <td>0</td>\n",
              "      <td>F</td>\n",
              "      <td>компаньон</td>\n",
              "      <td>0</td>\n",
              "      <td>240525.971920</td>\n",
              "      <td>операции с жильем</td>\n",
              "    </tr>\n",
              "    <tr>\n",
              "      <td>7</td>\n",
              "      <td>0</td>\n",
              "      <td>-152.779569</td>\n",
              "      <td>50</td>\n",
              "      <td>СРЕДНЕЕ</td>\n",
              "      <td>1</td>\n",
              "      <td>женат / замужем</td>\n",
              "      <td>0</td>\n",
              "      <td>M</td>\n",
              "      <td>сотрудник</td>\n",
              "      <td>0</td>\n",
              "      <td>135823.934197</td>\n",
              "      <td>образование</td>\n",
              "    </tr>\n",
              "    <tr>\n",
              "      <td>8</td>\n",
              "      <td>2</td>\n",
              "      <td>-6929.865299</td>\n",
              "      <td>35</td>\n",
              "      <td>ВЫСШЕЕ</td>\n",
              "      <td>0</td>\n",
              "      <td>гражданский брак</td>\n",
              "      <td>1</td>\n",
              "      <td>F</td>\n",
              "      <td>сотрудник</td>\n",
              "      <td>0</td>\n",
              "      <td>95856.832424</td>\n",
              "      <td>на проведение свадьбы</td>\n",
              "    </tr>\n",
              "    <tr>\n",
              "      <td>9</td>\n",
              "      <td>0</td>\n",
              "      <td>-2188.756445</td>\n",
              "      <td>41</td>\n",
              "      <td>среднее</td>\n",
              "      <td>1</td>\n",
              "      <td>женат / замужем</td>\n",
              "      <td>0</td>\n",
              "      <td>M</td>\n",
              "      <td>сотрудник</td>\n",
              "      <td>0</td>\n",
              "      <td>144425.938277</td>\n",
              "      <td>покупка жилья для семьи</td>\n",
              "    </tr>\n",
              "    <tr>\n",
              "      <td>10</td>\n",
              "      <td>2</td>\n",
              "      <td>-4171.483647</td>\n",
              "      <td>36</td>\n",
              "      <td>высшее</td>\n",
              "      <td>0</td>\n",
              "      <td>женат / замужем</td>\n",
              "      <td>0</td>\n",
              "      <td>M</td>\n",
              "      <td>компаньон</td>\n",
              "      <td>0</td>\n",
              "      <td>113943.491460</td>\n",
              "      <td>покупка недвижимости</td>\n",
              "    </tr>\n",
              "    <tr>\n",
              "      <td>11</td>\n",
              "      <td>0</td>\n",
              "      <td>-792.701887</td>\n",
              "      <td>40</td>\n",
              "      <td>среднее</td>\n",
              "      <td>1</td>\n",
              "      <td>женат / замужем</td>\n",
              "      <td>0</td>\n",
              "      <td>F</td>\n",
              "      <td>сотрудник</td>\n",
              "      <td>0</td>\n",
              "      <td>77069.234271</td>\n",
              "      <td>покупка коммерческой недвижимости</td>\n",
              "    </tr>\n",
              "    <tr>\n",
              "      <td>12</td>\n",
              "      <td>0</td>\n",
              "      <td>NaN</td>\n",
              "      <td>65</td>\n",
              "      <td>среднее</td>\n",
              "      <td>1</td>\n",
              "      <td>гражданский брак</td>\n",
              "      <td>1</td>\n",
              "      <td>M</td>\n",
              "      <td>пенсионер</td>\n",
              "      <td>0</td>\n",
              "      <td>NaN</td>\n",
              "      <td>сыграть свадьбу</td>\n",
              "    </tr>\n",
              "    <tr>\n",
              "      <td>13</td>\n",
              "      <td>0</td>\n",
              "      <td>-1846.641941</td>\n",
              "      <td>54</td>\n",
              "      <td>неоконченное высшее</td>\n",
              "      <td>2</td>\n",
              "      <td>женат / замужем</td>\n",
              "      <td>0</td>\n",
              "      <td>F</td>\n",
              "      <td>сотрудник</td>\n",
              "      <td>0</td>\n",
              "      <td>130458.228857</td>\n",
              "      <td>приобретение автомобиля</td>\n",
              "    </tr>\n",
              "    <tr>\n",
              "      <td>14</td>\n",
              "      <td>0</td>\n",
              "      <td>-1844.956182</td>\n",
              "      <td>56</td>\n",
              "      <td>высшее</td>\n",
              "      <td>0</td>\n",
              "      <td>гражданский брак</td>\n",
              "      <td>1</td>\n",
              "      <td>F</td>\n",
              "      <td>компаньон</td>\n",
              "      <td>1</td>\n",
              "      <td>165127.911772</td>\n",
              "      <td>покупка жилой недвижимости</td>\n",
              "    </tr>\n",
              "    <tr>\n",
              "      <td>15</td>\n",
              "      <td>1</td>\n",
              "      <td>-972.364419</td>\n",
              "      <td>26</td>\n",
              "      <td>среднее</td>\n",
              "      <td>1</td>\n",
              "      <td>женат / замужем</td>\n",
              "      <td>0</td>\n",
              "      <td>F</td>\n",
              "      <td>сотрудник</td>\n",
              "      <td>0</td>\n",
              "      <td>116820.904450</td>\n",
              "      <td>строительство собственной недвижимости</td>\n",
              "    </tr>\n",
              "    <tr>\n",
              "      <td>16</td>\n",
              "      <td>0</td>\n",
              "      <td>-1719.934226</td>\n",
              "      <td>35</td>\n",
              "      <td>среднее</td>\n",
              "      <td>1</td>\n",
              "      <td>женат / замужем</td>\n",
              "      <td>0</td>\n",
              "      <td>F</td>\n",
              "      <td>сотрудник</td>\n",
              "      <td>0</td>\n",
              "      <td>289202.704229</td>\n",
              "      <td>недвижимость</td>\n",
              "    </tr>\n",
              "    <tr>\n",
              "      <td>17</td>\n",
              "      <td>0</td>\n",
              "      <td>-2369.999720</td>\n",
              "      <td>33</td>\n",
              "      <td>высшее</td>\n",
              "      <td>0</td>\n",
              "      <td>гражданский брак</td>\n",
              "      <td>1</td>\n",
              "      <td>M</td>\n",
              "      <td>сотрудник</td>\n",
              "      <td>0</td>\n",
              "      <td>90410.586745</td>\n",
              "      <td>строительство недвижимости</td>\n",
              "    </tr>\n",
              "    <tr>\n",
              "      <td>18</td>\n",
              "      <td>0</td>\n",
              "      <td>400281.136913</td>\n",
              "      <td>53</td>\n",
              "      <td>среднее</td>\n",
              "      <td>1</td>\n",
              "      <td>вдовец / вдова</td>\n",
              "      <td>2</td>\n",
              "      <td>F</td>\n",
              "      <td>пенсионер</td>\n",
              "      <td>0</td>\n",
              "      <td>56823.777243</td>\n",
              "      <td>на покупку подержанного автомобиля</td>\n",
              "    </tr>\n",
              "    <tr>\n",
              "      <td>19</td>\n",
              "      <td>0</td>\n",
              "      <td>-10038.818549</td>\n",
              "      <td>48</td>\n",
              "      <td>СРЕДНЕЕ</td>\n",
              "      <td>1</td>\n",
              "      <td>в разводе</td>\n",
              "      <td>3</td>\n",
              "      <td>F</td>\n",
              "      <td>сотрудник</td>\n",
              "      <td>0</td>\n",
              "      <td>242831.107982</td>\n",
              "      <td>на покупку своего автомобиля</td>\n",
              "    </tr>\n",
              "  </tbody>\n",
              "</table>\n",
              "</div>"
            ],
            "text/plain": [
              "    children  days_employed  dob_years            education  education_id  \\\n",
              "0          1   -8437.673028         42               высшее             0   \n",
              "1          1   -4024.803754         36              среднее             1   \n",
              "2          0   -5623.422610         33              Среднее             1   \n",
              "3          3   -4124.747207         32              среднее             1   \n",
              "4          0  340266.072047         53              среднее             1   \n",
              "5          0    -926.185831         27               высшее             0   \n",
              "6          0   -2879.202052         43               высшее             0   \n",
              "7          0    -152.779569         50              СРЕДНЕЕ             1   \n",
              "8          2   -6929.865299         35               ВЫСШЕЕ             0   \n",
              "9          0   -2188.756445         41              среднее             1   \n",
              "10         2   -4171.483647         36               высшее             0   \n",
              "11         0    -792.701887         40              среднее             1   \n",
              "12         0            NaN         65              среднее             1   \n",
              "13         0   -1846.641941         54  неоконченное высшее             2   \n",
              "14         0   -1844.956182         56               высшее             0   \n",
              "15         1    -972.364419         26              среднее             1   \n",
              "16         0   -1719.934226         35              среднее             1   \n",
              "17         0   -2369.999720         33               высшее             0   \n",
              "18         0  400281.136913         53              среднее             1   \n",
              "19         0  -10038.818549         48              СРЕДНЕЕ             1   \n",
              "\n",
              "       family_status  family_status_id gender income_type  debt  \\\n",
              "0    женат / замужем                 0      F   сотрудник     0   \n",
              "1    женат / замужем                 0      F   сотрудник     0   \n",
              "2    женат / замужем                 0      M   сотрудник     0   \n",
              "3    женат / замужем                 0      M   сотрудник     0   \n",
              "4   гражданский брак                 1      F   пенсионер     0   \n",
              "5   гражданский брак                 1      M   компаньон     0   \n",
              "6    женат / замужем                 0      F   компаньон     0   \n",
              "7    женат / замужем                 0      M   сотрудник     0   \n",
              "8   гражданский брак                 1      F   сотрудник     0   \n",
              "9    женат / замужем                 0      M   сотрудник     0   \n",
              "10   женат / замужем                 0      M   компаньон     0   \n",
              "11   женат / замужем                 0      F   сотрудник     0   \n",
              "12  гражданский брак                 1      M   пенсионер     0   \n",
              "13   женат / замужем                 0      F   сотрудник     0   \n",
              "14  гражданский брак                 1      F   компаньон     1   \n",
              "15   женат / замужем                 0      F   сотрудник     0   \n",
              "16   женат / замужем                 0      F   сотрудник     0   \n",
              "17  гражданский брак                 1      M   сотрудник     0   \n",
              "18    вдовец / вдова                 2      F   пенсионер     0   \n",
              "19         в разводе                 3      F   сотрудник     0   \n",
              "\n",
              "     total_income                                 purpose  \n",
              "0   253875.639453                           покупка жилья  \n",
              "1   112080.014102                 приобретение автомобиля  \n",
              "2   145885.952297                           покупка жилья  \n",
              "3   267628.550329              дополнительное образование  \n",
              "4   158616.077870                         сыграть свадьбу  \n",
              "5   255763.565419                           покупка жилья  \n",
              "6   240525.971920                       операции с жильем  \n",
              "7   135823.934197                             образование  \n",
              "8    95856.832424                   на проведение свадьбы  \n",
              "9   144425.938277                 покупка жилья для семьи  \n",
              "10  113943.491460                    покупка недвижимости  \n",
              "11   77069.234271       покупка коммерческой недвижимости  \n",
              "12            NaN                         сыграть свадьбу  \n",
              "13  130458.228857                 приобретение автомобиля  \n",
              "14  165127.911772              покупка жилой недвижимости  \n",
              "15  116820.904450  строительство собственной недвижимости  \n",
              "16  289202.704229                            недвижимость  \n",
              "17   90410.586745              строительство недвижимости  \n",
              "18   56823.777243      на покупку подержанного автомобиля  \n",
              "19  242831.107982            на покупку своего автомобиля  "
            ]
          },
          "execution_count": 3,
          "metadata": {},
          "output_type": "execute_result"
        }
      ],
      "source": [
        "data.head(20)"
      ]
    },
    {
      "cell_type": "code",
      "execution_count": null,
      "metadata": {
        "id": "hRw7R_KFjs7W",
        "outputId": "8232e8b9-ac84-46ad-dcb5-9cb7d1f41257"
      },
      "outputs": [
        {
          "data": {
            "text/html": [
              "<div>\n",
              "<style scoped>\n",
              "    .dataframe tbody tr th:only-of-type {\n",
              "        vertical-align: middle;\n",
              "    }\n",
              "\n",
              "    .dataframe tbody tr th {\n",
              "        vertical-align: top;\n",
              "    }\n",
              "\n",
              "    .dataframe thead th {\n",
              "        text-align: right;\n",
              "    }\n",
              "</style>\n",
              "<table border=\"1\" class=\"dataframe\">\n",
              "  <thead>\n",
              "    <tr style=\"text-align: right;\">\n",
              "      <th></th>\n",
              "      <th>children</th>\n",
              "      <th>days_employed</th>\n",
              "      <th>dob_years</th>\n",
              "      <th>education_id</th>\n",
              "      <th>family_status_id</th>\n",
              "      <th>debt</th>\n",
              "      <th>total_income</th>\n",
              "    </tr>\n",
              "  </thead>\n",
              "  <tbody>\n",
              "    <tr>\n",
              "      <td>count</td>\n",
              "      <td>21525.000000</td>\n",
              "      <td>19351.000000</td>\n",
              "      <td>21525.000000</td>\n",
              "      <td>21525.000000</td>\n",
              "      <td>21525.000000</td>\n",
              "      <td>21525.000000</td>\n",
              "      <td>1.935100e+04</td>\n",
              "    </tr>\n",
              "    <tr>\n",
              "      <td>mean</td>\n",
              "      <td>0.538908</td>\n",
              "      <td>63046.497661</td>\n",
              "      <td>43.293380</td>\n",
              "      <td>0.817236</td>\n",
              "      <td>0.972544</td>\n",
              "      <td>0.080883</td>\n",
              "      <td>1.674223e+05</td>\n",
              "    </tr>\n",
              "    <tr>\n",
              "      <td>std</td>\n",
              "      <td>1.381587</td>\n",
              "      <td>140827.311974</td>\n",
              "      <td>12.574584</td>\n",
              "      <td>0.548138</td>\n",
              "      <td>1.420324</td>\n",
              "      <td>0.272661</td>\n",
              "      <td>1.029716e+05</td>\n",
              "    </tr>\n",
              "    <tr>\n",
              "      <td>min</td>\n",
              "      <td>-1.000000</td>\n",
              "      <td>-18388.949901</td>\n",
              "      <td>0.000000</td>\n",
              "      <td>0.000000</td>\n",
              "      <td>0.000000</td>\n",
              "      <td>0.000000</td>\n",
              "      <td>2.066726e+04</td>\n",
              "    </tr>\n",
              "    <tr>\n",
              "      <td>25%</td>\n",
              "      <td>0.000000</td>\n",
              "      <td>-2747.423625</td>\n",
              "      <td>33.000000</td>\n",
              "      <td>1.000000</td>\n",
              "      <td>0.000000</td>\n",
              "      <td>0.000000</td>\n",
              "      <td>1.030532e+05</td>\n",
              "    </tr>\n",
              "    <tr>\n",
              "      <td>50%</td>\n",
              "      <td>0.000000</td>\n",
              "      <td>-1203.369529</td>\n",
              "      <td>42.000000</td>\n",
              "      <td>1.000000</td>\n",
              "      <td>0.000000</td>\n",
              "      <td>0.000000</td>\n",
              "      <td>1.450179e+05</td>\n",
              "    </tr>\n",
              "    <tr>\n",
              "      <td>75%</td>\n",
              "      <td>1.000000</td>\n",
              "      <td>-291.095954</td>\n",
              "      <td>53.000000</td>\n",
              "      <td>1.000000</td>\n",
              "      <td>1.000000</td>\n",
              "      <td>0.000000</td>\n",
              "      <td>2.034351e+05</td>\n",
              "    </tr>\n",
              "    <tr>\n",
              "      <td>max</td>\n",
              "      <td>20.000000</td>\n",
              "      <td>401755.400475</td>\n",
              "      <td>75.000000</td>\n",
              "      <td>4.000000</td>\n",
              "      <td>4.000000</td>\n",
              "      <td>1.000000</td>\n",
              "      <td>2.265604e+06</td>\n",
              "    </tr>\n",
              "  </tbody>\n",
              "</table>\n",
              "</div>"
            ],
            "text/plain": [
              "           children  days_employed     dob_years  education_id  \\\n",
              "count  21525.000000   19351.000000  21525.000000  21525.000000   \n",
              "mean       0.538908   63046.497661     43.293380      0.817236   \n",
              "std        1.381587  140827.311974     12.574584      0.548138   \n",
              "min       -1.000000  -18388.949901      0.000000      0.000000   \n",
              "25%        0.000000   -2747.423625     33.000000      1.000000   \n",
              "50%        0.000000   -1203.369529     42.000000      1.000000   \n",
              "75%        1.000000    -291.095954     53.000000      1.000000   \n",
              "max       20.000000  401755.400475     75.000000      4.000000   \n",
              "\n",
              "       family_status_id          debt  total_income  \n",
              "count      21525.000000  21525.000000  1.935100e+04  \n",
              "mean           0.972544      0.080883  1.674223e+05  \n",
              "std            1.420324      0.272661  1.029716e+05  \n",
              "min            0.000000      0.000000  2.066726e+04  \n",
              "25%            0.000000      0.000000  1.030532e+05  \n",
              "50%            0.000000      0.000000  1.450179e+05  \n",
              "75%            1.000000      0.000000  2.034351e+05  \n",
              "max            4.000000      1.000000  2.265604e+06  "
            ]
          },
          "execution_count": 4,
          "metadata": {},
          "output_type": "execute_result"
        }
      ],
      "source": [
        "data.describe()"
      ]
    },
    {
      "cell_type": "code",
      "execution_count": null,
      "metadata": {
        "scrolled": true,
        "id": "ENVgUPlPjs7X",
        "outputId": "7635a743-ed32-445c-f789-f94858bb4c2b"
      },
      "outputs": [
        {
          "name": "stdout",
          "output_type": "stream",
          "text": [
            "<class 'pandas.core.frame.DataFrame'>\n",
            "RangeIndex: 21525 entries, 0 to 21524\n",
            "Data columns (total 12 columns):\n",
            "children            21525 non-null int64\n",
            "days_employed       19351 non-null float64\n",
            "dob_years           21525 non-null int64\n",
            "education           21525 non-null object\n",
            "education_id        21525 non-null int64\n",
            "family_status       21525 non-null object\n",
            "family_status_id    21525 non-null int64\n",
            "gender              21525 non-null object\n",
            "income_type         21525 non-null object\n",
            "debt                21525 non-null int64\n",
            "total_income        19351 non-null float64\n",
            "purpose             21525 non-null object\n",
            "dtypes: float64(2), int64(5), object(5)\n",
            "memory usage: 2.0+ MB\n"
          ]
        }
      ],
      "source": [
        "data.info()"
      ]
    },
    {
      "cell_type": "markdown",
      "metadata": {
        "id": "5PgA3Ntjjs7X"
      },
      "source": [
        "Наблюдения(страности в данных) на основе приведенной информации: \n",
        "* В строке ***education*** значения в разном регистре  \n",
        "* В строке ***dob_years*** минимальное значение возраста равно 0 \n",
        "* Значения -1 и 20 в строке ***children***\n",
        "* Столбец ***days_employed*** явно с ошибкой, причем с несколькими. Начиная с среднего значения в 172 года заканчивая -50 минимальными годами и 1101 максимальным\n",
        "* В строках ***days_employed*** и ***total_income*** тип данных *float*, я бы перевел в *int*, для удобства восприятия \n",
        "* Отсутствуют данные в столбцах ***days_employed*** и ***total_income***, судя по тому, кол-во заполненных строк одинаковое, стоит предположить, что данные пропущены в одних и тех же строках таблицы, стоит это проверить\n",
        "* Остальные столбцы выглядят нормально"
      ]
    },
    {
      "cell_type": "markdown",
      "metadata": {
        "id": "Fs7qrRonjs7X"
      },
      "source": [
        "Заметки: \n",
        "* неудобно как по мне опыт в столбце ***days_employed*** считать в днях, предлагаю вывести опыт работы в годах  \n",
        "* Так же неудобно название ***total_income*** , заменить на ***month_income***, для удобства и поделить на 1000, получив значение зарплаты в тысячах"
      ]
    },
    {
      "cell_type": "code",
      "execution_count": null,
      "metadata": {
        "id": "jouhm68Njs7Y"
      },
      "outputs": [],
      "source": [
        "data = data.rename(columns={'total_income': 'month_income', 'days_employed': 'years_employed'})"
      ]
    },
    {
      "cell_type": "code",
      "execution_count": null,
      "metadata": {
        "id": "rlPMNWKNjs7Y"
      },
      "outputs": [],
      "source": [
        "data['years_employed'] = data['years_employed'] / 365\n",
        "data['month_income'] = data['month_income'] / 1000"
      ]
    },
    {
      "cell_type": "markdown",
      "metadata": {
        "id": "tg5KHq8Fjs7Y"
      },
      "source": [
        "Выведем датафрейм для того, чтообы проверить внесенные изменения:"
      ]
    },
    {
      "cell_type": "code",
      "execution_count": null,
      "metadata": {
        "id": "tY97E6omjs7Y",
        "outputId": "079268de-b9fc-4003-feb1-484f34c43b59"
      },
      "outputs": [
        {
          "data": {
            "text/html": [
              "<div>\n",
              "<style scoped>\n",
              "    .dataframe tbody tr th:only-of-type {\n",
              "        vertical-align: middle;\n",
              "    }\n",
              "\n",
              "    .dataframe tbody tr th {\n",
              "        vertical-align: top;\n",
              "    }\n",
              "\n",
              "    .dataframe thead th {\n",
              "        text-align: right;\n",
              "    }\n",
              "</style>\n",
              "<table border=\"1\" class=\"dataframe\">\n",
              "  <thead>\n",
              "    <tr style=\"text-align: right;\">\n",
              "      <th></th>\n",
              "      <th>children</th>\n",
              "      <th>years_employed</th>\n",
              "      <th>dob_years</th>\n",
              "      <th>education</th>\n",
              "      <th>education_id</th>\n",
              "      <th>family_status</th>\n",
              "      <th>family_status_id</th>\n",
              "      <th>gender</th>\n",
              "      <th>income_type</th>\n",
              "      <th>debt</th>\n",
              "      <th>month_income</th>\n",
              "      <th>purpose</th>\n",
              "    </tr>\n",
              "  </thead>\n",
              "  <tbody>\n",
              "    <tr>\n",
              "      <td>0</td>\n",
              "      <td>1</td>\n",
              "      <td>-23.116912</td>\n",
              "      <td>42</td>\n",
              "      <td>высшее</td>\n",
              "      <td>0</td>\n",
              "      <td>женат / замужем</td>\n",
              "      <td>0</td>\n",
              "      <td>F</td>\n",
              "      <td>сотрудник</td>\n",
              "      <td>0</td>\n",
              "      <td>253.875639</td>\n",
              "      <td>покупка жилья</td>\n",
              "    </tr>\n",
              "    <tr>\n",
              "      <td>1</td>\n",
              "      <td>1</td>\n",
              "      <td>-11.026860</td>\n",
              "      <td>36</td>\n",
              "      <td>среднее</td>\n",
              "      <td>1</td>\n",
              "      <td>женат / замужем</td>\n",
              "      <td>0</td>\n",
              "      <td>F</td>\n",
              "      <td>сотрудник</td>\n",
              "      <td>0</td>\n",
              "      <td>112.080014</td>\n",
              "      <td>приобретение автомобиля</td>\n",
              "    </tr>\n",
              "    <tr>\n",
              "      <td>2</td>\n",
              "      <td>0</td>\n",
              "      <td>-15.406637</td>\n",
              "      <td>33</td>\n",
              "      <td>Среднее</td>\n",
              "      <td>1</td>\n",
              "      <td>женат / замужем</td>\n",
              "      <td>0</td>\n",
              "      <td>M</td>\n",
              "      <td>сотрудник</td>\n",
              "      <td>0</td>\n",
              "      <td>145.885952</td>\n",
              "      <td>покупка жилья</td>\n",
              "    </tr>\n",
              "    <tr>\n",
              "      <td>3</td>\n",
              "      <td>3</td>\n",
              "      <td>-11.300677</td>\n",
              "      <td>32</td>\n",
              "      <td>среднее</td>\n",
              "      <td>1</td>\n",
              "      <td>женат / замужем</td>\n",
              "      <td>0</td>\n",
              "      <td>M</td>\n",
              "      <td>сотрудник</td>\n",
              "      <td>0</td>\n",
              "      <td>267.628550</td>\n",
              "      <td>дополнительное образование</td>\n",
              "    </tr>\n",
              "    <tr>\n",
              "      <td>4</td>\n",
              "      <td>0</td>\n",
              "      <td>932.235814</td>\n",
              "      <td>53</td>\n",
              "      <td>среднее</td>\n",
              "      <td>1</td>\n",
              "      <td>гражданский брак</td>\n",
              "      <td>1</td>\n",
              "      <td>F</td>\n",
              "      <td>пенсионер</td>\n",
              "      <td>0</td>\n",
              "      <td>158.616078</td>\n",
              "      <td>сыграть свадьбу</td>\n",
              "    </tr>\n",
              "    <tr>\n",
              "      <td>...</td>\n",
              "      <td>...</td>\n",
              "      <td>...</td>\n",
              "      <td>...</td>\n",
              "      <td>...</td>\n",
              "      <td>...</td>\n",
              "      <td>...</td>\n",
              "      <td>...</td>\n",
              "      <td>...</td>\n",
              "      <td>...</td>\n",
              "      <td>...</td>\n",
              "      <td>...</td>\n",
              "      <td>...</td>\n",
              "    </tr>\n",
              "    <tr>\n",
              "      <td>21520</td>\n",
              "      <td>1</td>\n",
              "      <td>-12.409087</td>\n",
              "      <td>43</td>\n",
              "      <td>среднее</td>\n",
              "      <td>1</td>\n",
              "      <td>гражданский брак</td>\n",
              "      <td>1</td>\n",
              "      <td>F</td>\n",
              "      <td>компаньон</td>\n",
              "      <td>0</td>\n",
              "      <td>224.791862</td>\n",
              "      <td>операции с жильем</td>\n",
              "    </tr>\n",
              "    <tr>\n",
              "      <td>21521</td>\n",
              "      <td>0</td>\n",
              "      <td>942.294258</td>\n",
              "      <td>67</td>\n",
              "      <td>среднее</td>\n",
              "      <td>1</td>\n",
              "      <td>женат / замужем</td>\n",
              "      <td>0</td>\n",
              "      <td>F</td>\n",
              "      <td>пенсионер</td>\n",
              "      <td>0</td>\n",
              "      <td>155.999807</td>\n",
              "      <td>сделка с автомобилем</td>\n",
              "    </tr>\n",
              "    <tr>\n",
              "      <td>21522</td>\n",
              "      <td>1</td>\n",
              "      <td>-5.789991</td>\n",
              "      <td>38</td>\n",
              "      <td>среднее</td>\n",
              "      <td>1</td>\n",
              "      <td>гражданский брак</td>\n",
              "      <td>1</td>\n",
              "      <td>M</td>\n",
              "      <td>сотрудник</td>\n",
              "      <td>1</td>\n",
              "      <td>89.672561</td>\n",
              "      <td>недвижимость</td>\n",
              "    </tr>\n",
              "    <tr>\n",
              "      <td>21523</td>\n",
              "      <td>3</td>\n",
              "      <td>-8.527347</td>\n",
              "      <td>38</td>\n",
              "      <td>среднее</td>\n",
              "      <td>1</td>\n",
              "      <td>женат / замужем</td>\n",
              "      <td>0</td>\n",
              "      <td>M</td>\n",
              "      <td>сотрудник</td>\n",
              "      <td>1</td>\n",
              "      <td>244.093051</td>\n",
              "      <td>на покупку своего автомобиля</td>\n",
              "    </tr>\n",
              "    <tr>\n",
              "      <td>21524</td>\n",
              "      <td>2</td>\n",
              "      <td>-5.437007</td>\n",
              "      <td>40</td>\n",
              "      <td>среднее</td>\n",
              "      <td>1</td>\n",
              "      <td>женат / замужем</td>\n",
              "      <td>0</td>\n",
              "      <td>F</td>\n",
              "      <td>сотрудник</td>\n",
              "      <td>0</td>\n",
              "      <td>82.047419</td>\n",
              "      <td>на покупку автомобиля</td>\n",
              "    </tr>\n",
              "  </tbody>\n",
              "</table>\n",
              "<p>21525 rows × 12 columns</p>\n",
              "</div>"
            ],
            "text/plain": [
              "       children  years_employed  dob_years education  education_id  \\\n",
              "0             1      -23.116912         42    высшее             0   \n",
              "1             1      -11.026860         36   среднее             1   \n",
              "2             0      -15.406637         33   Среднее             1   \n",
              "3             3      -11.300677         32   среднее             1   \n",
              "4             0      932.235814         53   среднее             1   \n",
              "...         ...             ...        ...       ...           ...   \n",
              "21520         1      -12.409087         43   среднее             1   \n",
              "21521         0      942.294258         67   среднее             1   \n",
              "21522         1       -5.789991         38   среднее             1   \n",
              "21523         3       -8.527347         38   среднее             1   \n",
              "21524         2       -5.437007         40   среднее             1   \n",
              "\n",
              "          family_status  family_status_id gender income_type  debt  \\\n",
              "0       женат / замужем                 0      F   сотрудник     0   \n",
              "1       женат / замужем                 0      F   сотрудник     0   \n",
              "2       женат / замужем                 0      M   сотрудник     0   \n",
              "3       женат / замужем                 0      M   сотрудник     0   \n",
              "4      гражданский брак                 1      F   пенсионер     0   \n",
              "...                 ...               ...    ...         ...   ...   \n",
              "21520  гражданский брак                 1      F   компаньон     0   \n",
              "21521   женат / замужем                 0      F   пенсионер     0   \n",
              "21522  гражданский брак                 1      M   сотрудник     1   \n",
              "21523   женат / замужем                 0      M   сотрудник     1   \n",
              "21524   женат / замужем                 0      F   сотрудник     0   \n",
              "\n",
              "       month_income                       purpose  \n",
              "0        253.875639                 покупка жилья  \n",
              "1        112.080014       приобретение автомобиля  \n",
              "2        145.885952                 покупка жилья  \n",
              "3        267.628550    дополнительное образование  \n",
              "4        158.616078               сыграть свадьбу  \n",
              "...             ...                           ...  \n",
              "21520    224.791862             операции с жильем  \n",
              "21521    155.999807          сделка с автомобилем  \n",
              "21522     89.672561                  недвижимость  \n",
              "21523    244.093051  на покупку своего автомобиля  \n",
              "21524     82.047419         на покупку автомобиля  \n",
              "\n",
              "[21525 rows x 12 columns]"
            ]
          },
          "execution_count": 8,
          "metadata": {},
          "output_type": "execute_result"
        }
      ],
      "source": [
        "data"
      ]
    },
    {
      "cell_type": "markdown",
      "metadata": {
        "id": "Ac_cuRJyjs7Z"
      },
      "source": [
        "**Вывод**"
      ]
    },
    {
      "cell_type": "markdown",
      "metadata": {
        "id": "Lpz4akKcjs7Z"
      },
      "source": [
        "В выводах отражены наблюдения по каждому из столбцов таблицы:\n",
        "* ***children***: Минимальные значения(если их несколько), равные -1, следует исправить на 1, скорее всего человеческий фактор, просто ошиблись при вводе. Также следует выяснить причину возникновения максимального значения в 20 детей(возможно не является ошибкой, если случай единичный).\n",
        "* ***dob_years***: Минимальное значение возраста заемщика равно 0, следует исправить на среднее значение возраста заемщика(более детально подходить к замене 0 не вижу смысла, т.к. возраст не является релевантным признаком возврата кредита для заказчика в данной задаче). Также можно просто удалить по сути ненужную нам строку.\n",
        "* ***days_employed(years_employed)***: Название стобца было изменено, как и данные в нем, для удобства понимания данных и дальнейшей работы с ними. В данном столбце также присутствуют ошибки, предлагаю удалить и эту строку.\n",
        "* ***education***: Следует привести значения к нижнему регистру.\n",
        "* В строках ***education_id, family_status, family_status_id, gender, income_type, debt***: недочетов на данном этапе работы не обнаружено.\n",
        "* ***total_income(month_income)***: Название стобца было изменено, как и данные в нем, для удобства понимания данных и дальнейшей работы с ними. Также следует заменить тип данных в данном столбце.\n",
        "* ***purpose***: В дальнейшем требуется лемматизация для дальнейшей категоризации данных."
      ]
    },
    {
      "cell_type": "markdown",
      "metadata": {
        "id": "QdId2TT8js7a"
      },
      "source": [
        "## Шаг 2. Предобработка данных"
      ]
    },
    {
      "cell_type": "markdown",
      "metadata": {
        "id": "K1iVz3hWjs7a"
      },
      "source": [
        "### Обработка странных значений"
      ]
    },
    {
      "cell_type": "markdown",
      "metadata": {
        "id": "HUO4I_zzjs7a"
      },
      "source": [
        "На этапе озкомления с информацией были выявлены некоторые ошибки и недочеты в данных, пришло время их исправить."
      ]
    },
    {
      "cell_type": "markdown",
      "metadata": {
        "id": "qO97zrvcjs7b"
      },
      "source": [
        "Начнем с некоректных данных о количестве детей:  "
      ]
    },
    {
      "cell_type": "markdown",
      "metadata": {
        "id": "q4knYuM2js7b"
      },
      "source": [
        "Воспользуемся методом .value_counts(), для того, чтобы узнать количество строк таблицы для каждого уникального значения кол-ва детей:"
      ]
    },
    {
      "cell_type": "code",
      "execution_count": null,
      "metadata": {
        "id": "clnicf22js7b",
        "outputId": "d61d1e10-de04-4d6d-ab8b-3dbb92c10427"
      },
      "outputs": [
        {
          "data": {
            "text/plain": [
              " 0     14149\n",
              " 1      4818\n",
              " 2      2055\n",
              " 3       330\n",
              " 20       76\n",
              "-1        47\n",
              " 4        41\n",
              " 5         9\n",
              "Name: children, dtype: int64"
            ]
          },
          "execution_count": 9,
          "metadata": {},
          "output_type": "execute_result"
        }
      ],
      "source": [
        "data['children'].value_counts()"
      ]
    },
    {
      "cell_type": "markdown",
      "metadata": {
        "id": "X7ZhGZAcjs7b"
      },
      "source": [
        "Из полученных данных можно сделать вывод о том, что 20 детей, это ошибка, скорее всего вызванная человеческим фактором(слишком много заемщиков с 20 детьми).  \n",
        "Также можно вспомнить о том, что для нашей задачи существенным признаком является наличие ребенка, а не их количество, следовательно можно не менять значения равные 20, а вот значения равные -1 поменять на 1 нужно, для дальнейшей категоризации."
      ]
    },
    {
      "cell_type": "code",
      "execution_count": null,
      "metadata": {
        "id": "H4oqfDhBjs7c"
      },
      "outputs": [],
      "source": [
        "data = data.loc[data['children'] <= 5]\n",
        "data = data.loc[data['children'] >= 0]"
      ]
    },
    {
      "cell_type": "markdown",
      "metadata": {
        "id": "rzdQxM5ljs7c"
      },
      "source": [
        "Проверка полученных данных:"
      ]
    },
    {
      "cell_type": "code",
      "execution_count": null,
      "metadata": {
        "id": "jLpZZsk_js7c",
        "outputId": "0da9b248-8cff-4550-e756-d7a7ab3bfccf"
      },
      "outputs": [
        {
          "data": {
            "text/plain": [
              "0    14149\n",
              "1     4818\n",
              "2     2055\n",
              "3      330\n",
              "4       41\n",
              "5        9\n",
              "Name: children, dtype: int64"
            ]
          },
          "execution_count": 11,
          "metadata": {},
          "output_type": "execute_result"
        }
      ],
      "source": [
        "data['children'].value_counts()"
      ]
    },
    {
      "cell_type": "markdown",
      "metadata": {
        "id": "7bDyzTuajs7f"
      },
      "source": [
        "**Вывод**"
      ]
    },
    {
      "cell_type": "markdown",
      "metadata": {
        "id": "5CcJFyhXjs7f"
      },
      "source": [
        "В таблице были исправлены все странные значения и были удалены столбцы, не относящиеся к поставленной задаче."
      ]
    },
    {
      "cell_type": "markdown",
      "metadata": {
        "id": "kJRaQDLfjs7f"
      },
      "source": [
        "Также были замечены ошибки в столбце ***years_employed*** и в столбце ***dob_years***, но данные в них не помогут нам ответить на вопросы поставленные заказчиком, так что оставим данные без исправлений.  \n",
        "Если бы эти данные были важны, следовало бы решить проблемы с ними, а именно:\n",
        "* Найти причину отрицательных значений в столбце ***years_employed*** и скорее всего его по модулю\n",
        "* Найти причину и исправить значения равные 0 в столбце ***dob_years***"
      ]
    },
    {
      "cell_type": "markdown",
      "metadata": {
        "id": "G7XB74M9js7g"
      },
      "source": [
        "### Обработка пропусков"
      ]
    },
    {
      "cell_type": "markdown",
      "metadata": {
        "id": "nfW2vRb9js7g"
      },
      "source": [
        "Заменим отсутствующие данные о зарплате заемщика медианными значениями зарплаты по профессии заемщика."
      ]
    },
    {
      "cell_type": "markdown",
      "metadata": {
        "id": "Kr1TEIACjs7g"
      },
      "source": [
        "Для начала ознакомимся с данными:"
      ]
    },
    {
      "cell_type": "code",
      "execution_count": null,
      "metadata": {
        "id": "b3iyUdaBjs7g",
        "outputId": "e377e0fa-2a7f-4324-fa6f-7380241bb066"
      },
      "outputs": [
        {
          "data": {
            "text/plain": [
              "count    19240.000000\n",
              "mean       167.448790\n",
              "std        103.105123\n",
              "min         20.667264\n",
              "25%        103.000126\n",
              "50%        145.020801\n",
              "75%        203.444650\n",
              "max       2265.604029\n",
              "Name: month_income, dtype: float64"
            ]
          },
          "execution_count": 18,
          "metadata": {},
          "output_type": "execute_result"
        }
      ],
      "source": [
        "data['month_income'].describe()"
      ]
    },
    {
      "cell_type": "code",
      "execution_count": null,
      "metadata": {
        "id": "I2udTNjejs7g",
        "outputId": "1cf375e3-9033-4c90-f180-0a0e1a4b0fc4"
      },
      "outputs": [
        {
          "data": {
            "text/html": [
              "<div>\n",
              "<style scoped>\n",
              "    .dataframe tbody tr th:only-of-type {\n",
              "        vertical-align: middle;\n",
              "    }\n",
              "\n",
              "    .dataframe tbody tr th {\n",
              "        vertical-align: top;\n",
              "    }\n",
              "\n",
              "    .dataframe thead th {\n",
              "        text-align: right;\n",
              "    }\n",
              "</style>\n",
              "<table border=\"1\" class=\"dataframe\">\n",
              "  <thead>\n",
              "    <tr style=\"text-align: right;\">\n",
              "      <th></th>\n",
              "      <th>median</th>\n",
              "      <th>mean</th>\n",
              "    </tr>\n",
              "    <tr>\n",
              "      <th>income_type</th>\n",
              "      <th></th>\n",
              "      <th></th>\n",
              "    </tr>\n",
              "  </thead>\n",
              "  <tbody>\n",
              "    <tr>\n",
              "      <td>безработный</td>\n",
              "      <td>131.339752</td>\n",
              "      <td>131.339752</td>\n",
              "    </tr>\n",
              "    <tr>\n",
              "      <td>в декрете</td>\n",
              "      <td>53.829131</td>\n",
              "      <td>53.829131</td>\n",
              "    </tr>\n",
              "    <tr>\n",
              "      <td>госслужащий</td>\n",
              "      <td>150.420150</td>\n",
              "      <td>170.743143</td>\n",
              "    </tr>\n",
              "    <tr>\n",
              "      <td>компаньон</td>\n",
              "      <td>172.517419</td>\n",
              "      <td>202.585824</td>\n",
              "    </tr>\n",
              "    <tr>\n",
              "      <td>пенсионер</td>\n",
              "      <td>118.480837</td>\n",
              "      <td>137.198468</td>\n",
              "    </tr>\n",
              "    <tr>\n",
              "      <td>предприниматель</td>\n",
              "      <td>499.163145</td>\n",
              "      <td>499.163145</td>\n",
              "    </tr>\n",
              "    <tr>\n",
              "      <td>сотрудник</td>\n",
              "      <td>142.587589</td>\n",
              "      <td>161.365012</td>\n",
              "    </tr>\n",
              "    <tr>\n",
              "      <td>студент</td>\n",
              "      <td>98.201625</td>\n",
              "      <td>98.201625</td>\n",
              "    </tr>\n",
              "  </tbody>\n",
              "</table>\n",
              "</div>"
            ],
            "text/plain": [
              "                     median        mean\n",
              "income_type                            \n",
              "безработный      131.339752  131.339752\n",
              "в декрете         53.829131   53.829131\n",
              "госслужащий      150.420150  170.743143\n",
              "компаньон        172.517419  202.585824\n",
              "пенсионер        118.480837  137.198468\n",
              "предприниматель  499.163145  499.163145\n",
              "сотрудник        142.587589  161.365012\n",
              "студент           98.201625   98.201625"
            ]
          },
          "execution_count": 19,
          "metadata": {},
          "output_type": "execute_result"
        }
      ],
      "source": [
        "data.groupby('income_type')['month_income'].agg(['median', 'mean'])"
      ]
    },
    {
      "cell_type": "markdown",
      "metadata": {
        "id": "w8A-EauMjs7g"
      },
      "source": [
        "Была написана функция, для заполнения пропусков в данных медианным значением зарплаты по профессии заемщика:"
      ]
    },
    {
      "cell_type": "code",
      "execution_count": null,
      "metadata": {
        "id": "79kFPeNIjs7h"
      },
      "outputs": [],
      "source": [
        "def fill_missings_month_income(work_names):\n",
        "    for index in range(len(work_names)):\n",
        "        month_income_mean = data[data['income_type'] == work_names[index]]['month_income'].median()\n",
        "        data[data['income_type'] == work_names[index]] = data[data['income_type'] == work_names[index]].fillna(month_income_mean)\n",
        "    return data"
      ]
    },
    {
      "cell_type": "code",
      "execution_count": null,
      "metadata": {
        "scrolled": false,
        "id": "HOq9_jUrjs7h",
        "outputId": "f4804d7b-0283-4d8f-a932-5640647c8ab3"
      },
      "outputs": [
        {
          "data": {
            "text/html": [
              "<div>\n",
              "<style scoped>\n",
              "    .dataframe tbody tr th:only-of-type {\n",
              "        vertical-align: middle;\n",
              "    }\n",
              "\n",
              "    .dataframe tbody tr th {\n",
              "        vertical-align: top;\n",
              "    }\n",
              "\n",
              "    .dataframe thead th {\n",
              "        text-align: right;\n",
              "    }\n",
              "</style>\n",
              "<table border=\"1\" class=\"dataframe\">\n",
              "  <thead>\n",
              "    <tr style=\"text-align: right;\">\n",
              "      <th></th>\n",
              "      <th>children</th>\n",
              "      <th>years_employed</th>\n",
              "      <th>dob_years</th>\n",
              "      <th>education</th>\n",
              "      <th>education_id</th>\n",
              "      <th>family_status</th>\n",
              "      <th>family_status_id</th>\n",
              "      <th>gender</th>\n",
              "      <th>income_type</th>\n",
              "      <th>debt</th>\n",
              "      <th>month_income</th>\n",
              "      <th>purpose</th>\n",
              "    </tr>\n",
              "  </thead>\n",
              "  <tbody>\n",
              "    <tr>\n",
              "      <td>0</td>\n",
              "      <td>1</td>\n",
              "      <td>-23.116912</td>\n",
              "      <td>42</td>\n",
              "      <td>высшее</td>\n",
              "      <td>0</td>\n",
              "      <td>женат / замужем</td>\n",
              "      <td>0</td>\n",
              "      <td>F</td>\n",
              "      <td>сотрудник</td>\n",
              "      <td>0</td>\n",
              "      <td>253.875639</td>\n",
              "      <td>покупка жилья</td>\n",
              "    </tr>\n",
              "    <tr>\n",
              "      <td>1</td>\n",
              "      <td>1</td>\n",
              "      <td>-11.026860</td>\n",
              "      <td>36</td>\n",
              "      <td>среднее</td>\n",
              "      <td>1</td>\n",
              "      <td>женат / замужем</td>\n",
              "      <td>0</td>\n",
              "      <td>F</td>\n",
              "      <td>сотрудник</td>\n",
              "      <td>0</td>\n",
              "      <td>112.080014</td>\n",
              "      <td>приобретение автомобиля</td>\n",
              "    </tr>\n",
              "    <tr>\n",
              "      <td>2</td>\n",
              "      <td>0</td>\n",
              "      <td>-15.406637</td>\n",
              "      <td>33</td>\n",
              "      <td>Среднее</td>\n",
              "      <td>1</td>\n",
              "      <td>женат / замужем</td>\n",
              "      <td>0</td>\n",
              "      <td>M</td>\n",
              "      <td>сотрудник</td>\n",
              "      <td>0</td>\n",
              "      <td>145.885952</td>\n",
              "      <td>покупка жилья</td>\n",
              "    </tr>\n",
              "    <tr>\n",
              "      <td>3</td>\n",
              "      <td>3</td>\n",
              "      <td>-11.300677</td>\n",
              "      <td>32</td>\n",
              "      <td>среднее</td>\n",
              "      <td>1</td>\n",
              "      <td>женат / замужем</td>\n",
              "      <td>0</td>\n",
              "      <td>M</td>\n",
              "      <td>сотрудник</td>\n",
              "      <td>0</td>\n",
              "      <td>267.628550</td>\n",
              "      <td>дополнительное образование</td>\n",
              "    </tr>\n",
              "    <tr>\n",
              "      <td>4</td>\n",
              "      <td>0</td>\n",
              "      <td>932.235814</td>\n",
              "      <td>53</td>\n",
              "      <td>среднее</td>\n",
              "      <td>1</td>\n",
              "      <td>гражданский брак</td>\n",
              "      <td>1</td>\n",
              "      <td>F</td>\n",
              "      <td>пенсионер</td>\n",
              "      <td>0</td>\n",
              "      <td>158.616078</td>\n",
              "      <td>сыграть свадьбу</td>\n",
              "    </tr>\n",
              "    <tr>\n",
              "      <td>...</td>\n",
              "      <td>...</td>\n",
              "      <td>...</td>\n",
              "      <td>...</td>\n",
              "      <td>...</td>\n",
              "      <td>...</td>\n",
              "      <td>...</td>\n",
              "      <td>...</td>\n",
              "      <td>...</td>\n",
              "      <td>...</td>\n",
              "      <td>...</td>\n",
              "      <td>...</td>\n",
              "      <td>...</td>\n",
              "    </tr>\n",
              "    <tr>\n",
              "      <td>21520</td>\n",
              "      <td>1</td>\n",
              "      <td>-12.409087</td>\n",
              "      <td>43</td>\n",
              "      <td>среднее</td>\n",
              "      <td>1</td>\n",
              "      <td>гражданский брак</td>\n",
              "      <td>1</td>\n",
              "      <td>F</td>\n",
              "      <td>компаньон</td>\n",
              "      <td>0</td>\n",
              "      <td>224.791862</td>\n",
              "      <td>операции с жильем</td>\n",
              "    </tr>\n",
              "    <tr>\n",
              "      <td>21521</td>\n",
              "      <td>0</td>\n",
              "      <td>942.294258</td>\n",
              "      <td>67</td>\n",
              "      <td>среднее</td>\n",
              "      <td>1</td>\n",
              "      <td>женат / замужем</td>\n",
              "      <td>0</td>\n",
              "      <td>F</td>\n",
              "      <td>пенсионер</td>\n",
              "      <td>0</td>\n",
              "      <td>155.999807</td>\n",
              "      <td>сделка с автомобилем</td>\n",
              "    </tr>\n",
              "    <tr>\n",
              "      <td>21522</td>\n",
              "      <td>1</td>\n",
              "      <td>-5.789991</td>\n",
              "      <td>38</td>\n",
              "      <td>среднее</td>\n",
              "      <td>1</td>\n",
              "      <td>гражданский брак</td>\n",
              "      <td>1</td>\n",
              "      <td>M</td>\n",
              "      <td>сотрудник</td>\n",
              "      <td>1</td>\n",
              "      <td>89.672561</td>\n",
              "      <td>недвижимость</td>\n",
              "    </tr>\n",
              "    <tr>\n",
              "      <td>21523</td>\n",
              "      <td>3</td>\n",
              "      <td>-8.527347</td>\n",
              "      <td>38</td>\n",
              "      <td>среднее</td>\n",
              "      <td>1</td>\n",
              "      <td>женат / замужем</td>\n",
              "      <td>0</td>\n",
              "      <td>M</td>\n",
              "      <td>сотрудник</td>\n",
              "      <td>1</td>\n",
              "      <td>244.093051</td>\n",
              "      <td>на покупку своего автомобиля</td>\n",
              "    </tr>\n",
              "    <tr>\n",
              "      <td>21524</td>\n",
              "      <td>2</td>\n",
              "      <td>-5.437007</td>\n",
              "      <td>40</td>\n",
              "      <td>среднее</td>\n",
              "      <td>1</td>\n",
              "      <td>женат / замужем</td>\n",
              "      <td>0</td>\n",
              "      <td>F</td>\n",
              "      <td>сотрудник</td>\n",
              "      <td>0</td>\n",
              "      <td>82.047419</td>\n",
              "      <td>на покупку автомобиля</td>\n",
              "    </tr>\n",
              "  </tbody>\n",
              "</table>\n",
              "<p>21402 rows × 12 columns</p>\n",
              "</div>"
            ],
            "text/plain": [
              "       children  years_employed  dob_years education  education_id  \\\n",
              "0             1      -23.116912         42    высшее             0   \n",
              "1             1      -11.026860         36   среднее             1   \n",
              "2             0      -15.406637         33   Среднее             1   \n",
              "3             3      -11.300677         32   среднее             1   \n",
              "4             0      932.235814         53   среднее             1   \n",
              "...         ...             ...        ...       ...           ...   \n",
              "21520         1      -12.409087         43   среднее             1   \n",
              "21521         0      942.294258         67   среднее             1   \n",
              "21522         1       -5.789991         38   среднее             1   \n",
              "21523         3       -8.527347         38   среднее             1   \n",
              "21524         2       -5.437007         40   среднее             1   \n",
              "\n",
              "          family_status  family_status_id gender income_type  debt  \\\n",
              "0       женат / замужем                 0      F   сотрудник     0   \n",
              "1       женат / замужем                 0      F   сотрудник     0   \n",
              "2       женат / замужем                 0      M   сотрудник     0   \n",
              "3       женат / замужем                 0      M   сотрудник     0   \n",
              "4      гражданский брак                 1      F   пенсионер     0   \n",
              "...                 ...               ...    ...         ...   ...   \n",
              "21520  гражданский брак                 1      F   компаньон     0   \n",
              "21521   женат / замужем                 0      F   пенсионер     0   \n",
              "21522  гражданский брак                 1      M   сотрудник     1   \n",
              "21523   женат / замужем                 0      M   сотрудник     1   \n",
              "21524   женат / замужем                 0      F   сотрудник     0   \n",
              "\n",
              "       month_income                       purpose  \n",
              "0        253.875639                 покупка жилья  \n",
              "1        112.080014       приобретение автомобиля  \n",
              "2        145.885952                 покупка жилья  \n",
              "3        267.628550    дополнительное образование  \n",
              "4        158.616078               сыграть свадьбу  \n",
              "...             ...                           ...  \n",
              "21520    224.791862             операции с жильем  \n",
              "21521    155.999807          сделка с автомобилем  \n",
              "21522     89.672561                  недвижимость  \n",
              "21523    244.093051  на покупку своего автомобиля  \n",
              "21524     82.047419         на покупку автомобиля  \n",
              "\n",
              "[21402 rows x 12 columns]"
            ]
          },
          "execution_count": 21,
          "metadata": {},
          "output_type": "execute_result"
        }
      ],
      "source": [
        "income_types = data['income_type'].unique()\n",
        "fill_missings_month_income(income_types)"
      ]
    },
    {
      "cell_type": "markdown",
      "metadata": {
        "id": "btXESddrjs7h"
      },
      "source": [
        "Проверка данных и ознакомление с новыми значениями зарплат по профессиям:"
      ]
    },
    {
      "cell_type": "code",
      "execution_count": null,
      "metadata": {
        "id": "BU31yUhOjs7h",
        "outputId": "9b0c5a00-c68f-4f11-d0f5-0b6a7382baa6"
      },
      "outputs": [
        {
          "name": "stdout",
          "output_type": "stream",
          "text": [
            "<class 'pandas.core.frame.DataFrame'>\n",
            "Int64Index: 21402 entries, 0 to 21524\n",
            "Data columns (total 12 columns):\n",
            "children            21402 non-null int64\n",
            "years_employed      21402 non-null float64\n",
            "dob_years           21402 non-null int64\n",
            "education           21402 non-null object\n",
            "education_id        21402 non-null int64\n",
            "family_status       21402 non-null object\n",
            "family_status_id    21402 non-null int64\n",
            "gender              21402 non-null object\n",
            "income_type         21402 non-null object\n",
            "debt                21402 non-null int64\n",
            "month_income        21402 non-null float64\n",
            "purpose             21402 non-null object\n",
            "dtypes: float64(2), int64(5), object(5)\n",
            "memory usage: 2.7+ MB\n"
          ]
        }
      ],
      "source": [
        "data.info()"
      ]
    },
    {
      "cell_type": "code",
      "execution_count": null,
      "metadata": {
        "id": "t1am0Oa9js7h",
        "outputId": "d3a5138d-c035-440d-923d-a989d6d17e65"
      },
      "outputs": [
        {
          "data": {
            "text/html": [
              "<div>\n",
              "<style scoped>\n",
              "    .dataframe tbody tr th:only-of-type {\n",
              "        vertical-align: middle;\n",
              "    }\n",
              "\n",
              "    .dataframe tbody tr th {\n",
              "        vertical-align: top;\n",
              "    }\n",
              "\n",
              "    .dataframe thead th {\n",
              "        text-align: right;\n",
              "    }\n",
              "</style>\n",
              "<table border=\"1\" class=\"dataframe\">\n",
              "  <thead>\n",
              "    <tr style=\"text-align: right;\">\n",
              "      <th></th>\n",
              "      <th>median</th>\n",
              "      <th>mean</th>\n",
              "    </tr>\n",
              "    <tr>\n",
              "      <th>income_type</th>\n",
              "      <th></th>\n",
              "      <th></th>\n",
              "    </tr>\n",
              "  </thead>\n",
              "  <tbody>\n",
              "    <tr>\n",
              "      <td>безработный</td>\n",
              "      <td>131.339752</td>\n",
              "      <td>131.339752</td>\n",
              "    </tr>\n",
              "    <tr>\n",
              "      <td>в декрете</td>\n",
              "      <td>53.829131</td>\n",
              "      <td>53.829131</td>\n",
              "    </tr>\n",
              "    <tr>\n",
              "      <td>госслужащий</td>\n",
              "      <td>150.420150</td>\n",
              "      <td>168.701053</td>\n",
              "    </tr>\n",
              "    <tr>\n",
              "      <td>компаньон</td>\n",
              "      <td>172.517419</td>\n",
              "      <td>199.587312</td>\n",
              "    </tr>\n",
              "    <tr>\n",
              "      <td>пенсионер</td>\n",
              "      <td>118.480837</td>\n",
              "      <td>135.199451</td>\n",
              "    </tr>\n",
              "    <tr>\n",
              "      <td>предприниматель</td>\n",
              "      <td>499.163145</td>\n",
              "      <td>499.163145</td>\n",
              "    </tr>\n",
              "    <tr>\n",
              "      <td>сотрудник</td>\n",
              "      <td>142.587589</td>\n",
              "      <td>159.494067</td>\n",
              "    </tr>\n",
              "    <tr>\n",
              "      <td>студент</td>\n",
              "      <td>98.201625</td>\n",
              "      <td>98.201625</td>\n",
              "    </tr>\n",
              "  </tbody>\n",
              "</table>\n",
              "</div>"
            ],
            "text/plain": [
              "                     median        mean\n",
              "income_type                            \n",
              "безработный      131.339752  131.339752\n",
              "в декрете         53.829131   53.829131\n",
              "госслужащий      150.420150  168.701053\n",
              "компаньон        172.517419  199.587312\n",
              "пенсионер        118.480837  135.199451\n",
              "предприниматель  499.163145  499.163145\n",
              "сотрудник        142.587589  159.494067\n",
              "студент           98.201625   98.201625"
            ]
          },
          "execution_count": 23,
          "metadata": {},
          "output_type": "execute_result"
        }
      ],
      "source": [
        " data.groupby('income_type')['month_income'].agg(['median', 'mean'])"
      ]
    },
    {
      "cell_type": "markdown",
      "metadata": {
        "id": "ubO22JWDjs7i"
      },
      "source": [
        "**Вывод**"
      ]
    },
    {
      "cell_type": "markdown",
      "metadata": {
        "id": "BZ2CMdXzjs7i"
      },
      "source": [
        "В таблице были заменены все пропуски в значения зарплат заемщиков на медианные значения зарплат по профессии заемщика."
      ]
    },
    {
      "cell_type": "markdown",
      "metadata": {
        "id": "c_dC3swBjs7i"
      },
      "source": [
        "### Замена типа данных"
      ]
    },
    {
      "cell_type": "markdown",
      "metadata": {
        "id": "0ktSfJxfjs7i"
      },
      "source": [
        "При онакомлении с данными был сделан вывод о том, что следует заменить тип данных с строке ***month_income*** и ***years_employed*** с *float* на *int*:"
      ]
    },
    {
      "cell_type": "code",
      "execution_count": null,
      "metadata": {
        "id": "nNUY6ayOjs7i",
        "outputId": "86371114-2f52-4de9-c802-51b607ed80c3"
      },
      "outputs": [
        {
          "name": "stdout",
          "output_type": "stream",
          "text": [
            "<class 'pandas.core.frame.DataFrame'>\n",
            "Int64Index: 21402 entries, 0 to 21524\n",
            "Data columns (total 12 columns):\n",
            "children            21402 non-null int64\n",
            "years_employed      21402 non-null int64\n",
            "dob_years           21402 non-null int64\n",
            "education           21402 non-null object\n",
            "education_id        21402 non-null int64\n",
            "family_status       21402 non-null object\n",
            "family_status_id    21402 non-null int64\n",
            "gender              21402 non-null object\n",
            "income_type         21402 non-null object\n",
            "debt                21402 non-null int64\n",
            "month_income        21402 non-null int64\n",
            "purpose             21402 non-null object\n",
            "dtypes: int64(7), object(5)\n",
            "memory usage: 2.7+ MB\n"
          ]
        }
      ],
      "source": [
        "data['month_income'] = data['month_income'].astype('int')\n",
        "data['years_employed'] = data['years_employed'].astype('int')\n",
        "data.info()"
      ]
    },
    {
      "cell_type": "markdown",
      "metadata": {
        "id": "wYIt0LYIjs7j"
      },
      "source": [
        "Проверка данных:"
      ]
    },
    {
      "cell_type": "code",
      "execution_count": null,
      "metadata": {
        "id": "UU8qzKzqjs7j",
        "outputId": "e6aeb118-94cd-48de-acb4-dc3f7ba017e9"
      },
      "outputs": [
        {
          "data": {
            "text/html": [
              "<div>\n",
              "<style scoped>\n",
              "    .dataframe tbody tr th:only-of-type {\n",
              "        vertical-align: middle;\n",
              "    }\n",
              "\n",
              "    .dataframe tbody tr th {\n",
              "        vertical-align: top;\n",
              "    }\n",
              "\n",
              "    .dataframe thead th {\n",
              "        text-align: right;\n",
              "    }\n",
              "</style>\n",
              "<table border=\"1\" class=\"dataframe\">\n",
              "  <thead>\n",
              "    <tr style=\"text-align: right;\">\n",
              "      <th></th>\n",
              "      <th>children</th>\n",
              "      <th>years_employed</th>\n",
              "      <th>dob_years</th>\n",
              "      <th>education</th>\n",
              "      <th>education_id</th>\n",
              "      <th>family_status</th>\n",
              "      <th>family_status_id</th>\n",
              "      <th>gender</th>\n",
              "      <th>income_type</th>\n",
              "      <th>debt</th>\n",
              "      <th>month_income</th>\n",
              "      <th>purpose</th>\n",
              "    </tr>\n",
              "  </thead>\n",
              "  <tbody>\n",
              "    <tr>\n",
              "      <td>0</td>\n",
              "      <td>1</td>\n",
              "      <td>-23</td>\n",
              "      <td>42</td>\n",
              "      <td>высшее</td>\n",
              "      <td>0</td>\n",
              "      <td>женат / замужем</td>\n",
              "      <td>0</td>\n",
              "      <td>F</td>\n",
              "      <td>сотрудник</td>\n",
              "      <td>0</td>\n",
              "      <td>253</td>\n",
              "      <td>покупка жилья</td>\n",
              "    </tr>\n",
              "    <tr>\n",
              "      <td>1</td>\n",
              "      <td>1</td>\n",
              "      <td>-11</td>\n",
              "      <td>36</td>\n",
              "      <td>среднее</td>\n",
              "      <td>1</td>\n",
              "      <td>женат / замужем</td>\n",
              "      <td>0</td>\n",
              "      <td>F</td>\n",
              "      <td>сотрудник</td>\n",
              "      <td>0</td>\n",
              "      <td>112</td>\n",
              "      <td>приобретение автомобиля</td>\n",
              "    </tr>\n",
              "    <tr>\n",
              "      <td>2</td>\n",
              "      <td>0</td>\n",
              "      <td>-15</td>\n",
              "      <td>33</td>\n",
              "      <td>Среднее</td>\n",
              "      <td>1</td>\n",
              "      <td>женат / замужем</td>\n",
              "      <td>0</td>\n",
              "      <td>M</td>\n",
              "      <td>сотрудник</td>\n",
              "      <td>0</td>\n",
              "      <td>145</td>\n",
              "      <td>покупка жилья</td>\n",
              "    </tr>\n",
              "    <tr>\n",
              "      <td>3</td>\n",
              "      <td>3</td>\n",
              "      <td>-11</td>\n",
              "      <td>32</td>\n",
              "      <td>среднее</td>\n",
              "      <td>1</td>\n",
              "      <td>женат / замужем</td>\n",
              "      <td>0</td>\n",
              "      <td>M</td>\n",
              "      <td>сотрудник</td>\n",
              "      <td>0</td>\n",
              "      <td>267</td>\n",
              "      <td>дополнительное образование</td>\n",
              "    </tr>\n",
              "    <tr>\n",
              "      <td>4</td>\n",
              "      <td>0</td>\n",
              "      <td>932</td>\n",
              "      <td>53</td>\n",
              "      <td>среднее</td>\n",
              "      <td>1</td>\n",
              "      <td>гражданский брак</td>\n",
              "      <td>1</td>\n",
              "      <td>F</td>\n",
              "      <td>пенсионер</td>\n",
              "      <td>0</td>\n",
              "      <td>158</td>\n",
              "      <td>сыграть свадьбу</td>\n",
              "    </tr>\n",
              "    <tr>\n",
              "      <td>...</td>\n",
              "      <td>...</td>\n",
              "      <td>...</td>\n",
              "      <td>...</td>\n",
              "      <td>...</td>\n",
              "      <td>...</td>\n",
              "      <td>...</td>\n",
              "      <td>...</td>\n",
              "      <td>...</td>\n",
              "      <td>...</td>\n",
              "      <td>...</td>\n",
              "      <td>...</td>\n",
              "      <td>...</td>\n",
              "    </tr>\n",
              "    <tr>\n",
              "      <td>21520</td>\n",
              "      <td>1</td>\n",
              "      <td>-12</td>\n",
              "      <td>43</td>\n",
              "      <td>среднее</td>\n",
              "      <td>1</td>\n",
              "      <td>гражданский брак</td>\n",
              "      <td>1</td>\n",
              "      <td>F</td>\n",
              "      <td>компаньон</td>\n",
              "      <td>0</td>\n",
              "      <td>224</td>\n",
              "      <td>операции с жильем</td>\n",
              "    </tr>\n",
              "    <tr>\n",
              "      <td>21521</td>\n",
              "      <td>0</td>\n",
              "      <td>942</td>\n",
              "      <td>67</td>\n",
              "      <td>среднее</td>\n",
              "      <td>1</td>\n",
              "      <td>женат / замужем</td>\n",
              "      <td>0</td>\n",
              "      <td>F</td>\n",
              "      <td>пенсионер</td>\n",
              "      <td>0</td>\n",
              "      <td>155</td>\n",
              "      <td>сделка с автомобилем</td>\n",
              "    </tr>\n",
              "    <tr>\n",
              "      <td>21522</td>\n",
              "      <td>1</td>\n",
              "      <td>-5</td>\n",
              "      <td>38</td>\n",
              "      <td>среднее</td>\n",
              "      <td>1</td>\n",
              "      <td>гражданский брак</td>\n",
              "      <td>1</td>\n",
              "      <td>M</td>\n",
              "      <td>сотрудник</td>\n",
              "      <td>1</td>\n",
              "      <td>89</td>\n",
              "      <td>недвижимость</td>\n",
              "    </tr>\n",
              "    <tr>\n",
              "      <td>21523</td>\n",
              "      <td>3</td>\n",
              "      <td>-8</td>\n",
              "      <td>38</td>\n",
              "      <td>среднее</td>\n",
              "      <td>1</td>\n",
              "      <td>женат / замужем</td>\n",
              "      <td>0</td>\n",
              "      <td>M</td>\n",
              "      <td>сотрудник</td>\n",
              "      <td>1</td>\n",
              "      <td>244</td>\n",
              "      <td>на покупку своего автомобиля</td>\n",
              "    </tr>\n",
              "    <tr>\n",
              "      <td>21524</td>\n",
              "      <td>2</td>\n",
              "      <td>-5</td>\n",
              "      <td>40</td>\n",
              "      <td>среднее</td>\n",
              "      <td>1</td>\n",
              "      <td>женат / замужем</td>\n",
              "      <td>0</td>\n",
              "      <td>F</td>\n",
              "      <td>сотрудник</td>\n",
              "      <td>0</td>\n",
              "      <td>82</td>\n",
              "      <td>на покупку автомобиля</td>\n",
              "    </tr>\n",
              "  </tbody>\n",
              "</table>\n",
              "<p>21402 rows × 12 columns</p>\n",
              "</div>"
            ],
            "text/plain": [
              "       children  years_employed  dob_years education  education_id  \\\n",
              "0             1             -23         42    высшее             0   \n",
              "1             1             -11         36   среднее             1   \n",
              "2             0             -15         33   Среднее             1   \n",
              "3             3             -11         32   среднее             1   \n",
              "4             0             932         53   среднее             1   \n",
              "...         ...             ...        ...       ...           ...   \n",
              "21520         1             -12         43   среднее             1   \n",
              "21521         0             942         67   среднее             1   \n",
              "21522         1              -5         38   среднее             1   \n",
              "21523         3              -8         38   среднее             1   \n",
              "21524         2              -5         40   среднее             1   \n",
              "\n",
              "          family_status  family_status_id gender income_type  debt  \\\n",
              "0       женат / замужем                 0      F   сотрудник     0   \n",
              "1       женат / замужем                 0      F   сотрудник     0   \n",
              "2       женат / замужем                 0      M   сотрудник     0   \n",
              "3       женат / замужем                 0      M   сотрудник     0   \n",
              "4      гражданский брак                 1      F   пенсионер     0   \n",
              "...                 ...               ...    ...         ...   ...   \n",
              "21520  гражданский брак                 1      F   компаньон     0   \n",
              "21521   женат / замужем                 0      F   пенсионер     0   \n",
              "21522  гражданский брак                 1      M   сотрудник     1   \n",
              "21523   женат / замужем                 0      M   сотрудник     1   \n",
              "21524   женат / замужем                 0      F   сотрудник     0   \n",
              "\n",
              "       month_income                       purpose  \n",
              "0               253                 покупка жилья  \n",
              "1               112       приобретение автомобиля  \n",
              "2               145                 покупка жилья  \n",
              "3               267    дополнительное образование  \n",
              "4               158               сыграть свадьбу  \n",
              "...             ...                           ...  \n",
              "21520           224             операции с жильем  \n",
              "21521           155          сделка с автомобилем  \n",
              "21522            89                  недвижимость  \n",
              "21523           244  на покупку своего автомобиля  \n",
              "21524            82         на покупку автомобиля  \n",
              "\n",
              "[21402 rows x 12 columns]"
            ]
          },
          "execution_count": 25,
          "metadata": {},
          "output_type": "execute_result"
        }
      ],
      "source": [
        "data"
      ]
    },
    {
      "cell_type": "markdown",
      "metadata": {
        "id": "A-JKpDmijs7j"
      },
      "source": [
        "**Вывод**"
      ]
    },
    {
      "cell_type": "markdown",
      "metadata": {
        "id": "Pm6GLocejs7j"
      },
      "source": [
        "Был заменен тип данных в строке ***month_income*** и ***years_employed***."
      ]
    },
    {
      "cell_type": "markdown",
      "metadata": {
        "id": "IS63PbIVjs7j"
      },
      "source": [
        "### Обработка дубликатов"
      ]
    },
    {
      "cell_type": "markdown",
      "metadata": {
        "id": "x4KPeeErjs7k"
      },
      "source": [
        "Найдем и удалим все дубликаты в таблице:"
      ]
    },
    {
      "cell_type": "markdown",
      "metadata": {
        "id": "EGy6D6bPjs7k"
      },
      "source": [
        "Исправим значения в столбце ***education***"
      ]
    },
    {
      "cell_type": "code",
      "execution_count": null,
      "metadata": {
        "id": "n-0qs4zvjs7k"
      },
      "outputs": [],
      "source": [
        "data['education'] = data['education'].str.lower()"
      ]
    },
    {
      "cell_type": "markdown",
      "metadata": {
        "id": "k7UkUaYUjs7k"
      },
      "source": [
        "Проверим данные:"
      ]
    },
    {
      "cell_type": "code",
      "execution_count": null,
      "metadata": {
        "id": "z17XqnyIjs7k",
        "outputId": "eb256965-0564-4364-85d4-35f3ba80be0b"
      },
      "outputs": [
        {
          "data": {
            "text/html": [
              "<div>\n",
              "<style scoped>\n",
              "    .dataframe tbody tr th:only-of-type {\n",
              "        vertical-align: middle;\n",
              "    }\n",
              "\n",
              "    .dataframe tbody tr th {\n",
              "        vertical-align: top;\n",
              "    }\n",
              "\n",
              "    .dataframe thead th {\n",
              "        text-align: right;\n",
              "    }\n",
              "</style>\n",
              "<table border=\"1\" class=\"dataframe\">\n",
              "  <thead>\n",
              "    <tr style=\"text-align: right;\">\n",
              "      <th></th>\n",
              "      <th>children</th>\n",
              "      <th>years_employed</th>\n",
              "      <th>dob_years</th>\n",
              "      <th>education</th>\n",
              "      <th>education_id</th>\n",
              "      <th>family_status</th>\n",
              "      <th>family_status_id</th>\n",
              "      <th>gender</th>\n",
              "      <th>income_type</th>\n",
              "      <th>debt</th>\n",
              "      <th>month_income</th>\n",
              "      <th>purpose</th>\n",
              "    </tr>\n",
              "  </thead>\n",
              "  <tbody>\n",
              "    <tr>\n",
              "      <td>0</td>\n",
              "      <td>1</td>\n",
              "      <td>-23</td>\n",
              "      <td>42</td>\n",
              "      <td>высшее</td>\n",
              "      <td>0</td>\n",
              "      <td>женат / замужем</td>\n",
              "      <td>0</td>\n",
              "      <td>F</td>\n",
              "      <td>сотрудник</td>\n",
              "      <td>0</td>\n",
              "      <td>253</td>\n",
              "      <td>покупка жилья</td>\n",
              "    </tr>\n",
              "    <tr>\n",
              "      <td>1</td>\n",
              "      <td>1</td>\n",
              "      <td>-11</td>\n",
              "      <td>36</td>\n",
              "      <td>среднее</td>\n",
              "      <td>1</td>\n",
              "      <td>женат / замужем</td>\n",
              "      <td>0</td>\n",
              "      <td>F</td>\n",
              "      <td>сотрудник</td>\n",
              "      <td>0</td>\n",
              "      <td>112</td>\n",
              "      <td>приобретение автомобиля</td>\n",
              "    </tr>\n",
              "    <tr>\n",
              "      <td>2</td>\n",
              "      <td>0</td>\n",
              "      <td>-15</td>\n",
              "      <td>33</td>\n",
              "      <td>среднее</td>\n",
              "      <td>1</td>\n",
              "      <td>женат / замужем</td>\n",
              "      <td>0</td>\n",
              "      <td>M</td>\n",
              "      <td>сотрудник</td>\n",
              "      <td>0</td>\n",
              "      <td>145</td>\n",
              "      <td>покупка жилья</td>\n",
              "    </tr>\n",
              "    <tr>\n",
              "      <td>3</td>\n",
              "      <td>3</td>\n",
              "      <td>-11</td>\n",
              "      <td>32</td>\n",
              "      <td>среднее</td>\n",
              "      <td>1</td>\n",
              "      <td>женат / замужем</td>\n",
              "      <td>0</td>\n",
              "      <td>M</td>\n",
              "      <td>сотрудник</td>\n",
              "      <td>0</td>\n",
              "      <td>267</td>\n",
              "      <td>дополнительное образование</td>\n",
              "    </tr>\n",
              "    <tr>\n",
              "      <td>4</td>\n",
              "      <td>0</td>\n",
              "      <td>932</td>\n",
              "      <td>53</td>\n",
              "      <td>среднее</td>\n",
              "      <td>1</td>\n",
              "      <td>гражданский брак</td>\n",
              "      <td>1</td>\n",
              "      <td>F</td>\n",
              "      <td>пенсионер</td>\n",
              "      <td>0</td>\n",
              "      <td>158</td>\n",
              "      <td>сыграть свадьбу</td>\n",
              "    </tr>\n",
              "    <tr>\n",
              "      <td>...</td>\n",
              "      <td>...</td>\n",
              "      <td>...</td>\n",
              "      <td>...</td>\n",
              "      <td>...</td>\n",
              "      <td>...</td>\n",
              "      <td>...</td>\n",
              "      <td>...</td>\n",
              "      <td>...</td>\n",
              "      <td>...</td>\n",
              "      <td>...</td>\n",
              "      <td>...</td>\n",
              "      <td>...</td>\n",
              "    </tr>\n",
              "    <tr>\n",
              "      <td>21520</td>\n",
              "      <td>1</td>\n",
              "      <td>-12</td>\n",
              "      <td>43</td>\n",
              "      <td>среднее</td>\n",
              "      <td>1</td>\n",
              "      <td>гражданский брак</td>\n",
              "      <td>1</td>\n",
              "      <td>F</td>\n",
              "      <td>компаньон</td>\n",
              "      <td>0</td>\n",
              "      <td>224</td>\n",
              "      <td>операции с жильем</td>\n",
              "    </tr>\n",
              "    <tr>\n",
              "      <td>21521</td>\n",
              "      <td>0</td>\n",
              "      <td>942</td>\n",
              "      <td>67</td>\n",
              "      <td>среднее</td>\n",
              "      <td>1</td>\n",
              "      <td>женат / замужем</td>\n",
              "      <td>0</td>\n",
              "      <td>F</td>\n",
              "      <td>пенсионер</td>\n",
              "      <td>0</td>\n",
              "      <td>155</td>\n",
              "      <td>сделка с автомобилем</td>\n",
              "    </tr>\n",
              "    <tr>\n",
              "      <td>21522</td>\n",
              "      <td>1</td>\n",
              "      <td>-5</td>\n",
              "      <td>38</td>\n",
              "      <td>среднее</td>\n",
              "      <td>1</td>\n",
              "      <td>гражданский брак</td>\n",
              "      <td>1</td>\n",
              "      <td>M</td>\n",
              "      <td>сотрудник</td>\n",
              "      <td>1</td>\n",
              "      <td>89</td>\n",
              "      <td>недвижимость</td>\n",
              "    </tr>\n",
              "    <tr>\n",
              "      <td>21523</td>\n",
              "      <td>3</td>\n",
              "      <td>-8</td>\n",
              "      <td>38</td>\n",
              "      <td>среднее</td>\n",
              "      <td>1</td>\n",
              "      <td>женат / замужем</td>\n",
              "      <td>0</td>\n",
              "      <td>M</td>\n",
              "      <td>сотрудник</td>\n",
              "      <td>1</td>\n",
              "      <td>244</td>\n",
              "      <td>на покупку своего автомобиля</td>\n",
              "    </tr>\n",
              "    <tr>\n",
              "      <td>21524</td>\n",
              "      <td>2</td>\n",
              "      <td>-5</td>\n",
              "      <td>40</td>\n",
              "      <td>среднее</td>\n",
              "      <td>1</td>\n",
              "      <td>женат / замужем</td>\n",
              "      <td>0</td>\n",
              "      <td>F</td>\n",
              "      <td>сотрудник</td>\n",
              "      <td>0</td>\n",
              "      <td>82</td>\n",
              "      <td>на покупку автомобиля</td>\n",
              "    </tr>\n",
              "  </tbody>\n",
              "</table>\n",
              "<p>21402 rows × 12 columns</p>\n",
              "</div>"
            ],
            "text/plain": [
              "       children  years_employed  dob_years education  education_id  \\\n",
              "0             1             -23         42    высшее             0   \n",
              "1             1             -11         36   среднее             1   \n",
              "2             0             -15         33   среднее             1   \n",
              "3             3             -11         32   среднее             1   \n",
              "4             0             932         53   среднее             1   \n",
              "...         ...             ...        ...       ...           ...   \n",
              "21520         1             -12         43   среднее             1   \n",
              "21521         0             942         67   среднее             1   \n",
              "21522         1              -5         38   среднее             1   \n",
              "21523         3              -8         38   среднее             1   \n",
              "21524         2              -5         40   среднее             1   \n",
              "\n",
              "          family_status  family_status_id gender income_type  debt  \\\n",
              "0       женат / замужем                 0      F   сотрудник     0   \n",
              "1       женат / замужем                 0      F   сотрудник     0   \n",
              "2       женат / замужем                 0      M   сотрудник     0   \n",
              "3       женат / замужем                 0      M   сотрудник     0   \n",
              "4      гражданский брак                 1      F   пенсионер     0   \n",
              "...                 ...               ...    ...         ...   ...   \n",
              "21520  гражданский брак                 1      F   компаньон     0   \n",
              "21521   женат / замужем                 0      F   пенсионер     0   \n",
              "21522  гражданский брак                 1      M   сотрудник     1   \n",
              "21523   женат / замужем                 0      M   сотрудник     1   \n",
              "21524   женат / замужем                 0      F   сотрудник     0   \n",
              "\n",
              "       month_income                       purpose  \n",
              "0               253                 покупка жилья  \n",
              "1               112       приобретение автомобиля  \n",
              "2               145                 покупка жилья  \n",
              "3               267    дополнительное образование  \n",
              "4               158               сыграть свадьбу  \n",
              "...             ...                           ...  \n",
              "21520           224             операции с жильем  \n",
              "21521           155          сделка с автомобилем  \n",
              "21522            89                  недвижимость  \n",
              "21523           244  на покупку своего автомобиля  \n",
              "21524            82         на покупку автомобиля  \n",
              "\n",
              "[21402 rows x 12 columns]"
            ]
          },
          "execution_count": 27,
          "metadata": {},
          "output_type": "execute_result"
        }
      ],
      "source": [
        "data"
      ]
    },
    {
      "cell_type": "markdown",
      "metadata": {
        "id": "rxQjjITGjs7l"
      },
      "source": [
        "Для начала найдем количество дубликатов сочетанием методов .duplicated() и .sum():"
      ]
    },
    {
      "cell_type": "code",
      "execution_count": null,
      "metadata": {
        "id": "hI2yEqdNjs7l",
        "outputId": "92d2cbbb-0533-4a72-9807-176b0507a429"
      },
      "outputs": [
        {
          "data": {
            "text/plain": [
              "72"
            ]
          },
          "execution_count": 28,
          "metadata": {},
          "output_type": "execute_result"
        }
      ],
      "source": [
        "data.duplicated().sum()"
      ]
    },
    {
      "cell_type": "markdown",
      "metadata": {
        "id": "Nlv-WvMIjs7l"
      },
      "source": [
        "Удалим дубликаты методом drop_duplicates():"
      ]
    },
    {
      "cell_type": "code",
      "execution_count": null,
      "metadata": {
        "id": "CJx-JUZ7js7l"
      },
      "outputs": [],
      "source": [
        "data = data.drop_duplicates().reset_index(drop = True)"
      ]
    },
    {
      "cell_type": "markdown",
      "metadata": {
        "id": "OdyHVH99js7l"
      },
      "source": [
        "Проверка данных:"
      ]
    },
    {
      "cell_type": "code",
      "execution_count": null,
      "metadata": {
        "id": "pC5IWqasjs7l"
      },
      "outputs": [],
      "source": [
        "data.duplicated().sum()"
      ]
    },
    {
      "cell_type": "markdown",
      "metadata": {
        "id": "f1YljA79js7l"
      },
      "source": [
        "**Вывод**"
      ]
    },
    {
      "cell_type": "markdown",
      "metadata": {
        "id": "eeuoJjnEjs7m"
      },
      "source": [
        "В данных были удалены все дубликаты."
      ]
    },
    {
      "cell_type": "markdown",
      "metadata": {
        "id": "IauTOjn3js7m"
      },
      "source": [
        "### Лемматизация"
      ]
    },
    {
      "cell_type": "markdown",
      "metadata": {
        "id": "FJPB5iqDjs7m"
      },
      "source": [
        "Для дальнейшей категоризации данных по цели кредита, необходимо лемматизировать столбец ***'purpose'***:"
      ]
    },
    {
      "cell_type": "code",
      "execution_count": null,
      "metadata": {
        "scrolled": true,
        "id": "EMCjmaXejs7m"
      },
      "outputs": [],
      "source": [
        "lemmas_list = []\n",
        "for purpose in data['purpose']:\n",
        "    lemmas_list.extend(m.lemmatize(purpose))\n",
        "\n",
        "lemmas_list"
      ]
    },
    {
      "cell_type": "code",
      "execution_count": null,
      "metadata": {
        "id": "zl4IEb3pjs7m"
      },
      "outputs": [],
      "source": [
        "print(Counter(lemmas_list)) "
      ]
    },
    {
      "cell_type": "markdown",
      "metadata": {
        "id": "Y99lej-gjs7n"
      },
      "source": [
        "**Вывод**"
      ]
    },
    {
      "cell_type": "markdown",
      "metadata": {
        "id": "zyDLhnS8js7n"
      },
      "source": [
        "При лемматизации столбца ***'purpose'*** были выявлены основные цели взятия кредита:\n",
        "* недвижимость\n",
        "* авто\n",
        "* образование\n",
        "* свадьба  \n",
        "  \n",
        "В дальнейшем по ним данные будут категоризированы."
      ]
    },
    {
      "cell_type": "markdown",
      "metadata": {
        "id": "yFRVgoVijs7n"
      },
      "source": [
        "### Категоризация данных"
      ]
    },
    {
      "cell_type": "markdown",
      "metadata": {
        "id": "RRb97taHjs7n"
      },
      "source": [
        "Чтобы категоризировать данные по цели кредита, предлагаю создать дополнительный столбец с категорией причины.  \n",
        "Для этого была создана функция *purpose_id*:"
      ]
    },
    {
      "cell_type": "code",
      "execution_count": null,
      "metadata": {
        "id": "iVfoYMdRjs7n"
      },
      "outputs": [],
      "source": [
        "def purpose_id(purpose):\n",
        "    lemma = m.lemmatize(purpose)\n",
        "    if 'свадьба' in lemma:\n",
        "        return 'свадьба'\n",
        "    elif 'автомобиль' in lemma:\n",
        "        return 'авто'\n",
        "    elif 'недвижимость' in lemma or 'жилье' in lemma:\n",
        "        return 'недвижимость'\n",
        "    elif 'образование' in lemma:\n",
        "        return 'образование'\n",
        "    else:\n",
        "        return -1\n",
        "\n",
        "data['purpose_id'] = data['purpose'].apply(purpose_id)\n",
        "data['purpose_id'].value_counts()"
      ]
    },
    {
      "cell_type": "markdown",
      "metadata": {
        "id": "bWnVHE6Qjs7n"
      },
      "source": [
        "Далее делаем категоризацию данных по уровню достатка:\n",
        "\n",
        "Госстатистика разделяет уровень жизни россиян по доходам на такие категории:  \n",
        "* Крайняя нищета – доходы ниже 7-8 тыс. в месяц  \n",
        "* Нищета – доходы от 8 до 12 тысяч рублей в месяц  \n",
        "* Бедность – доходы от 12 до 20 тысяч рублей в месяц  \n",
        "* Выше бедности – доходы от 20 до 30 тысяч рублей в месяц  \n",
        "* Средний достаток — доходы от 30 до 60 тысяч рублей в мес\n",
        "* Богатые – доходы свыше 90 тысяч рублей в месяц  \n",
        "* Сверхбогатые – доходы свыше 150 тысяч в месяц\n",
        "\n",
        "На основе этого, изменив градацию категорий и будем категоризировать наши данные.  \n",
        "Так как минимальная зарплата заемщиков равна 20 т.р., то отбросим категории крайняя нищета, нищета и бедность.  \n",
        "Изменим градацию категорий:\n",
        "* Низкий достаток – доходы от 20 до 40 тысяч рублей в месяц  \n",
        "* Средний достаток — доходы от 40 до 70 тысяч рублей в мес\n",
        "* Достаток выше среднего – доходы от 70 до 100\n",
        "* Высокий достаток – доходы от 100 до 300 тысяч рублей в месяц  \n",
        "* Сверхбогатые – доходы свыше 300 тысяч в месяц\n",
        "\n",
        "Чтобы категоризировать столбец ***month_income***, предлагаю создать новый столбец с категорией достатка.  \n",
        "Для этого была создана функция *income_id*:"
      ]
    },
    {
      "cell_type": "code",
      "execution_count": null,
      "metadata": {
        "id": "jDVE8Elbjs7o"
      },
      "outputs": [],
      "source": [
        "def income_id(month_income):\n",
        "    if 20 <= month_income <= 40:\n",
        "        return 'низкий'\n",
        "    elif 40 < month_income <= 70:\n",
        "        return 'средний'\n",
        "    elif 70 < month_income <= 100:\n",
        "        return 'выше среднего'\n",
        "    elif 100 < month_income <= 300:\n",
        "        return 'высокий'\n",
        "    elif month_income > 300:\n",
        "        return 'сверхбогатый'\n",
        "    else:\n",
        "        return -1\n",
        "\n",
        "data['month_income_id'] = data['month_income'].apply(income_id)\n",
        "data['month_income_id'].value_counts()"
      ]
    },
    {
      "cell_type": "markdown",
      "metadata": {
        "id": "ha1XdsHwjs7o"
      },
      "source": [
        "Далее следует категоризировать данные по количеству детей.  \n",
        "Для заказчика важен фактор наличия или отсутвия детей, так что предлагаю создать новый столбец и сделать 2 категории данных по количеству детей: \n",
        "* нет детей\n",
        "* есть дети"
      ]
    },
    {
      "cell_type": "code",
      "execution_count": null,
      "metadata": {
        "id": "oMzQ8xI0js7o"
      },
      "outputs": [],
      "source": [
        "def children_id(children):\n",
        "    if children == 0:\n",
        "        return 'нет детей'\n",
        "    else:\n",
        "        return 'есть дети'\n",
        "    \n",
        "data['children_id'] = data['children'].apply(children_id)\n",
        "data['children_id'].value_counts()"
      ]
    },
    {
      "cell_type": "markdown",
      "metadata": {
        "id": "82PUySgGjs7o"
      },
      "source": [
        "Полученная после всех преобразований таблица:"
      ]
    },
    {
      "cell_type": "code",
      "execution_count": null,
      "metadata": {
        "id": "jOzRR-Zwjs7o"
      },
      "outputs": [],
      "source": [
        "data"
      ]
    },
    {
      "cell_type": "markdown",
      "metadata": {
        "id": "pnCvBImkjs7p"
      },
      "source": [
        "**Вывод**"
      ]
    },
    {
      "cell_type": "markdown",
      "metadata": {
        "id": "7N8VHcV7js7p"
      },
      "source": [
        "Была выполнена категоризация данных для ответа на вопросы, поставленные заказчиком."
      ]
    },
    {
      "cell_type": "markdown",
      "metadata": {
        "id": "zCTyyccCjs7p"
      },
      "source": [
        "## Шаг 3. Ответьте на вопросы"
      ]
    },
    {
      "cell_type": "markdown",
      "metadata": {
        "id": "SIKGitzIjs7p"
      },
      "source": [
        "- Есть ли зависимость между наличием детей и возвратом кредита в срок?"
      ]
    },
    {
      "cell_type": "code",
      "execution_count": null,
      "metadata": {
        "id": "K6VOucRcjs7p"
      },
      "outputs": [],
      "source": [
        "data.groupby('children_id')['debt'].agg(['count','mean']).sort_values(by = 'mean')"
      ]
    },
    {
      "cell_type": "markdown",
      "metadata": {
        "id": "uXAJr87Tjs7q"
      },
      "source": [
        "**Вывод**"
      ]
    },
    {
      "cell_type": "markdown",
      "metadata": {
        "id": "5O1biF4kjs7q"
      },
      "source": [
        "Заемщики, не имеющие детей, менее склонны к задолженности по возврату кредита. "
      ]
    },
    {
      "cell_type": "markdown",
      "metadata": {
        "id": "n-PQgkN6js7q"
      },
      "source": [
        "- Есть ли зависимость между семейным положением и возвратом кредита в срок?"
      ]
    },
    {
      "cell_type": "code",
      "execution_count": null,
      "metadata": {
        "id": "Vv3K3vbjjs7q"
      },
      "outputs": [],
      "source": [
        "data.groupby('family_status')['debt'].agg(['count','mean']).sort_values(by = 'mean')"
      ]
    },
    {
      "cell_type": "markdown",
      "metadata": {
        "id": "zu1-6Ckajs7q"
      },
      "source": [
        "**Вывод**"
      ]
    },
    {
      "cell_type": "markdown",
      "metadata": {
        "id": "ggq9IChGjs7q"
      },
      "source": [
        "Вдовцы и вдовы наименее склонны к задолженности по возврату кредита. Люди никогда не вступавшие в брак, чаще имеют задолженности по кредиту."
      ]
    },
    {
      "cell_type": "markdown",
      "metadata": {
        "id": "NZoUiB5mjs7q"
      },
      "source": [
        "- Есть ли зависимость между уровнем дохода и возвратом кредита в срок?"
      ]
    },
    {
      "cell_type": "code",
      "execution_count": null,
      "metadata": {
        "id": "Prvr2rzkjs7r"
      },
      "outputs": [],
      "source": [
        "data.groupby('month_income_id')['debt'].agg(['count','mean']).sort_values(by = 'mean')"
      ]
    },
    {
      "cell_type": "markdown",
      "metadata": {
        "id": "MEn9FaPdjs7r"
      },
      "source": [
        "**Вывод**"
      ]
    },
    {
      "cell_type": "markdown",
      "metadata": {
        "id": "weqbVb9djs7r"
      },
      "source": [
        "Сверхбогатые люди наименее склонны к задолженности по возврату кредита. Люди в высоким доходом и доходом выше сдеднего чаще имеют задолженность."
      ]
    },
    {
      "cell_type": "markdown",
      "metadata": {
        "id": "Tc-X_2Mjjs7r"
      },
      "source": [
        "- Как разные цели кредита влияют на его возврат в срок?"
      ]
    },
    {
      "cell_type": "code",
      "execution_count": null,
      "metadata": {
        "id": "WrwYR7v5js7r"
      },
      "outputs": [],
      "source": [
        "data.groupby('purpose_id')['debt'].agg(['count','mean']).sort_values(by = 'mean')"
      ]
    },
    {
      "cell_type": "markdown",
      "metadata": {
        "id": "yY9H_lazjs7r"
      },
      "source": [
        "**Вывод**"
      ]
    },
    {
      "cell_type": "markdown",
      "metadata": {
        "id": "H5WmwHb2js7r"
      },
      "source": [
        "Люди, берущие кредит на недвижимость наименее склонны к задолженности по возврату кредита. Заемщик, который берет кредит на авто, наиболее склонен к просрочке платежа по кредиту."
      ]
    },
    {
      "cell_type": "markdown",
      "metadata": {
        "id": "Jgh97deUjs7s"
      },
      "source": [
        "## Шаг 4. Общий вывод"
      ]
    },
    {
      "cell_type": "markdown",
      "metadata": {
        "id": "MfNPlvscjs7s"
      },
      "source": [
        "В ходе работы над данным проектом были получены ответы на вопросы, поставленные заказчиком, а именно:\n",
        "\n",
        "- Есть ли зависимость между наличием детей и возвратом кредита в срок? --- Да, есть: наиболее ответственные заемщики те, у которых нет детей.\n",
        "- Есть ли зависимость между семейным положением и возвратом кредита в срок? --- Да, есть: наиболее ответственными заемщиками являются вдовы и вдовцы.\n",
        "- Есть ли зависимость между уровнем дохода и возвратом кредита в срок? --- Да, есть: наиболее ответственны сверхбогатые заемщики. \n",
        "- Как разные цели кредита влияют на его возврат в срок? --- Люди, берущие кредит на недвижимость наименее склонны к задолженности по возврату кредита.\n",
        "\n",
        "По исследованным данным можно составить портрет заемщика, у которого, вероятнее всего не будет проблем с задолженностью по кредиту:\n",
        "\n",
        "- Не имеет детей\n",
        "- Находится или был в браке\n",
        "- Очень богатый человек или человек со средним достатком\n",
        "- Цель кредита - недвижимость"
      ]
    },
    {
      "cell_type": "markdown",
      "metadata": {
        "id": "PPnsnY3Zjs7s"
      },
      "source": [
        "## Чек-лист готовности проекта\n",
        "\n",
        "Поставьте 'x' в выполненных пунктах. Далее нажмите Shift+Enter."
      ]
    },
    {
      "cell_type": "markdown",
      "metadata": {
        "id": "jHa0Eumnjs7t"
      },
      "source": [
        "- [x]  открыт файл;\n",
        "- [x]  файл изучен;\n",
        "- [x]  определены пропущенные значения;\n",
        "- [x]  заполнены пропущенные значения;\n",
        "- [x]  есть пояснение, какие пропущенные значения обнаружены;\n",
        "- [x]  описаны возможные причины появления пропусков в данных;\n",
        "- [x]  объяснено, по какому принципу заполнены пропуски;\n",
        "- [x]  заменен вещественный тип данных на целочисленный;\n",
        "- [x]  есть пояснение, какой метод используется для изменения типа данных и почему;\n",
        "- [x]  удалены дубликаты;\n",
        "- [x]  есть пояснение, какой метод используется для поиска и удаления дубликатов;\n",
        "- [x]  описаны возможные причины появления дубликатов в данных;\n",
        "- [x]  выделены леммы в значениях столбца с целями получения кредита;\n",
        "- [x]  описан процесс лемматизации;\n",
        "- [x]  данные категоризированы;\n",
        "- [x]  есть объяснение принципа категоризации данных;\n",
        "- [x]  есть ответ на вопрос: \"Есть ли зависимость между наличием детей и возвратом кредита в срок?\";\n",
        "- [x]  есть ответ на вопрос: \"Есть ли зависимость между семейным положением и возвратом кредита в срок?\";\n",
        "- [x]  есть ответ на вопрос: \"Есть ли зависимость между уровнем дохода и возвратом кредита в срок?\";\n",
        "- [x]  есть ответ на вопрос: \"Как разные цели кредита влияют на его возврат в срок?\";\n",
        "- [x]  в каждом этапе есть выводы;\n",
        "- [x]  есть общий вывод."
      ]
    }
  ],
  "metadata": {
    "ExecuteTimeLog": [
      {
        "duration": 837,
        "start_time": "2021-10-30T17:13:48.030Z"
      },
      {
        "duration": 67,
        "start_time": "2021-10-30T17:14:31.701Z"
      },
      {
        "duration": 67,
        "start_time": "2021-10-30T17:17:32.103Z"
      },
      {
        "duration": 31,
        "start_time": "2021-10-30T17:17:50.632Z"
      },
      {
        "duration": 353,
        "start_time": "2021-10-30T17:18:25.234Z"
      },
      {
        "duration": 6,
        "start_time": "2021-10-30T17:18:31.771Z"
      },
      {
        "duration": 16,
        "start_time": "2021-10-30T17:19:30.772Z"
      },
      {
        "duration": 88,
        "start_time": "2021-10-30T17:23:23.101Z"
      },
      {
        "duration": 50,
        "start_time": "2021-10-30T17:27:58.991Z"
      },
      {
        "duration": 361,
        "start_time": "2021-11-02T16:52:54.278Z"
      },
      {
        "duration": 301,
        "start_time": "2021-11-02T16:53:06.466Z"
      },
      {
        "duration": 281,
        "start_time": "2021-11-02T16:54:08.334Z"
      },
      {
        "duration": 253,
        "start_time": "2021-11-02T16:54:28.730Z"
      },
      {
        "duration": 332,
        "start_time": "2021-11-02T16:55:02.163Z"
      },
      {
        "duration": 763,
        "start_time": "2021-11-02T16:55:20.085Z"
      },
      {
        "duration": 67,
        "start_time": "2021-11-02T16:55:20.851Z"
      },
      {
        "duration": 31,
        "start_time": "2021-11-02T16:55:22.075Z"
      },
      {
        "duration": 19,
        "start_time": "2021-11-02T16:55:23.083Z"
      },
      {
        "duration": 6555,
        "start_time": "2021-11-02T16:55:24.264Z"
      },
      {
        "duration": 6769,
        "start_time": "2021-11-02T16:55:39.171Z"
      },
      {
        "duration": 1158,
        "start_time": "2021-11-02T16:55:51.750Z"
      },
      {
        "duration": 257,
        "start_time": "2021-11-02T16:56:33.249Z"
      },
      {
        "duration": 1462,
        "start_time": "2021-11-02T16:56:50.939Z"
      },
      {
        "duration": 1083,
        "start_time": "2021-11-02T16:58:00.398Z"
      },
      {
        "duration": 267,
        "start_time": "2021-11-02T16:58:39.829Z"
      },
      {
        "duration": 1251,
        "start_time": "2021-11-02T16:59:50.883Z"
      },
      {
        "duration": 1030,
        "start_time": "2021-11-02T16:59:58.407Z"
      },
      {
        "duration": 287,
        "start_time": "2021-11-02T17:05:50.420Z"
      },
      {
        "duration": 14,
        "start_time": "2021-11-02T17:06:37.007Z"
      },
      {
        "duration": 96,
        "start_time": "2021-11-02T17:16:47.321Z"
      },
      {
        "duration": 97,
        "start_time": "2021-11-02T17:16:55.182Z"
      },
      {
        "duration": 92,
        "start_time": "2021-11-02T20:08:02.304Z"
      },
      {
        "duration": 52,
        "start_time": "2021-11-02T20:09:47.606Z"
      },
      {
        "duration": 33,
        "start_time": "2021-11-02T20:10:07.283Z"
      },
      {
        "duration": 7339,
        "start_time": "2021-11-02T20:18:07.996Z"
      },
      {
        "duration": 7073,
        "start_time": "2021-11-02T20:18:15.589Z"
      },
      {
        "duration": 37,
        "start_time": "2021-11-02T20:18:36.300Z"
      },
      {
        "duration": 6856,
        "start_time": "2021-11-02T20:18:50.893Z"
      },
      {
        "duration": 6820,
        "start_time": "2021-11-02T20:19:54.325Z"
      },
      {
        "duration": 10,
        "start_time": "2021-11-02T20:20:27.385Z"
      },
      {
        "duration": 11,
        "start_time": "2021-11-02T20:20:30.049Z"
      },
      {
        "duration": 45,
        "start_time": "2021-11-02T20:20:35.812Z"
      },
      {
        "duration": 7474,
        "start_time": "2021-11-02T20:22:01.080Z"
      },
      {
        "duration": 11,
        "start_time": "2021-11-02T20:22:25.238Z"
      },
      {
        "duration": 6392,
        "start_time": "2021-11-02T20:22:26.659Z"
      },
      {
        "duration": 9,
        "start_time": "2021-11-02T20:22:53.891Z"
      },
      {
        "duration": 8634,
        "start_time": "2021-11-02T20:22:55.366Z"
      },
      {
        "duration": 46,
        "start_time": "2021-11-02T20:23:33.951Z"
      },
      {
        "duration": 6654,
        "start_time": "2021-11-02T20:24:04.682Z"
      },
      {
        "duration": 5,
        "start_time": "2021-11-02T20:24:56.693Z"
      },
      {
        "duration": 7660,
        "start_time": "2021-11-02T20:25:01.117Z"
      },
      {
        "duration": 48,
        "start_time": "2021-11-02T20:25:41.568Z"
      },
      {
        "duration": 6,
        "start_time": "2021-11-02T20:25:49.876Z"
      },
      {
        "duration": 47,
        "start_time": "2021-11-02T20:25:53.047Z"
      },
      {
        "duration": 3,
        "start_time": "2021-11-02T20:26:12.218Z"
      },
      {
        "duration": -687,
        "start_time": "2021-11-02T20:26:22.269Z"
      },
      {
        "duration": 4,
        "start_time": "2021-11-02T20:26:23.375Z"
      },
      {
        "duration": 68,
        "start_time": "2021-11-02T20:26:24.979Z"
      },
      {
        "duration": 7,
        "start_time": "2021-11-02T20:26:30.291Z"
      },
      {
        "duration": 45,
        "start_time": "2021-11-02T20:26:32.356Z"
      },
      {
        "duration": 8,
        "start_time": "2021-11-02T20:26:42.862Z"
      },
      {
        "duration": 51,
        "start_time": "2021-11-02T20:26:44.820Z"
      },
      {
        "duration": 50,
        "start_time": "2021-11-02T20:26:56.725Z"
      },
      {
        "duration": 35,
        "start_time": "2021-11-02T20:27:13.687Z"
      },
      {
        "duration": 9,
        "start_time": "2021-11-02T20:27:16.164Z"
      },
      {
        "duration": 53,
        "start_time": "2021-11-02T20:27:17.971Z"
      },
      {
        "duration": 10,
        "start_time": "2021-11-02T20:27:42.274Z"
      },
      {
        "duration": 48,
        "start_time": "2021-11-02T20:27:44.164Z"
      },
      {
        "duration": 46,
        "start_time": "2021-11-02T20:27:54.360Z"
      },
      {
        "duration": 817,
        "start_time": "2021-11-02T20:28:17.296Z"
      },
      {
        "duration": 71,
        "start_time": "2021-11-02T20:28:18.115Z"
      },
      {
        "duration": 48,
        "start_time": "2021-11-02T20:28:18.189Z"
      },
      {
        "duration": 9,
        "start_time": "2021-11-02T20:28:18.240Z"
      },
      {
        "duration": 3,
        "start_time": "2021-11-02T20:28:18.252Z"
      },
      {
        "duration": 9,
        "start_time": "2021-11-02T20:28:18.258Z"
      },
      {
        "duration": 95,
        "start_time": "2021-11-02T20:28:18.270Z"
      },
      {
        "duration": 14,
        "start_time": "2021-11-02T20:28:18.368Z"
      },
      {
        "duration": 6737,
        "start_time": "2021-11-02T20:28:18.384Z"
      },
      {
        "duration": -704,
        "start_time": "2021-11-02T20:28:25.827Z"
      },
      {
        "duration": 10,
        "start_time": "2021-11-02T20:28:30.707Z"
      },
      {
        "duration": 47,
        "start_time": "2021-11-02T20:28:32.466Z"
      },
      {
        "duration": 4,
        "start_time": "2021-11-02T20:28:40.942Z"
      },
      {
        "duration": 47,
        "start_time": "2021-11-02T20:28:44.880Z"
      },
      {
        "duration": 5,
        "start_time": "2021-11-02T20:28:57.001Z"
      },
      {
        "duration": 48,
        "start_time": "2021-11-02T20:28:59.163Z"
      },
      {
        "duration": 5,
        "start_time": "2021-11-02T20:33:13.007Z"
      },
      {
        "duration": 15,
        "start_time": "2021-11-02T20:33:14.884Z"
      },
      {
        "duration": 48,
        "start_time": "2021-11-02T20:33:17.526Z"
      },
      {
        "duration": 5,
        "start_time": "2021-11-02T20:34:19.799Z"
      },
      {
        "duration": 5,
        "start_time": "2021-11-02T20:34:19.957Z"
      },
      {
        "duration": 6,
        "start_time": "2021-11-02T20:34:43.136Z"
      },
      {
        "duration": 15,
        "start_time": "2021-11-02T20:34:44.540Z"
      },
      {
        "duration": 52,
        "start_time": "2021-11-02T20:34:46.420Z"
      },
      {
        "duration": 759,
        "start_time": "2021-11-02T20:35:16.587Z"
      },
      {
        "duration": 65,
        "start_time": "2021-11-02T20:35:17.349Z"
      },
      {
        "duration": 43,
        "start_time": "2021-11-02T20:35:17.424Z"
      },
      {
        "duration": 8,
        "start_time": "2021-11-02T20:35:17.469Z"
      },
      {
        "duration": 7,
        "start_time": "2021-11-02T20:35:17.522Z"
      },
      {
        "duration": 4,
        "start_time": "2021-11-02T20:35:17.531Z"
      },
      {
        "duration": 17,
        "start_time": "2021-11-02T20:35:17.538Z"
      },
      {
        "duration": 92,
        "start_time": "2021-11-02T20:35:17.557Z"
      },
      {
        "duration": 6809,
        "start_time": "2021-11-02T20:35:17.651Z"
      },
      {
        "duration": -690,
        "start_time": "2021-11-02T20:35:25.153Z"
      },
      {
        "duration": 10,
        "start_time": "2021-11-02T20:39:34.515Z"
      },
      {
        "duration": 270,
        "start_time": "2021-11-02T20:42:14.569Z"
      },
      {
        "duration": 282,
        "start_time": "2021-11-02T20:42:30.393Z"
      },
      {
        "duration": 9,
        "start_time": "2021-11-02T20:42:43.320Z"
      },
      {
        "duration": 9,
        "start_time": "2021-11-02T20:43:01.602Z"
      },
      {
        "duration": 12,
        "start_time": "2021-11-02T20:43:37.823Z"
      },
      {
        "duration": 11,
        "start_time": "2021-11-02T20:43:56.767Z"
      },
      {
        "duration": 244,
        "start_time": "2021-11-02T20:52:45.525Z"
      },
      {
        "duration": 5,
        "start_time": "2021-11-02T20:52:55.425Z"
      },
      {
        "duration": 13,
        "start_time": "2021-11-02T20:53:08.218Z"
      },
      {
        "duration": 13,
        "start_time": "2021-11-02T20:53:17.656Z"
      },
      {
        "duration": 926,
        "start_time": "2021-11-02T21:03:46.077Z"
      },
      {
        "duration": 7,
        "start_time": "2021-11-02T21:05:23.462Z"
      },
      {
        "duration": 15,
        "start_time": "2021-11-02T21:05:29.939Z"
      },
      {
        "duration": 258,
        "start_time": "2021-11-02T21:31:04.239Z"
      },
      {
        "duration": 14,
        "start_time": "2021-11-02T21:31:23.565Z"
      },
      {
        "duration": 15,
        "start_time": "2021-11-02T21:31:50.162Z"
      },
      {
        "duration": 16,
        "start_time": "2021-11-02T21:32:16.787Z"
      },
      {
        "duration": 19,
        "start_time": "2021-11-02T21:32:29.319Z"
      },
      {
        "duration": 24,
        "start_time": "2021-11-02T21:32:41.710Z"
      },
      {
        "duration": 87,
        "start_time": "2021-11-02T21:34:01.545Z"
      },
      {
        "duration": 16,
        "start_time": "2021-11-02T21:34:06.126Z"
      },
      {
        "duration": 15,
        "start_time": "2021-11-02T21:34:34.273Z"
      },
      {
        "duration": 382,
        "start_time": "2021-11-02T21:34:51.492Z"
      },
      {
        "duration": 16,
        "start_time": "2021-11-02T21:35:14.020Z"
      },
      {
        "duration": 17,
        "start_time": "2021-11-02T21:35:25.043Z"
      },
      {
        "duration": 752,
        "start_time": "2021-11-02T21:35:37.286Z"
      },
      {
        "duration": 64,
        "start_time": "2021-11-02T21:35:38.041Z"
      },
      {
        "duration": 46,
        "start_time": "2021-11-02T21:35:38.108Z"
      },
      {
        "duration": 8,
        "start_time": "2021-11-02T21:35:38.156Z"
      },
      {
        "duration": 11,
        "start_time": "2021-11-02T21:35:38.167Z"
      },
      {
        "duration": 54,
        "start_time": "2021-11-02T21:35:38.180Z"
      },
      {
        "duration": 45,
        "start_time": "2021-11-02T21:35:38.236Z"
      },
      {
        "duration": 40,
        "start_time": "2021-11-02T21:35:38.284Z"
      },
      {
        "duration": 11,
        "start_time": "2021-11-02T21:35:38.328Z"
      },
      {
        "duration": 13,
        "start_time": "2021-11-02T21:35:38.342Z"
      },
      {
        "duration": 72,
        "start_time": "2021-11-02T21:35:38.358Z"
      },
      {
        "duration": 14,
        "start_time": "2021-11-02T21:35:38.432Z"
      },
      {
        "duration": 7349,
        "start_time": "2021-11-02T21:35:38.449Z"
      },
      {
        "duration": -640,
        "start_time": "2021-11-02T21:35:46.441Z"
      },
      {
        "duration": 15,
        "start_time": "2021-11-02T21:36:14.121Z"
      },
      {
        "duration": 18,
        "start_time": "2021-11-02T21:37:22.445Z"
      },
      {
        "duration": 6220,
        "start_time": "2021-11-02T21:39:15.791Z"
      },
      {
        "duration": 14,
        "start_time": "2021-11-02T21:39:29.035Z"
      },
      {
        "duration": 271,
        "start_time": "2021-11-02T21:51:55.194Z"
      },
      {
        "duration": 272,
        "start_time": "2021-11-02T21:51:59.850Z"
      },
      {
        "duration": 256,
        "start_time": "2021-11-02T21:52:16.962Z"
      },
      {
        "duration": 10,
        "start_time": "2021-11-02T21:52:43.481Z"
      },
      {
        "duration": 12,
        "start_time": "2021-11-02T21:55:07.549Z"
      },
      {
        "duration": 10,
        "start_time": "2021-11-02T21:55:26.669Z"
      },
      {
        "duration": 12,
        "start_time": "2021-11-02T21:55:33.633Z"
      },
      {
        "duration": 10,
        "start_time": "2021-11-02T21:57:00.226Z"
      },
      {
        "duration": 10,
        "start_time": "2021-11-02T21:57:08.378Z"
      },
      {
        "duration": 10,
        "start_time": "2021-11-02T21:57:16.080Z"
      },
      {
        "duration": 10,
        "start_time": "2021-11-02T22:00:28.321Z"
      },
      {
        "duration": 760,
        "start_time": "2021-11-03T09:08:19.217Z"
      },
      {
        "duration": 93,
        "start_time": "2021-11-03T09:08:19.981Z"
      },
      {
        "duration": 75,
        "start_time": "2021-11-03T09:08:20.078Z"
      },
      {
        "duration": 8,
        "start_time": "2021-11-03T09:08:20.157Z"
      },
      {
        "duration": 9,
        "start_time": "2021-11-03T09:08:20.167Z"
      },
      {
        "duration": 16,
        "start_time": "2021-11-03T09:08:20.179Z"
      },
      {
        "duration": 73,
        "start_time": "2021-11-03T09:08:20.198Z"
      },
      {
        "duration": 12,
        "start_time": "2021-11-03T09:08:20.274Z"
      },
      {
        "duration": 44,
        "start_time": "2021-11-03T09:08:20.291Z"
      },
      {
        "duration": 12,
        "start_time": "2021-11-03T09:08:20.339Z"
      },
      {
        "duration": 85,
        "start_time": "2021-11-03T09:08:20.354Z"
      },
      {
        "duration": -529,
        "start_time": "2021-11-03T09:08:20.971Z"
      },
      {
        "duration": -536,
        "start_time": "2021-11-03T09:08:20.979Z"
      },
      {
        "duration": -537,
        "start_time": "2021-11-03T09:08:20.982Z"
      },
      {
        "duration": 15,
        "start_time": "2021-11-03T09:09:18.728Z"
      },
      {
        "duration": 13,
        "start_time": "2021-11-03T09:09:27.711Z"
      },
      {
        "duration": 8,
        "start_time": "2021-11-03T09:11:01.803Z"
      },
      {
        "duration": 11,
        "start_time": "2021-11-03T09:11:04.518Z"
      },
      {
        "duration": 14,
        "start_time": "2021-11-03T09:11:06.026Z"
      },
      {
        "duration": 16,
        "start_time": "2021-11-03T09:11:27.505Z"
      },
      {
        "duration": 17,
        "start_time": "2021-11-03T09:12:05.219Z"
      },
      {
        "duration": 12,
        "start_time": "2021-11-03T09:16:08.168Z"
      },
      {
        "duration": 716,
        "start_time": "2021-11-03T09:28:55.361Z"
      },
      {
        "duration": 65,
        "start_time": "2021-11-03T09:28:56.080Z"
      },
      {
        "duration": 43,
        "start_time": "2021-11-03T09:28:56.148Z"
      },
      {
        "duration": 39,
        "start_time": "2021-11-03T09:28:56.194Z"
      },
      {
        "duration": 8,
        "start_time": "2021-11-03T09:28:56.235Z"
      },
      {
        "duration": 21,
        "start_time": "2021-11-03T09:28:56.245Z"
      },
      {
        "duration": 70,
        "start_time": "2021-11-03T09:28:56.269Z"
      },
      {
        "duration": 12,
        "start_time": "2021-11-03T09:28:56.343Z"
      },
      {
        "duration": 11,
        "start_time": "2021-11-03T09:28:56.358Z"
      },
      {
        "duration": 10,
        "start_time": "2021-11-03T09:28:56.372Z"
      },
      {
        "duration": 11,
        "start_time": "2021-11-03T09:28:56.429Z"
      },
      {
        "duration": 79,
        "start_time": "2021-11-03T09:28:56.442Z"
      },
      {
        "duration": -520,
        "start_time": "2021-11-03T09:28:57.043Z"
      },
      {
        "duration": -530,
        "start_time": "2021-11-03T09:28:57.055Z"
      },
      {
        "duration": -532,
        "start_time": "2021-11-03T09:28:57.058Z"
      },
      {
        "duration": -534,
        "start_time": "2021-11-03T09:28:57.061Z"
      },
      {
        "duration": -544,
        "start_time": "2021-11-03T09:28:57.073Z"
      },
      {
        "duration": 1097,
        "start_time": "2021-11-03T09:32:45.298Z"
      },
      {
        "duration": 91,
        "start_time": "2021-11-03T09:32:46.399Z"
      },
      {
        "duration": 82,
        "start_time": "2021-11-03T09:32:46.494Z"
      },
      {
        "duration": 11,
        "start_time": "2021-11-03T09:32:46.579Z"
      },
      {
        "duration": 39,
        "start_time": "2021-11-03T09:32:46.593Z"
      },
      {
        "duration": 22,
        "start_time": "2021-11-03T09:32:46.636Z"
      },
      {
        "duration": 101,
        "start_time": "2021-11-03T09:32:46.662Z"
      },
      {
        "duration": 8,
        "start_time": "2021-11-03T09:32:46.768Z"
      },
      {
        "duration": 11,
        "start_time": "2021-11-03T09:32:46.779Z"
      },
      {
        "duration": 13,
        "start_time": "2021-11-03T09:32:46.829Z"
      },
      {
        "duration": 18,
        "start_time": "2021-11-03T09:32:46.845Z"
      },
      {
        "duration": 65,
        "start_time": "2021-11-03T09:32:46.866Z"
      },
      {
        "duration": 16,
        "start_time": "2021-11-03T09:32:46.934Z"
      },
      {
        "duration": 14,
        "start_time": "2021-11-03T09:32:46.954Z"
      },
      {
        "duration": 62,
        "start_time": "2021-11-03T09:32:46.971Z"
      },
      {
        "duration": 14,
        "start_time": "2021-11-03T09:32:47.036Z"
      },
      {
        "duration": 76,
        "start_time": "2021-11-03T09:32:47.054Z"
      },
      {
        "duration": 15,
        "start_time": "2021-11-03T09:35:34.733Z"
      },
      {
        "duration": 792,
        "start_time": "2021-11-03T09:35:54.598Z"
      },
      {
        "duration": 63,
        "start_time": "2021-11-03T09:35:55.393Z"
      },
      {
        "duration": 42,
        "start_time": "2021-11-03T09:35:55.463Z"
      },
      {
        "duration": 29,
        "start_time": "2021-11-03T09:35:55.507Z"
      },
      {
        "duration": 23,
        "start_time": "2021-11-03T09:35:55.538Z"
      },
      {
        "duration": 18,
        "start_time": "2021-11-03T09:35:55.564Z"
      },
      {
        "duration": 72,
        "start_time": "2021-11-03T09:35:55.586Z"
      },
      {
        "duration": 9,
        "start_time": "2021-11-03T09:35:55.661Z"
      },
      {
        "duration": 13,
        "start_time": "2021-11-03T09:35:55.673Z"
      },
      {
        "duration": 48,
        "start_time": "2021-11-03T09:35:55.689Z"
      },
      {
        "duration": 12,
        "start_time": "2021-11-03T09:35:55.739Z"
      },
      {
        "duration": 16,
        "start_time": "2021-11-03T09:35:55.755Z"
      },
      {
        "duration": 59,
        "start_time": "2021-11-03T09:35:55.773Z"
      },
      {
        "duration": 13,
        "start_time": "2021-11-03T09:35:55.834Z"
      },
      {
        "duration": 23,
        "start_time": "2021-11-03T09:35:55.849Z"
      },
      {
        "duration": 26,
        "start_time": "2021-11-03T09:35:55.874Z"
      },
      {
        "duration": 33,
        "start_time": "2021-11-03T09:35:55.902Z"
      },
      {
        "duration": 81,
        "start_time": "2021-11-03T09:35:55.937Z"
      },
      {
        "duration": 4,
        "start_time": "2021-11-03T09:46:03.756Z"
      },
      {
        "duration": 6321,
        "start_time": "2021-11-03T09:46:26.860Z"
      },
      {
        "duration": 4,
        "start_time": "2021-11-03T09:46:48.345Z"
      },
      {
        "duration": 6323,
        "start_time": "2021-11-03T09:46:50.012Z"
      },
      {
        "duration": 722,
        "start_time": "2021-11-03T09:47:14.663Z"
      },
      {
        "duration": 70,
        "start_time": "2021-11-03T09:47:15.387Z"
      },
      {
        "duration": 42,
        "start_time": "2021-11-03T09:47:15.460Z"
      },
      {
        "duration": 30,
        "start_time": "2021-11-03T09:47:15.504Z"
      },
      {
        "duration": 10,
        "start_time": "2021-11-03T09:47:15.536Z"
      },
      {
        "duration": 18,
        "start_time": "2021-11-03T09:47:15.548Z"
      },
      {
        "duration": 93,
        "start_time": "2021-11-03T09:47:15.569Z"
      },
      {
        "duration": 11,
        "start_time": "2021-11-03T09:47:15.668Z"
      },
      {
        "duration": 52,
        "start_time": "2021-11-03T09:47:15.683Z"
      },
      {
        "duration": 16,
        "start_time": "2021-11-03T09:47:15.737Z"
      },
      {
        "duration": 18,
        "start_time": "2021-11-03T09:47:15.756Z"
      },
      {
        "duration": 64,
        "start_time": "2021-11-03T09:47:15.778Z"
      },
      {
        "duration": 19,
        "start_time": "2021-11-03T09:47:15.845Z"
      },
      {
        "duration": 16,
        "start_time": "2021-11-03T09:47:15.867Z"
      },
      {
        "duration": 55,
        "start_time": "2021-11-03T09:47:15.886Z"
      },
      {
        "duration": 4,
        "start_time": "2021-11-03T09:47:15.944Z"
      },
      {
        "duration": 7102,
        "start_time": "2021-11-03T09:47:15.951Z"
      },
      {
        "duration": 6184,
        "start_time": "2021-11-03T09:47:46.904Z"
      },
      {
        "duration": 5688,
        "start_time": "2021-11-03T09:48:33.880Z"
      },
      {
        "duration": 4,
        "start_time": "2021-11-03T09:48:53.794Z"
      },
      {
        "duration": 6702,
        "start_time": "2021-11-03T09:49:16.428Z"
      },
      {
        "duration": 76,
        "start_time": "2021-11-03T10:00:37.347Z"
      },
      {
        "duration": 257,
        "start_time": "2021-11-03T10:02:57.966Z"
      },
      {
        "duration": 255,
        "start_time": "2021-11-03T10:07:30.712Z"
      },
      {
        "duration": 33,
        "start_time": "2021-11-03T10:07:36.439Z"
      },
      {
        "duration": 11,
        "start_time": "2021-11-03T10:08:22.537Z"
      },
      {
        "duration": 257,
        "start_time": "2021-11-03T10:08:29.675Z"
      },
      {
        "duration": 265,
        "start_time": "2021-11-03T10:08:41.575Z"
      },
      {
        "duration": 264,
        "start_time": "2021-11-03T10:10:00.267Z"
      },
      {
        "duration": 235,
        "start_time": "2021-11-03T10:10:04.256Z"
      },
      {
        "duration": 240,
        "start_time": "2021-11-03T10:10:39.279Z"
      },
      {
        "duration": 720,
        "start_time": "2021-11-03T10:10:43.227Z"
      },
      {
        "duration": 67,
        "start_time": "2021-11-03T10:10:43.950Z"
      },
      {
        "duration": 41,
        "start_time": "2021-11-03T10:10:44.025Z"
      },
      {
        "duration": 8,
        "start_time": "2021-11-03T10:10:44.069Z"
      },
      {
        "duration": 53,
        "start_time": "2021-11-03T10:10:44.080Z"
      },
      {
        "duration": 15,
        "start_time": "2021-11-03T10:10:44.137Z"
      },
      {
        "duration": 53,
        "start_time": "2021-11-03T10:10:44.155Z"
      },
      {
        "duration": 8,
        "start_time": "2021-11-03T10:10:44.230Z"
      },
      {
        "duration": 14,
        "start_time": "2021-11-03T10:10:44.241Z"
      },
      {
        "duration": 15,
        "start_time": "2021-11-03T10:10:44.258Z"
      },
      {
        "duration": 66,
        "start_time": "2021-11-03T10:10:44.276Z"
      },
      {
        "duration": 24,
        "start_time": "2021-11-03T10:10:44.345Z"
      },
      {
        "duration": 25,
        "start_time": "2021-11-03T10:10:44.373Z"
      },
      {
        "duration": 52,
        "start_time": "2021-11-03T10:10:44.401Z"
      },
      {
        "duration": 10,
        "start_time": "2021-11-03T10:10:44.456Z"
      },
      {
        "duration": 3,
        "start_time": "2021-11-03T10:10:44.469Z"
      },
      {
        "duration": 5959,
        "start_time": "2021-11-03T10:10:44.474Z"
      },
      {
        "duration": -486,
        "start_time": "2021-11-03T10:10:50.922Z"
      },
      {
        "duration": -486,
        "start_time": "2021-11-03T10:10:50.924Z"
      },
      {
        "duration": 6024,
        "start_time": "2021-11-03T10:20:57.517Z"
      },
      {
        "duration": 82,
        "start_time": "2021-11-03T10:22:04.869Z"
      },
      {
        "duration": 82,
        "start_time": "2021-11-03T10:22:17.087Z"
      },
      {
        "duration": 76,
        "start_time": "2021-11-03T10:22:31.313Z"
      },
      {
        "duration": 13,
        "start_time": "2021-11-03T10:22:45.544Z"
      },
      {
        "duration": 79,
        "start_time": "2021-11-03T10:23:02.109Z"
      },
      {
        "duration": 96,
        "start_time": "2021-11-03T10:23:07.923Z"
      },
      {
        "duration": 15,
        "start_time": "2021-11-03T10:23:15.735Z"
      },
      {
        "duration": 14,
        "start_time": "2021-11-03T10:23:25.683Z"
      },
      {
        "duration": 15,
        "start_time": "2021-11-03T10:23:45.211Z"
      },
      {
        "duration": 228,
        "start_time": "2021-11-03T10:23:47.254Z"
      },
      {
        "duration": 4,
        "start_time": "2021-11-03T10:24:05.364Z"
      },
      {
        "duration": 3,
        "start_time": "2021-11-03T10:24:07.835Z"
      },
      {
        "duration": 3,
        "start_time": "2021-11-03T10:28:09.310Z"
      },
      {
        "duration": 3,
        "start_time": "2021-11-03T10:28:10.215Z"
      },
      {
        "duration": 3,
        "start_time": "2021-11-03T10:28:10.431Z"
      },
      {
        "duration": 4,
        "start_time": "2021-11-03T10:28:10.622Z"
      },
      {
        "duration": 6,
        "start_time": "2021-11-03T10:28:10.809Z"
      },
      {
        "duration": 5,
        "start_time": "2021-11-03T10:28:10.999Z"
      },
      {
        "duration": 4,
        "start_time": "2021-11-03T10:28:11.174Z"
      },
      {
        "duration": 5,
        "start_time": "2021-11-03T10:28:18.277Z"
      },
      {
        "duration": 693,
        "start_time": "2021-11-03T10:28:28.478Z"
      },
      {
        "duration": 66,
        "start_time": "2021-11-03T10:28:29.174Z"
      },
      {
        "duration": 43,
        "start_time": "2021-11-03T10:28:29.243Z"
      },
      {
        "duration": 18,
        "start_time": "2021-11-03T10:28:29.289Z"
      },
      {
        "duration": 8,
        "start_time": "2021-11-03T10:28:29.328Z"
      },
      {
        "duration": 17,
        "start_time": "2021-11-03T10:28:29.338Z"
      },
      {
        "duration": 84,
        "start_time": "2021-11-03T10:28:29.357Z"
      },
      {
        "duration": 8,
        "start_time": "2021-11-03T10:28:29.445Z"
      },
      {
        "duration": 10,
        "start_time": "2021-11-03T10:28:29.456Z"
      },
      {
        "duration": 12,
        "start_time": "2021-11-03T10:28:29.469Z"
      },
      {
        "duration": 13,
        "start_time": "2021-11-03T10:28:29.529Z"
      },
      {
        "duration": 14,
        "start_time": "2021-11-03T10:28:29.544Z"
      },
      {
        "duration": 16,
        "start_time": "2021-11-03T10:28:29.561Z"
      },
      {
        "duration": 90,
        "start_time": "2021-11-03T10:28:29.580Z"
      },
      {
        "duration": 15,
        "start_time": "2021-11-03T10:28:29.673Z"
      },
      {
        "duration": 54,
        "start_time": "2021-11-03T10:28:29.691Z"
      },
      {
        "duration": 17,
        "start_time": "2021-11-03T10:28:29.748Z"
      },
      {
        "duration": 18,
        "start_time": "2021-11-03T10:28:29.768Z"
      },
      {
        "duration": 41,
        "start_time": "2021-11-03T10:28:29.789Z"
      },
      {
        "duration": 6027,
        "start_time": "2021-11-03T10:28:29.833Z"
      },
      {
        "duration": -476,
        "start_time": "2021-11-03T10:28:36.339Z"
      },
      {
        "duration": 47,
        "start_time": "2021-11-03T10:29:18.348Z"
      },
      {
        "duration": 558,
        "start_time": "2021-11-03T17:23:41.477Z"
      },
      {
        "duration": 48,
        "start_time": "2021-11-03T17:23:42.036Z"
      },
      {
        "duration": 25,
        "start_time": "2021-11-03T17:23:42.086Z"
      },
      {
        "duration": 5,
        "start_time": "2021-11-03T17:23:42.113Z"
      },
      {
        "duration": 5,
        "start_time": "2021-11-03T17:23:42.119Z"
      },
      {
        "duration": 10,
        "start_time": "2021-11-03T17:23:42.125Z"
      },
      {
        "duration": 30,
        "start_time": "2021-11-03T17:23:42.136Z"
      },
      {
        "duration": 26,
        "start_time": "2021-11-03T17:23:42.168Z"
      },
      {
        "duration": 8,
        "start_time": "2021-11-03T17:23:42.196Z"
      },
      {
        "duration": 7,
        "start_time": "2021-11-03T17:23:42.206Z"
      },
      {
        "duration": 8,
        "start_time": "2021-11-03T17:23:42.214Z"
      },
      {
        "duration": 8,
        "start_time": "2021-11-03T17:23:42.224Z"
      },
      {
        "duration": 9,
        "start_time": "2021-11-03T17:23:42.233Z"
      },
      {
        "duration": 58,
        "start_time": "2021-11-03T17:23:42.243Z"
      },
      {
        "duration": 6,
        "start_time": "2021-11-03T17:23:42.303Z"
      },
      {
        "duration": 7,
        "start_time": "2021-11-03T17:23:42.310Z"
      },
      {
        "duration": 3,
        "start_time": "2021-11-03T17:23:42.318Z"
      },
      {
        "duration": 4421,
        "start_time": "2021-11-03T17:23:42.322Z"
      },
      {
        "duration": -950,
        "start_time": "2021-11-03T17:23:47.695Z"
      },
      {
        "duration": 15,
        "start_time": "2021-11-03T17:25:20.511Z"
      },
      {
        "duration": 7,
        "start_time": "2021-11-03T17:25:39.442Z"
      },
      {
        "duration": 4427,
        "start_time": "2021-11-03T17:27:40.881Z"
      },
      {
        "duration": 181,
        "start_time": "2021-11-03T17:29:02.225Z"
      },
      {
        "duration": 7,
        "start_time": "2021-11-03T17:29:15.949Z"
      },
      {
        "duration": 8,
        "start_time": "2021-11-03T17:32:09.313Z"
      },
      {
        "duration": 6,
        "start_time": "2021-11-03T17:32:32.730Z"
      },
      {
        "duration": 7,
        "start_time": "2021-11-03T17:32:52.642Z"
      },
      {
        "duration": 6,
        "start_time": "2021-11-03T17:32:56.747Z"
      },
      {
        "duration": 8,
        "start_time": "2021-11-03T17:33:02.791Z"
      },
      {
        "duration": 6,
        "start_time": "2021-11-03T17:33:04.731Z"
      },
      {
        "duration": 18,
        "start_time": "2021-11-03T17:33:48.209Z"
      },
      {
        "duration": 18,
        "start_time": "2021-11-03T17:33:53.882Z"
      },
      {
        "duration": 7,
        "start_time": "2021-11-03T17:33:57.939Z"
      },
      {
        "duration": 563,
        "start_time": "2021-11-03T17:36:13.271Z"
      },
      {
        "duration": 49,
        "start_time": "2021-11-03T17:36:13.836Z"
      },
      {
        "duration": 27,
        "start_time": "2021-11-03T17:36:13.888Z"
      },
      {
        "duration": 7,
        "start_time": "2021-11-03T17:36:13.917Z"
      },
      {
        "duration": 5,
        "start_time": "2021-11-03T17:36:13.926Z"
      },
      {
        "duration": 10,
        "start_time": "2021-11-03T17:36:13.933Z"
      },
      {
        "duration": 57,
        "start_time": "2021-11-03T17:36:13.945Z"
      },
      {
        "duration": 5,
        "start_time": "2021-11-03T17:36:14.004Z"
      },
      {
        "duration": 8,
        "start_time": "2021-11-03T17:36:14.011Z"
      },
      {
        "duration": 7,
        "start_time": "2021-11-03T17:36:14.020Z"
      },
      {
        "duration": 7,
        "start_time": "2021-11-03T17:36:14.029Z"
      },
      {
        "duration": 8,
        "start_time": "2021-11-03T17:36:14.038Z"
      },
      {
        "duration": 44,
        "start_time": "2021-11-03T17:36:14.048Z"
      },
      {
        "duration": 19,
        "start_time": "2021-11-03T17:36:14.094Z"
      },
      {
        "duration": 6,
        "start_time": "2021-11-03T17:36:14.115Z"
      },
      {
        "duration": 7,
        "start_time": "2021-11-03T17:36:14.122Z"
      },
      {
        "duration": 13,
        "start_time": "2021-11-03T17:36:14.130Z"
      },
      {
        "duration": 7,
        "start_time": "2021-11-03T17:36:14.145Z"
      },
      {
        "duration": 4326,
        "start_time": "2021-11-03T17:36:14.153Z"
      },
      {
        "duration": 9741,
        "start_time": "2021-11-03T18:00:09.998Z"
      },
      {
        "duration": 22,
        "start_time": "2021-11-03T18:01:03.594Z"
      },
      {
        "duration": 11,
        "start_time": "2021-11-03T18:01:35.153Z"
      },
      {
        "duration": 7,
        "start_time": "2021-11-03T18:01:51.120Z"
      },
      {
        "duration": 16,
        "start_time": "2021-11-03T18:02:04.984Z"
      },
      {
        "duration": 184,
        "start_time": "2021-11-03T18:02:08.110Z"
      },
      {
        "duration": 516,
        "start_time": "2021-11-03T18:02:20.615Z"
      },
      {
        "duration": 5080,
        "start_time": "2021-11-03T18:02:29.550Z"
      },
      {
        "duration": 489,
        "start_time": "2021-11-03T18:02:43.248Z"
      },
      {
        "duration": 48,
        "start_time": "2021-11-03T18:02:43.739Z"
      },
      {
        "duration": 26,
        "start_time": "2021-11-03T18:02:43.790Z"
      },
      {
        "duration": 6,
        "start_time": "2021-11-03T18:02:43.817Z"
      },
      {
        "duration": 8,
        "start_time": "2021-11-03T18:02:43.824Z"
      },
      {
        "duration": 16,
        "start_time": "2021-11-03T18:02:43.833Z"
      },
      {
        "duration": 46,
        "start_time": "2021-11-03T18:02:43.852Z"
      },
      {
        "duration": 5,
        "start_time": "2021-11-03T18:02:43.900Z"
      },
      {
        "duration": 10,
        "start_time": "2021-11-03T18:02:43.906Z"
      },
      {
        "duration": 15,
        "start_time": "2021-11-03T18:02:43.917Z"
      },
      {
        "duration": 9,
        "start_time": "2021-11-03T18:02:43.933Z"
      },
      {
        "duration": 8,
        "start_time": "2021-11-03T18:02:43.944Z"
      },
      {
        "duration": 7,
        "start_time": "2021-11-03T18:02:43.954Z"
      },
      {
        "duration": 44,
        "start_time": "2021-11-03T18:02:43.962Z"
      },
      {
        "duration": 6,
        "start_time": "2021-11-03T18:02:44.008Z"
      },
      {
        "duration": 13,
        "start_time": "2021-11-03T18:02:44.015Z"
      },
      {
        "duration": 11,
        "start_time": "2021-11-03T18:02:44.029Z"
      },
      {
        "duration": 31,
        "start_time": "2021-11-03T18:02:44.041Z"
      },
      {
        "duration": 17,
        "start_time": "2021-11-03T18:02:44.074Z"
      },
      {
        "duration": 6,
        "start_time": "2021-11-03T18:02:44.093Z"
      },
      {
        "duration": 7,
        "start_time": "2021-11-03T18:02:44.100Z"
      },
      {
        "duration": 5101,
        "start_time": "2021-11-03T18:02:44.109Z"
      },
      {
        "duration": 27,
        "start_time": "2021-11-03T18:03:47.270Z"
      },
      {
        "duration": 569,
        "start_time": "2021-11-03T18:05:18.771Z"
      },
      {
        "duration": 48,
        "start_time": "2021-11-03T18:05:19.341Z"
      },
      {
        "duration": 25,
        "start_time": "2021-11-03T18:05:19.393Z"
      },
      {
        "duration": 8,
        "start_time": "2021-11-03T18:05:19.420Z"
      },
      {
        "duration": 6,
        "start_time": "2021-11-03T18:05:19.429Z"
      },
      {
        "duration": 20,
        "start_time": "2021-11-03T18:05:19.436Z"
      },
      {
        "duration": 49,
        "start_time": "2021-11-03T18:05:19.460Z"
      },
      {
        "duration": 7,
        "start_time": "2021-11-03T18:05:19.511Z"
      },
      {
        "duration": 8,
        "start_time": "2021-11-03T18:05:19.519Z"
      },
      {
        "duration": 8,
        "start_time": "2021-11-03T18:05:19.529Z"
      },
      {
        "duration": 9,
        "start_time": "2021-11-03T18:05:19.539Z"
      },
      {
        "duration": 46,
        "start_time": "2021-11-03T18:05:19.549Z"
      },
      {
        "duration": 9,
        "start_time": "2021-11-03T18:05:19.597Z"
      },
      {
        "duration": 20,
        "start_time": "2021-11-03T18:05:19.608Z"
      },
      {
        "duration": 8,
        "start_time": "2021-11-03T18:05:19.629Z"
      },
      {
        "duration": 8,
        "start_time": "2021-11-03T18:05:19.638Z"
      },
      {
        "duration": 47,
        "start_time": "2021-11-03T18:05:19.647Z"
      },
      {
        "duration": 21,
        "start_time": "2021-11-03T18:05:19.696Z"
      },
      {
        "duration": 26,
        "start_time": "2021-11-03T18:05:19.719Z"
      },
      {
        "duration": 7,
        "start_time": "2021-11-03T18:05:19.747Z"
      },
      {
        "duration": 6,
        "start_time": "2021-11-03T18:05:19.756Z"
      },
      {
        "duration": 4239,
        "start_time": "2021-11-03T18:05:19.765Z"
      },
      {
        "duration": 724,
        "start_time": "2021-11-03T18:06:07.046Z"
      },
      {
        "duration": 27,
        "start_time": "2021-11-03T18:06:19.600Z"
      },
      {
        "duration": 16,
        "start_time": "2021-11-03T18:06:53.104Z"
      },
      {
        "duration": 9,
        "start_time": "2021-11-03T18:06:57.114Z"
      },
      {
        "duration": 8,
        "start_time": "2021-11-03T18:07:21.944Z"
      },
      {
        "duration": 498,
        "start_time": "2021-11-03T18:08:10.341Z"
      },
      {
        "duration": 48,
        "start_time": "2021-11-03T18:08:10.840Z"
      },
      {
        "duration": 25,
        "start_time": "2021-11-03T18:08:10.890Z"
      },
      {
        "duration": 5,
        "start_time": "2021-11-03T18:08:10.917Z"
      },
      {
        "duration": 4,
        "start_time": "2021-11-03T18:08:10.924Z"
      },
      {
        "duration": 10,
        "start_time": "2021-11-03T18:08:10.930Z"
      },
      {
        "duration": 53,
        "start_time": "2021-11-03T18:08:10.941Z"
      },
      {
        "duration": 5,
        "start_time": "2021-11-03T18:08:10.996Z"
      },
      {
        "duration": 20,
        "start_time": "2021-11-03T18:08:11.003Z"
      },
      {
        "duration": 7,
        "start_time": "2021-11-03T18:08:11.024Z"
      },
      {
        "duration": 7,
        "start_time": "2021-11-03T18:08:11.033Z"
      },
      {
        "duration": 9,
        "start_time": "2021-11-03T18:08:11.042Z"
      },
      {
        "duration": 8,
        "start_time": "2021-11-03T18:08:11.052Z"
      },
      {
        "duration": 42,
        "start_time": "2021-11-03T18:08:11.062Z"
      },
      {
        "duration": 7,
        "start_time": "2021-11-03T18:08:11.105Z"
      },
      {
        "duration": 6,
        "start_time": "2021-11-03T18:08:11.113Z"
      },
      {
        "duration": 5,
        "start_time": "2021-11-03T18:08:11.121Z"
      },
      {
        "duration": 22,
        "start_time": "2021-11-03T18:08:11.128Z"
      },
      {
        "duration": 47,
        "start_time": "2021-11-03T18:08:11.152Z"
      },
      {
        "duration": 25,
        "start_time": "2021-11-03T18:08:11.201Z"
      },
      {
        "duration": 5,
        "start_time": "2021-11-03T18:08:11.228Z"
      },
      {
        "duration": 8,
        "start_time": "2021-11-03T18:08:11.235Z"
      },
      {
        "duration": 5167,
        "start_time": "2021-11-03T18:08:11.246Z"
      },
      {
        "duration": 9,
        "start_time": "2021-11-03T18:11:19.189Z"
      },
      {
        "duration": 2337,
        "start_time": "2021-11-03T18:15:14.075Z"
      },
      {
        "duration": 56,
        "start_time": "2021-11-03T18:15:59.541Z"
      },
      {
        "duration": 18,
        "start_time": "2021-11-03T18:16:01.964Z"
      },
      {
        "duration": 11,
        "start_time": "2021-11-03T18:16:05.564Z"
      },
      {
        "duration": 27,
        "start_time": "2021-11-03T18:16:07.999Z"
      },
      {
        "duration": 6,
        "start_time": "2021-11-03T18:16:20.812Z"
      },
      {
        "duration": 62,
        "start_time": "2021-11-03T18:16:50.368Z"
      },
      {
        "duration": 2732,
        "start_time": "2021-11-03T18:16:58.757Z"
      },
      {
        "duration": 14,
        "start_time": "2021-11-03T18:17:52.140Z"
      },
      {
        "duration": 20,
        "start_time": "2021-11-03T18:17:54.165Z"
      },
      {
        "duration": 558,
        "start_time": "2021-11-03T18:18:00.677Z"
      },
      {
        "duration": 49,
        "start_time": "2021-11-03T18:18:01.237Z"
      },
      {
        "duration": 26,
        "start_time": "2021-11-03T18:18:01.287Z"
      },
      {
        "duration": 5,
        "start_time": "2021-11-03T18:18:01.315Z"
      },
      {
        "duration": 11,
        "start_time": "2021-11-03T18:18:01.322Z"
      },
      {
        "duration": 13,
        "start_time": "2021-11-03T18:18:01.334Z"
      },
      {
        "duration": 47,
        "start_time": "2021-11-03T18:18:01.348Z"
      },
      {
        "duration": 4,
        "start_time": "2021-11-03T18:18:01.397Z"
      },
      {
        "duration": 13,
        "start_time": "2021-11-03T18:18:01.404Z"
      },
      {
        "duration": 22,
        "start_time": "2021-11-03T18:18:01.419Z"
      },
      {
        "duration": 11,
        "start_time": "2021-11-03T18:18:01.443Z"
      },
      {
        "duration": 9,
        "start_time": "2021-11-03T18:18:01.455Z"
      },
      {
        "duration": 11,
        "start_time": "2021-11-03T18:18:01.466Z"
      },
      {
        "duration": 27,
        "start_time": "2021-11-03T18:18:01.478Z"
      },
      {
        "duration": 8,
        "start_time": "2021-11-03T18:18:01.507Z"
      },
      {
        "duration": 8,
        "start_time": "2021-11-03T18:18:01.516Z"
      },
      {
        "duration": 13,
        "start_time": "2021-11-03T18:18:01.525Z"
      },
      {
        "duration": 16,
        "start_time": "2021-11-03T18:18:01.539Z"
      },
      {
        "duration": 37,
        "start_time": "2021-11-03T18:18:01.556Z"
      },
      {
        "duration": 10,
        "start_time": "2021-11-03T18:18:01.595Z"
      },
      {
        "duration": 31,
        "start_time": "2021-11-03T18:18:01.606Z"
      },
      {
        "duration": 6,
        "start_time": "2021-11-03T18:18:01.639Z"
      },
      {
        "duration": 8,
        "start_time": "2021-11-03T18:18:01.646Z"
      },
      {
        "duration": 4514,
        "start_time": "2021-11-03T18:18:01.655Z"
      },
      {
        "duration": 18,
        "start_time": "2021-11-03T18:26:58.304Z"
      },
      {
        "duration": 10,
        "start_time": "2021-11-03T18:27:03.219Z"
      },
      {
        "duration": 27,
        "start_time": "2021-11-03T18:27:06.903Z"
      },
      {
        "duration": 11,
        "start_time": "2021-11-03T18:27:43.826Z"
      },
      {
        "duration": 17,
        "start_time": "2021-11-03T18:27:46.290Z"
      },
      {
        "duration": 10,
        "start_time": "2021-11-03T18:27:48.708Z"
      },
      {
        "duration": 26,
        "start_time": "2021-11-03T18:27:52.645Z"
      },
      {
        "duration": 7,
        "start_time": "2021-11-03T18:28:06.736Z"
      },
      {
        "duration": 506,
        "start_time": "2021-11-03T18:28:23.747Z"
      },
      {
        "duration": 50,
        "start_time": "2021-11-03T18:28:24.255Z"
      },
      {
        "duration": 24,
        "start_time": "2021-11-03T18:28:24.309Z"
      },
      {
        "duration": 6,
        "start_time": "2021-11-03T18:28:24.334Z"
      },
      {
        "duration": 5,
        "start_time": "2021-11-03T18:28:24.341Z"
      },
      {
        "duration": 10,
        "start_time": "2021-11-03T18:28:24.348Z"
      },
      {
        "duration": 55,
        "start_time": "2021-11-03T18:28:24.361Z"
      },
      {
        "duration": 5,
        "start_time": "2021-11-03T18:28:24.418Z"
      },
      {
        "duration": 9,
        "start_time": "2021-11-03T18:28:24.424Z"
      },
      {
        "duration": 7,
        "start_time": "2021-11-03T18:28:24.434Z"
      },
      {
        "duration": 9,
        "start_time": "2021-11-03T18:28:24.442Z"
      },
      {
        "duration": 11,
        "start_time": "2021-11-03T18:28:24.453Z"
      },
      {
        "duration": 8,
        "start_time": "2021-11-03T18:28:24.491Z"
      },
      {
        "duration": 18,
        "start_time": "2021-11-03T18:28:24.501Z"
      },
      {
        "duration": 6,
        "start_time": "2021-11-03T18:28:24.520Z"
      },
      {
        "duration": 6,
        "start_time": "2021-11-03T18:28:24.528Z"
      },
      {
        "duration": 6,
        "start_time": "2021-11-03T18:28:24.535Z"
      },
      {
        "duration": 11,
        "start_time": "2021-11-03T18:28:24.542Z"
      },
      {
        "duration": 43,
        "start_time": "2021-11-03T18:28:24.554Z"
      },
      {
        "duration": 17,
        "start_time": "2021-11-03T18:28:24.598Z"
      },
      {
        "duration": 9,
        "start_time": "2021-11-03T18:28:24.616Z"
      },
      {
        "duration": 26,
        "start_time": "2021-11-03T18:28:24.628Z"
      },
      {
        "duration": 6,
        "start_time": "2021-11-03T18:28:24.655Z"
      },
      {
        "duration": 2,
        "start_time": "2021-11-03T18:28:24.692Z"
      },
      {
        "duration": 4640,
        "start_time": "2021-11-03T18:28:24.696Z"
      },
      {
        "duration": 927,
        "start_time": "2021-11-03T18:54:50.795Z"
      },
      {
        "duration": 51,
        "start_time": "2021-11-03T18:54:51.724Z"
      },
      {
        "duration": 26,
        "start_time": "2021-11-03T18:54:51.777Z"
      },
      {
        "duration": 6,
        "start_time": "2021-11-03T18:54:51.805Z"
      },
      {
        "duration": 4,
        "start_time": "2021-11-03T18:54:51.813Z"
      },
      {
        "duration": 10,
        "start_time": "2021-11-03T18:54:51.819Z"
      },
      {
        "duration": 62,
        "start_time": "2021-11-03T18:54:51.831Z"
      },
      {
        "duration": 5,
        "start_time": "2021-11-03T18:54:51.895Z"
      },
      {
        "duration": 10,
        "start_time": "2021-11-03T18:54:51.902Z"
      },
      {
        "duration": 8,
        "start_time": "2021-11-03T18:54:51.913Z"
      },
      {
        "duration": 8,
        "start_time": "2021-11-03T18:54:51.923Z"
      },
      {
        "duration": 10,
        "start_time": "2021-11-03T18:54:51.932Z"
      },
      {
        "duration": 8,
        "start_time": "2021-11-03T18:54:51.943Z"
      },
      {
        "duration": 54,
        "start_time": "2021-11-03T18:54:51.953Z"
      },
      {
        "duration": 7,
        "start_time": "2021-11-03T18:54:52.008Z"
      },
      {
        "duration": 6,
        "start_time": "2021-11-03T18:54:52.016Z"
      },
      {
        "duration": 5,
        "start_time": "2021-11-03T18:54:52.024Z"
      },
      {
        "duration": 10,
        "start_time": "2021-11-03T18:54:52.031Z"
      },
      {
        "duration": 6,
        "start_time": "2021-11-03T18:54:52.042Z"
      },
      {
        "duration": 60,
        "start_time": "2021-11-03T18:54:52.049Z"
      },
      {
        "duration": 9,
        "start_time": "2021-11-03T18:54:52.111Z"
      },
      {
        "duration": 36,
        "start_time": "2021-11-03T18:54:52.122Z"
      },
      {
        "duration": 6,
        "start_time": "2021-11-03T18:54:52.161Z"
      },
      {
        "duration": 6,
        "start_time": "2021-11-03T18:54:52.168Z"
      },
      {
        "duration": 4398,
        "start_time": "2021-11-03T18:54:52.176Z"
      },
      {
        "duration": 185,
        "start_time": "2021-11-03T20:15:51.005Z"
      },
      {
        "duration": 6,
        "start_time": "2021-11-03T20:17:01.000Z"
      },
      {
        "duration": 528,
        "start_time": "2021-11-03T20:21:53.959Z"
      },
      {
        "duration": 50,
        "start_time": "2021-11-03T20:21:54.488Z"
      },
      {
        "duration": 25,
        "start_time": "2021-11-03T20:21:54.540Z"
      },
      {
        "duration": 5,
        "start_time": "2021-11-03T20:21:54.566Z"
      },
      {
        "duration": 5,
        "start_time": "2021-11-03T20:21:54.573Z"
      },
      {
        "duration": 18,
        "start_time": "2021-11-03T20:21:54.580Z"
      },
      {
        "duration": 30,
        "start_time": "2021-11-03T20:21:54.600Z"
      },
      {
        "duration": 4,
        "start_time": "2021-11-03T20:21:54.633Z"
      },
      {
        "duration": 8,
        "start_time": "2021-11-03T20:21:54.639Z"
      },
      {
        "duration": 8,
        "start_time": "2021-11-03T20:21:54.648Z"
      },
      {
        "duration": 35,
        "start_time": "2021-11-03T20:21:54.657Z"
      },
      {
        "duration": 9,
        "start_time": "2021-11-03T20:21:54.694Z"
      },
      {
        "duration": 7,
        "start_time": "2021-11-03T20:21:54.705Z"
      },
      {
        "duration": 17,
        "start_time": "2021-11-03T20:21:54.714Z"
      },
      {
        "duration": 6,
        "start_time": "2021-11-03T20:21:54.732Z"
      },
      {
        "duration": 6,
        "start_time": "2021-11-03T20:21:54.740Z"
      },
      {
        "duration": 46,
        "start_time": "2021-11-03T20:21:54.748Z"
      },
      {
        "duration": 3,
        "start_time": "2021-11-03T20:21:54.795Z"
      },
      {
        "duration": 436,
        "start_time": "2021-11-03T20:21:54.799Z"
      },
      {
        "duration": -814,
        "start_time": "2021-11-03T20:21:56.050Z"
      },
      {
        "duration": -815,
        "start_time": "2021-11-03T20:21:56.052Z"
      },
      {
        "duration": -818,
        "start_time": "2021-11-03T20:21:56.056Z"
      },
      {
        "duration": -830,
        "start_time": "2021-11-03T20:21:56.069Z"
      },
      {
        "duration": -832,
        "start_time": "2021-11-03T20:21:56.072Z"
      },
      {
        "duration": -834,
        "start_time": "2021-11-03T20:21:56.075Z"
      },
      {
        "duration": -837,
        "start_time": "2021-11-03T20:21:56.078Z"
      },
      {
        "duration": 3,
        "start_time": "2021-11-03T20:22:13.529Z"
      },
      {
        "duration": 4550,
        "start_time": "2021-11-03T20:22:15.543Z"
      },
      {
        "duration": 3,
        "start_time": "2021-11-03T20:22:42.809Z"
      },
      {
        "duration": 4412,
        "start_time": "2021-11-03T20:22:44.874Z"
      },
      {
        "duration": 3,
        "start_time": "2021-11-03T20:23:11.821Z"
      },
      {
        "duration": 31,
        "start_time": "2021-11-03T20:23:13.675Z"
      },
      {
        "duration": 170,
        "start_time": "2021-11-03T20:23:39.360Z"
      },
      {
        "duration": 3,
        "start_time": "2021-11-03T20:24:45.650Z"
      },
      {
        "duration": 49,
        "start_time": "2021-11-03T20:24:47.467Z"
      },
      {
        "duration": 553,
        "start_time": "2021-11-03T20:24:52.983Z"
      },
      {
        "duration": 49,
        "start_time": "2021-11-03T20:24:53.538Z"
      },
      {
        "duration": 26,
        "start_time": "2021-11-03T20:24:53.589Z"
      },
      {
        "duration": 8,
        "start_time": "2021-11-03T20:24:53.616Z"
      },
      {
        "duration": 4,
        "start_time": "2021-11-03T20:24:53.626Z"
      },
      {
        "duration": 12,
        "start_time": "2021-11-03T20:24:53.631Z"
      },
      {
        "duration": 51,
        "start_time": "2021-11-03T20:24:53.644Z"
      },
      {
        "duration": 5,
        "start_time": "2021-11-03T20:24:53.697Z"
      },
      {
        "duration": 7,
        "start_time": "2021-11-03T20:24:53.704Z"
      },
      {
        "duration": 9,
        "start_time": "2021-11-03T20:24:53.713Z"
      },
      {
        "duration": 8,
        "start_time": "2021-11-03T20:24:53.723Z"
      },
      {
        "duration": 10,
        "start_time": "2021-11-03T20:24:53.732Z"
      },
      {
        "duration": 7,
        "start_time": "2021-11-03T20:24:53.744Z"
      },
      {
        "duration": 52,
        "start_time": "2021-11-03T20:24:53.753Z"
      },
      {
        "duration": 6,
        "start_time": "2021-11-03T20:24:53.807Z"
      },
      {
        "duration": 6,
        "start_time": "2021-11-03T20:24:53.815Z"
      },
      {
        "duration": 7,
        "start_time": "2021-11-03T20:24:53.822Z"
      },
      {
        "duration": 3,
        "start_time": "2021-11-03T20:24:53.830Z"
      },
      {
        "duration": 60,
        "start_time": "2021-11-03T20:24:53.834Z"
      },
      {
        "duration": 6,
        "start_time": "2021-11-03T20:24:53.896Z"
      },
      {
        "duration": 7,
        "start_time": "2021-11-03T20:24:53.903Z"
      },
      {
        "duration": 18,
        "start_time": "2021-11-03T20:24:53.911Z"
      },
      {
        "duration": 9,
        "start_time": "2021-11-03T20:24:53.932Z"
      },
      {
        "duration": 53,
        "start_time": "2021-11-03T20:24:53.943Z"
      },
      {
        "duration": 6,
        "start_time": "2021-11-03T20:24:53.997Z"
      },
      {
        "duration": 4337,
        "start_time": "2021-11-03T20:24:54.005Z"
      },
      {
        "duration": 4,
        "start_time": "2021-11-03T20:30:37.206Z"
      },
      {
        "duration": 3,
        "start_time": "2021-11-03T20:30:41.478Z"
      },
      {
        "duration": 4,
        "start_time": "2021-11-03T20:30:53.286Z"
      },
      {
        "duration": 501,
        "start_time": "2021-11-03T20:33:55.837Z"
      },
      {
        "duration": 50,
        "start_time": "2021-11-03T20:33:56.340Z"
      },
      {
        "duration": 24,
        "start_time": "2021-11-03T20:33:56.392Z"
      },
      {
        "duration": 6,
        "start_time": "2021-11-03T20:33:56.417Z"
      },
      {
        "duration": 4,
        "start_time": "2021-11-03T20:33:56.424Z"
      },
      {
        "duration": 9,
        "start_time": "2021-11-03T20:33:56.430Z"
      },
      {
        "duration": 52,
        "start_time": "2021-11-03T20:33:56.441Z"
      },
      {
        "duration": 5,
        "start_time": "2021-11-03T20:33:56.495Z"
      },
      {
        "duration": 12,
        "start_time": "2021-11-03T20:33:56.502Z"
      },
      {
        "duration": 10,
        "start_time": "2021-11-03T20:33:56.515Z"
      },
      {
        "duration": 7,
        "start_time": "2021-11-03T20:33:56.527Z"
      },
      {
        "duration": 9,
        "start_time": "2021-11-03T20:33:56.536Z"
      },
      {
        "duration": 8,
        "start_time": "2021-11-03T20:33:56.546Z"
      },
      {
        "duration": 51,
        "start_time": "2021-11-03T20:33:56.555Z"
      },
      {
        "duration": 7,
        "start_time": "2021-11-03T20:33:56.608Z"
      },
      {
        "duration": 8,
        "start_time": "2021-11-03T20:33:56.616Z"
      },
      {
        "duration": 5,
        "start_time": "2021-11-03T20:33:56.626Z"
      },
      {
        "duration": 4,
        "start_time": "2021-11-03T20:33:56.633Z"
      },
      {
        "duration": 145,
        "start_time": "2021-11-03T20:33:56.638Z"
      },
      {
        "duration": 10,
        "start_time": "2021-11-03T20:33:56.785Z"
      },
      {
        "duration": 5,
        "start_time": "2021-11-03T20:33:56.796Z"
      },
      {
        "duration": 16,
        "start_time": "2021-11-03T20:33:56.803Z"
      },
      {
        "duration": 10,
        "start_time": "2021-11-03T20:33:56.821Z"
      },
      {
        "duration": 27,
        "start_time": "2021-11-03T20:33:56.832Z"
      },
      {
        "duration": 34,
        "start_time": "2021-11-03T20:33:56.861Z"
      },
      {
        "duration": 5389,
        "start_time": "2021-11-03T20:33:56.896Z"
      },
      {
        "duration": 113,
        "start_time": "2021-11-03T20:34:43.240Z"
      },
      {
        "duration": 7,
        "start_time": "2021-11-03T20:34:48.330Z"
      },
      {
        "duration": 5,
        "start_time": "2021-11-03T20:36:11.407Z"
      },
      {
        "duration": 115,
        "start_time": "2021-11-03T20:36:14.409Z"
      },
      {
        "duration": 113,
        "start_time": "2021-11-03T20:36:19.867Z"
      },
      {
        "duration": 7,
        "start_time": "2021-11-03T20:36:22.698Z"
      },
      {
        "duration": 10,
        "start_time": "2021-11-03T20:36:36.927Z"
      },
      {
        "duration": 1486,
        "start_time": "2021-11-03T20:36:51.202Z"
      },
      {
        "duration": 52,
        "start_time": "2021-11-03T20:36:52.690Z"
      },
      {
        "duration": 27,
        "start_time": "2021-11-03T20:36:52.744Z"
      },
      {
        "duration": 6,
        "start_time": "2021-11-03T20:36:52.773Z"
      },
      {
        "duration": 13,
        "start_time": "2021-11-03T20:36:52.781Z"
      },
      {
        "duration": 10,
        "start_time": "2021-11-03T20:36:52.795Z"
      },
      {
        "duration": 36,
        "start_time": "2021-11-03T20:36:52.807Z"
      },
      {
        "duration": 7,
        "start_time": "2021-11-03T20:36:52.845Z"
      },
      {
        "duration": 8,
        "start_time": "2021-11-03T20:36:52.855Z"
      },
      {
        "duration": 9,
        "start_time": "2021-11-03T20:36:52.892Z"
      },
      {
        "duration": 9,
        "start_time": "2021-11-03T20:36:52.904Z"
      },
      {
        "duration": 11,
        "start_time": "2021-11-03T20:36:52.914Z"
      },
      {
        "duration": 9,
        "start_time": "2021-11-03T20:36:52.926Z"
      },
      {
        "duration": 56,
        "start_time": "2021-11-03T20:36:52.937Z"
      },
      {
        "duration": 8,
        "start_time": "2021-11-03T20:36:52.995Z"
      },
      {
        "duration": 10,
        "start_time": "2021-11-03T20:36:53.005Z"
      },
      {
        "duration": 8,
        "start_time": "2021-11-03T20:36:53.017Z"
      },
      {
        "duration": 6,
        "start_time": "2021-11-03T20:36:53.027Z"
      },
      {
        "duration": 171,
        "start_time": "2021-11-03T20:36:53.034Z"
      },
      {
        "duration": 6,
        "start_time": "2021-11-03T20:36:53.207Z"
      },
      {
        "duration": 9,
        "start_time": "2021-11-03T20:36:53.214Z"
      },
      {
        "duration": 18,
        "start_time": "2021-11-03T20:36:53.224Z"
      },
      {
        "duration": 10,
        "start_time": "2021-11-03T20:36:53.243Z"
      },
      {
        "duration": 54,
        "start_time": "2021-11-03T20:36:53.255Z"
      },
      {
        "duration": 6,
        "start_time": "2021-11-03T20:36:53.310Z"
      },
      {
        "duration": 4593,
        "start_time": "2021-11-03T20:36:53.318Z"
      },
      {
        "duration": 640,
        "start_time": "2021-11-03T20:40:34.805Z"
      },
      {
        "duration": 55,
        "start_time": "2021-11-03T20:40:35.447Z"
      },
      {
        "duration": 37,
        "start_time": "2021-11-03T20:40:35.504Z"
      },
      {
        "duration": 7,
        "start_time": "2021-11-03T20:40:35.544Z"
      },
      {
        "duration": 7,
        "start_time": "2021-11-03T20:40:35.553Z"
      },
      {
        "duration": 22,
        "start_time": "2021-11-03T20:40:35.561Z"
      },
      {
        "duration": 35,
        "start_time": "2021-11-03T20:40:35.592Z"
      },
      {
        "duration": 5,
        "start_time": "2021-11-03T20:40:35.629Z"
      },
      {
        "duration": 17,
        "start_time": "2021-11-03T20:40:35.637Z"
      },
      {
        "duration": 13,
        "start_time": "2021-11-03T20:40:35.656Z"
      },
      {
        "duration": 21,
        "start_time": "2021-11-03T20:40:35.671Z"
      },
      {
        "duration": 12,
        "start_time": "2021-11-03T20:40:35.694Z"
      },
      {
        "duration": 10,
        "start_time": "2021-11-03T20:40:35.708Z"
      },
      {
        "duration": 21,
        "start_time": "2021-11-03T20:40:35.720Z"
      },
      {
        "duration": 15,
        "start_time": "2021-11-03T20:40:35.743Z"
      },
      {
        "duration": 7,
        "start_time": "2021-11-03T20:40:35.760Z"
      },
      {
        "duration": 9,
        "start_time": "2021-11-03T20:40:35.791Z"
      },
      {
        "duration": 15,
        "start_time": "2021-11-03T20:40:35.802Z"
      },
      {
        "duration": 5,
        "start_time": "2021-11-03T20:40:35.818Z"
      },
      {
        "duration": 183,
        "start_time": "2021-11-03T20:40:35.824Z"
      },
      {
        "duration": 8,
        "start_time": "2021-11-03T20:40:36.009Z"
      },
      {
        "duration": 9,
        "start_time": "2021-11-03T20:40:36.019Z"
      },
      {
        "duration": 21,
        "start_time": "2021-11-03T20:40:36.031Z"
      },
      {
        "duration": 41,
        "start_time": "2021-11-03T20:40:36.054Z"
      },
      {
        "duration": 34,
        "start_time": "2021-11-03T20:40:36.097Z"
      },
      {
        "duration": 9,
        "start_time": "2021-11-03T20:40:36.134Z"
      },
      {
        "duration": 8128,
        "start_time": "2021-11-03T20:40:36.145Z"
      },
      {
        "duration": 4,
        "start_time": "2021-11-03T20:40:57.756Z"
      },
      {
        "duration": 116,
        "start_time": "2021-11-03T20:40:59.486Z"
      },
      {
        "duration": 7,
        "start_time": "2021-11-03T20:41:01.717Z"
      },
      {
        "duration": 497,
        "start_time": "2021-11-03T20:41:24.551Z"
      },
      {
        "duration": 52,
        "start_time": "2021-11-03T20:41:25.051Z"
      },
      {
        "duration": 27,
        "start_time": "2021-11-03T20:41:25.107Z"
      },
      {
        "duration": 6,
        "start_time": "2021-11-03T20:41:25.135Z"
      },
      {
        "duration": 6,
        "start_time": "2021-11-03T20:41:25.142Z"
      },
      {
        "duration": 11,
        "start_time": "2021-11-03T20:41:25.149Z"
      },
      {
        "duration": 59,
        "start_time": "2021-11-03T20:41:25.162Z"
      },
      {
        "duration": 5,
        "start_time": "2021-11-03T20:41:25.223Z"
      },
      {
        "duration": 8,
        "start_time": "2021-11-03T20:41:25.229Z"
      },
      {
        "duration": 8,
        "start_time": "2021-11-03T20:41:25.239Z"
      },
      {
        "duration": 8,
        "start_time": "2021-11-03T20:41:25.248Z"
      },
      {
        "duration": 37,
        "start_time": "2021-11-03T20:41:25.257Z"
      },
      {
        "duration": 8,
        "start_time": "2021-11-03T20:41:25.296Z"
      },
      {
        "duration": 18,
        "start_time": "2021-11-03T20:41:25.305Z"
      },
      {
        "duration": 8,
        "start_time": "2021-11-03T20:41:25.325Z"
      },
      {
        "duration": 6,
        "start_time": "2021-11-03T20:41:25.334Z"
      },
      {
        "duration": 6,
        "start_time": "2021-11-03T20:41:25.342Z"
      },
      {
        "duration": 51,
        "start_time": "2021-11-03T20:41:25.349Z"
      },
      {
        "duration": 4,
        "start_time": "2021-11-03T20:41:25.401Z"
      },
      {
        "duration": 132,
        "start_time": "2021-11-03T20:41:25.406Z"
      },
      {
        "duration": 6,
        "start_time": "2021-11-03T20:41:25.540Z"
      },
      {
        "duration": 5,
        "start_time": "2021-11-03T20:41:25.549Z"
      },
      {
        "duration": 36,
        "start_time": "2021-11-03T20:41:25.556Z"
      },
      {
        "duration": 9,
        "start_time": "2021-11-03T20:41:25.594Z"
      },
      {
        "duration": 25,
        "start_time": "2021-11-03T20:41:25.604Z"
      },
      {
        "duration": 5,
        "start_time": "2021-11-03T20:41:25.631Z"
      },
      {
        "duration": 4348,
        "start_time": "2021-11-03T20:41:25.638Z"
      },
      {
        "duration": 121,
        "start_time": "2021-11-03T20:42:13.436Z"
      },
      {
        "duration": 545,
        "start_time": "2021-11-03T20:42:18.283Z"
      },
      {
        "duration": 52,
        "start_time": "2021-11-03T20:42:18.829Z"
      },
      {
        "duration": 27,
        "start_time": "2021-11-03T20:42:18.883Z"
      },
      {
        "duration": 7,
        "start_time": "2021-11-03T20:42:18.911Z"
      },
      {
        "duration": 5,
        "start_time": "2021-11-03T20:42:18.919Z"
      },
      {
        "duration": 11,
        "start_time": "2021-11-03T20:42:18.925Z"
      },
      {
        "duration": 30,
        "start_time": "2021-11-03T20:42:18.937Z"
      },
      {
        "duration": 5,
        "start_time": "2021-11-03T20:42:18.992Z"
      },
      {
        "duration": 7,
        "start_time": "2021-11-03T20:42:18.999Z"
      },
      {
        "duration": 7,
        "start_time": "2021-11-03T20:42:19.008Z"
      },
      {
        "duration": 7,
        "start_time": "2021-11-03T20:42:19.017Z"
      },
      {
        "duration": 9,
        "start_time": "2021-11-03T20:42:19.026Z"
      },
      {
        "duration": 8,
        "start_time": "2021-11-03T20:42:19.036Z"
      },
      {
        "duration": 55,
        "start_time": "2021-11-03T20:42:19.045Z"
      },
      {
        "duration": 6,
        "start_time": "2021-11-03T20:42:19.102Z"
      },
      {
        "duration": 7,
        "start_time": "2021-11-03T20:42:19.109Z"
      },
      {
        "duration": 6,
        "start_time": "2021-11-03T20:42:19.117Z"
      },
      {
        "duration": 14,
        "start_time": "2021-11-03T20:42:19.124Z"
      },
      {
        "duration": 3,
        "start_time": "2021-11-03T20:42:19.139Z"
      },
      {
        "duration": 155,
        "start_time": "2021-11-03T20:42:19.144Z"
      },
      {
        "duration": 6,
        "start_time": "2021-11-03T20:42:19.301Z"
      },
      {
        "duration": 5,
        "start_time": "2021-11-03T20:42:19.309Z"
      },
      {
        "duration": 19,
        "start_time": "2021-11-03T20:42:19.317Z"
      },
      {
        "duration": 9,
        "start_time": "2021-11-03T20:42:19.337Z"
      },
      {
        "duration": 49,
        "start_time": "2021-11-03T20:42:19.347Z"
      },
      {
        "duration": 6,
        "start_time": "2021-11-03T20:42:19.397Z"
      },
      {
        "duration": 5694,
        "start_time": "2021-11-03T20:42:19.404Z"
      },
      {
        "duration": 183,
        "start_time": "2021-11-03T20:44:10.146Z"
      },
      {
        "duration": 222,
        "start_time": "2021-11-03T20:44:22.890Z"
      },
      {
        "duration": 549,
        "start_time": "2021-11-03T20:44:41.883Z"
      },
      {
        "duration": 49,
        "start_time": "2021-11-03T20:44:42.434Z"
      },
      {
        "duration": 24,
        "start_time": "2021-11-03T20:44:42.485Z"
      },
      {
        "duration": 5,
        "start_time": "2021-11-03T20:44:42.511Z"
      },
      {
        "duration": 4,
        "start_time": "2021-11-03T20:44:42.518Z"
      },
      {
        "duration": 11,
        "start_time": "2021-11-03T20:44:42.523Z"
      },
      {
        "duration": 28,
        "start_time": "2021-11-03T20:44:42.536Z"
      },
      {
        "duration": 28,
        "start_time": "2021-11-03T20:44:42.566Z"
      },
      {
        "duration": 6,
        "start_time": "2021-11-03T20:44:42.596Z"
      },
      {
        "duration": 7,
        "start_time": "2021-11-03T20:44:42.604Z"
      },
      {
        "duration": 8,
        "start_time": "2021-11-03T20:44:42.612Z"
      },
      {
        "duration": 9,
        "start_time": "2021-11-03T20:44:42.622Z"
      },
      {
        "duration": 5,
        "start_time": "2021-11-03T20:44:42.632Z"
      },
      {
        "duration": 7,
        "start_time": "2021-11-03T20:44:42.639Z"
      },
      {
        "duration": 47,
        "start_time": "2021-11-03T20:44:42.647Z"
      },
      {
        "duration": 6,
        "start_time": "2021-11-03T20:44:42.695Z"
      },
      {
        "duration": 15,
        "start_time": "2021-11-03T20:44:42.702Z"
      },
      {
        "duration": 3,
        "start_time": "2021-11-03T20:44:42.718Z"
      },
      {
        "duration": 138,
        "start_time": "2021-11-03T20:44:42.723Z"
      },
      {
        "duration": 6,
        "start_time": "2021-11-03T20:44:42.863Z"
      },
      {
        "duration": 25,
        "start_time": "2021-11-03T20:44:42.870Z"
      },
      {
        "duration": 7397,
        "start_time": "2021-11-03T20:44:42.897Z"
      },
      {
        "duration": 11,
        "start_time": "2021-11-03T21:13:28.296Z"
      },
      {
        "duration": 11,
        "start_time": "2021-11-03T21:13:42.784Z"
      },
      {
        "duration": 11,
        "start_time": "2021-11-03T21:14:52.373Z"
      },
      {
        "duration": 4,
        "start_time": "2021-11-03T21:15:23.197Z"
      },
      {
        "duration": 10,
        "start_time": "2021-11-03T21:15:34.925Z"
      },
      {
        "duration": 12,
        "start_time": "2021-11-03T21:20:31.460Z"
      },
      {
        "duration": 25,
        "start_time": "2021-11-03T21:20:54.453Z"
      },
      {
        "duration": 17,
        "start_time": "2021-11-03T21:21:02.468Z"
      },
      {
        "duration": 178,
        "start_time": "2021-11-03T21:24:33.322Z"
      },
      {
        "duration": 14,
        "start_time": "2021-11-03T21:24:38.928Z"
      },
      {
        "duration": 30,
        "start_time": "2021-11-03T21:25:37.950Z"
      },
      {
        "duration": 12,
        "start_time": "2021-11-03T21:26:09.149Z"
      },
      {
        "duration": 13,
        "start_time": "2021-11-03T21:26:11.022Z"
      },
      {
        "duration": 19,
        "start_time": "2021-11-03T21:26:20.029Z"
      },
      {
        "duration": 14,
        "start_time": "2021-11-03T21:26:22.345Z"
      },
      {
        "duration": 4,
        "start_time": "2021-11-03T21:36:39.169Z"
      },
      {
        "duration": 175,
        "start_time": "2021-11-03T21:37:32.500Z"
      },
      {
        "duration": 3271,
        "start_time": "2021-11-03T21:40:27.083Z"
      },
      {
        "duration": 2767,
        "start_time": "2021-11-03T21:41:26.096Z"
      },
      {
        "duration": 2571,
        "start_time": "2021-11-03T21:42:05.572Z"
      },
      {
        "duration": 2980,
        "start_time": "2021-11-03T21:42:25.191Z"
      },
      {
        "duration": 2627,
        "start_time": "2021-11-03T21:42:47.918Z"
      },
      {
        "duration": 2573,
        "start_time": "2021-11-03T21:42:56.087Z"
      },
      {
        "duration": 349,
        "start_time": "2021-11-04T11:02:08.024Z"
      },
      {
        "duration": 1056,
        "start_time": "2021-11-04T11:02:32.309Z"
      },
      {
        "duration": 91,
        "start_time": "2021-11-04T11:02:33.369Z"
      },
      {
        "duration": 78,
        "start_time": "2021-11-04T11:02:33.468Z"
      },
      {
        "duration": 33,
        "start_time": "2021-11-04T11:02:33.549Z"
      },
      {
        "duration": 9,
        "start_time": "2021-11-04T11:02:33.585Z"
      },
      {
        "duration": 17,
        "start_time": "2021-11-04T11:02:33.597Z"
      },
      {
        "duration": 79,
        "start_time": "2021-11-04T11:02:33.618Z"
      },
      {
        "duration": 11,
        "start_time": "2021-11-04T11:02:33.701Z"
      },
      {
        "duration": 15,
        "start_time": "2021-11-04T11:02:33.715Z"
      },
      {
        "duration": 52,
        "start_time": "2021-11-04T11:02:33.733Z"
      },
      {
        "duration": 22,
        "start_time": "2021-11-04T11:02:33.789Z"
      },
      {
        "duration": 15,
        "start_time": "2021-11-04T11:02:33.814Z"
      },
      {
        "duration": 9,
        "start_time": "2021-11-04T11:02:33.832Z"
      },
      {
        "duration": 59,
        "start_time": "2021-11-04T11:02:33.844Z"
      },
      {
        "duration": 5,
        "start_time": "2021-11-04T11:02:33.906Z"
      },
      {
        "duration": 217,
        "start_time": "2021-11-04T11:02:33.913Z"
      },
      {
        "duration": 14,
        "start_time": "2021-11-04T11:02:34.133Z"
      },
      {
        "duration": 40,
        "start_time": "2021-11-04T11:02:34.150Z"
      },
      {
        "duration": 19,
        "start_time": "2021-11-04T11:02:34.193Z"
      },
      {
        "duration": 22,
        "start_time": "2021-11-04T11:02:34.215Z"
      },
      {
        "duration": 69,
        "start_time": "2021-11-04T11:02:34.239Z"
      },
      {
        "duration": 30,
        "start_time": "2021-11-04T11:02:34.314Z"
      },
      {
        "duration": 4835,
        "start_time": "2021-11-04T11:02:34.346Z"
      },
      {
        "duration": 3812,
        "start_time": "2021-11-04T11:02:54.934Z"
      },
      {
        "duration": 3920,
        "start_time": "2021-11-04T11:03:21.264Z"
      },
      {
        "duration": 732,
        "start_time": "2021-11-04T17:29:48.604Z"
      },
      {
        "duration": 70,
        "start_time": "2021-11-04T17:29:49.339Z"
      },
      {
        "duration": 56,
        "start_time": "2021-11-04T17:29:49.413Z"
      },
      {
        "duration": 8,
        "start_time": "2021-11-04T17:29:49.472Z"
      },
      {
        "duration": 12,
        "start_time": "2021-11-04T17:29:49.483Z"
      },
      {
        "duration": 18,
        "start_time": "2021-11-04T17:29:49.497Z"
      },
      {
        "duration": 87,
        "start_time": "2021-11-04T17:29:49.518Z"
      },
      {
        "duration": 9,
        "start_time": "2021-11-04T17:29:49.610Z"
      },
      {
        "duration": 44,
        "start_time": "2021-11-04T17:29:49.623Z"
      },
      {
        "duration": 14,
        "start_time": "2021-11-04T17:29:49.670Z"
      },
      {
        "duration": 13,
        "start_time": "2021-11-04T17:29:49.687Z"
      },
      {
        "duration": 17,
        "start_time": "2021-11-04T17:29:49.702Z"
      },
      {
        "duration": 52,
        "start_time": "2021-11-04T17:29:49.722Z"
      },
      {
        "duration": 25,
        "start_time": "2021-11-04T17:29:49.776Z"
      },
      {
        "duration": 4,
        "start_time": "2021-11-04T17:29:49.804Z"
      },
      {
        "duration": 227,
        "start_time": "2021-11-04T17:29:49.811Z"
      },
      {
        "duration": 14,
        "start_time": "2021-11-04T17:29:50.040Z"
      },
      {
        "duration": 17,
        "start_time": "2021-11-04T17:29:50.068Z"
      },
      {
        "duration": 18,
        "start_time": "2021-11-04T17:29:50.087Z"
      },
      {
        "duration": 21,
        "start_time": "2021-11-04T17:29:50.107Z"
      },
      {
        "duration": 58,
        "start_time": "2021-11-04T17:29:50.130Z"
      },
      {
        "duration": 20,
        "start_time": "2021-11-04T17:29:50.190Z"
      },
      {
        "duration": 4992,
        "start_time": "2021-11-04T17:29:50.215Z"
      },
      {
        "duration": -319,
        "start_time": "2021-11-04T17:29:55.528Z"
      },
      {
        "duration": 3657,
        "start_time": "2021-11-04T17:30:45.532Z"
      },
      {
        "duration": 3632,
        "start_time": "2021-11-04T17:30:55.949Z"
      },
      {
        "duration": 4032,
        "start_time": "2021-11-04T17:31:36.168Z"
      },
      {
        "duration": 4040,
        "start_time": "2021-11-04T17:33:10.914Z"
      },
      {
        "duration": 3911,
        "start_time": "2021-11-04T17:34:33.172Z"
      },
      {
        "duration": 3745,
        "start_time": "2021-11-04T17:34:52.132Z"
      },
      {
        "duration": 3876,
        "start_time": "2021-11-04T17:35:16.581Z"
      },
      {
        "duration": 730,
        "start_time": "2021-11-04T17:35:30.309Z"
      },
      {
        "duration": 66,
        "start_time": "2021-11-04T17:35:31.041Z"
      },
      {
        "duration": 60,
        "start_time": "2021-11-04T17:35:31.114Z"
      },
      {
        "duration": 8,
        "start_time": "2021-11-04T17:35:31.177Z"
      },
      {
        "duration": 11,
        "start_time": "2021-11-04T17:35:31.188Z"
      },
      {
        "duration": 15,
        "start_time": "2021-11-04T17:35:31.202Z"
      },
      {
        "duration": 80,
        "start_time": "2021-11-04T17:35:31.221Z"
      },
      {
        "duration": 8,
        "start_time": "2021-11-04T17:35:31.304Z"
      },
      {
        "duration": 18,
        "start_time": "2021-11-04T17:35:31.314Z"
      },
      {
        "duration": 37,
        "start_time": "2021-11-04T17:35:31.335Z"
      },
      {
        "duration": 13,
        "start_time": "2021-11-04T17:35:31.374Z"
      },
      {
        "duration": 15,
        "start_time": "2021-11-04T17:35:31.389Z"
      },
      {
        "duration": 9,
        "start_time": "2021-11-04T17:35:31.407Z"
      },
      {
        "duration": 63,
        "start_time": "2021-11-04T17:35:31.419Z"
      },
      {
        "duration": 5,
        "start_time": "2021-11-04T17:35:31.485Z"
      },
      {
        "duration": 233,
        "start_time": "2021-11-04T17:35:31.493Z"
      },
      {
        "duration": 17,
        "start_time": "2021-11-04T17:35:31.728Z"
      },
      {
        "duration": 19,
        "start_time": "2021-11-04T17:35:31.768Z"
      },
      {
        "duration": 19,
        "start_time": "2021-11-04T17:35:31.790Z"
      },
      {
        "duration": 58,
        "start_time": "2021-11-04T17:35:31.812Z"
      },
      {
        "duration": 24,
        "start_time": "2021-11-04T17:35:31.873Z"
      },
      {
        "duration": 20,
        "start_time": "2021-11-04T17:35:31.902Z"
      },
      {
        "duration": 369,
        "start_time": "2021-11-04T17:35:31.925Z"
      },
      {
        "duration": -318,
        "start_time": "2021-11-04T17:35:32.615Z"
      },
      {
        "duration": 4718,
        "start_time": "2021-11-04T17:35:38.610Z"
      },
      {
        "duration": 272,
        "start_time": "2021-11-04T17:36:29.256Z"
      },
      {
        "duration": 3794,
        "start_time": "2021-11-04T17:37:01.675Z"
      },
      {
        "duration": 17,
        "start_time": "2021-11-04T17:37:50.746Z"
      },
      {
        "duration": 286,
        "start_time": "2021-11-04T18:01:56.215Z"
      },
      {
        "duration": 7698,
        "start_time": "2021-11-04T18:02:18.121Z"
      },
      {
        "duration": 3916,
        "start_time": "2021-11-04T18:02:53.712Z"
      },
      {
        "duration": 30,
        "start_time": "2021-11-04T18:03:36.131Z"
      },
      {
        "duration": 299,
        "start_time": "2021-11-04T18:04:06.338Z"
      },
      {
        "duration": 50,
        "start_time": "2021-11-04T18:04:13.526Z"
      },
      {
        "duration": 369,
        "start_time": "2021-11-04T18:09:03.581Z"
      },
      {
        "duration": 14,
        "start_time": "2021-11-04T18:09:09.122Z"
      },
      {
        "duration": 26,
        "start_time": "2021-11-04T18:09:17.067Z"
      },
      {
        "duration": 100,
        "start_time": "2021-11-04T18:09:33.656Z"
      },
      {
        "duration": 376,
        "start_time": "2021-11-04T18:09:37.787Z"
      },
      {
        "duration": 303,
        "start_time": "2021-11-04T18:09:45.890Z"
      },
      {
        "duration": 34,
        "start_time": "2021-11-04T18:09:57.833Z"
      },
      {
        "duration": 8,
        "start_time": "2021-11-04T18:10:12.625Z"
      },
      {
        "duration": 41,
        "start_time": "2021-11-04T18:10:57.789Z"
      },
      {
        "duration": 37,
        "start_time": "2021-11-04T18:11:16.380Z"
      },
      {
        "duration": 294,
        "start_time": "2021-11-04T18:12:06.060Z"
      },
      {
        "duration": 84,
        "start_time": "2021-11-04T18:12:12.071Z"
      },
      {
        "duration": 42,
        "start_time": "2021-11-04T18:18:07.899Z"
      },
      {
        "duration": 1359,
        "start_time": "2021-11-04T18:35:19.283Z"
      },
      {
        "duration": 26,
        "start_time": "2021-11-04T18:35:56.623Z"
      },
      {
        "duration": 796,
        "start_time": "2021-11-04T18:36:25.561Z"
      },
      {
        "duration": 69,
        "start_time": "2021-11-04T18:36:26.360Z"
      },
      {
        "duration": 51,
        "start_time": "2021-11-04T18:36:26.432Z"
      },
      {
        "duration": 9,
        "start_time": "2021-11-04T18:36:26.487Z"
      },
      {
        "duration": 7,
        "start_time": "2021-11-04T18:36:26.499Z"
      },
      {
        "duration": 16,
        "start_time": "2021-11-04T18:36:26.508Z"
      },
      {
        "duration": 85,
        "start_time": "2021-11-04T18:36:26.527Z"
      },
      {
        "duration": 11,
        "start_time": "2021-11-04T18:36:26.617Z"
      },
      {
        "duration": 48,
        "start_time": "2021-11-04T18:36:26.632Z"
      },
      {
        "duration": 20,
        "start_time": "2021-11-04T18:36:26.684Z"
      },
      {
        "duration": 22,
        "start_time": "2021-11-04T18:36:26.708Z"
      },
      {
        "duration": 48,
        "start_time": "2021-11-04T18:36:26.733Z"
      },
      {
        "duration": 10,
        "start_time": "2021-11-04T18:36:26.783Z"
      },
      {
        "duration": 19,
        "start_time": "2021-11-04T18:36:26.796Z"
      },
      {
        "duration": 5,
        "start_time": "2021-11-04T18:36:26.817Z"
      },
      {
        "duration": 420,
        "start_time": "2021-11-04T18:36:26.869Z"
      },
      {
        "duration": 25,
        "start_time": "2021-11-04T18:36:27.293Z"
      },
      {
        "duration": 62,
        "start_time": "2021-11-04T18:36:27.322Z"
      },
      {
        "duration": 29,
        "start_time": "2021-11-04T18:36:27.388Z"
      },
      {
        "duration": 53,
        "start_time": "2021-11-04T18:36:27.422Z"
      },
      {
        "duration": 44,
        "start_time": "2021-11-04T18:36:27.479Z"
      },
      {
        "duration": 42,
        "start_time": "2021-11-04T18:36:27.526Z"
      },
      {
        "duration": 5276,
        "start_time": "2021-11-04T18:36:27.572Z"
      },
      {
        "duration": 26,
        "start_time": "2021-11-04T18:36:32.851Z"
      },
      {
        "duration": 4056,
        "start_time": "2021-11-04T18:36:32.880Z"
      },
      {
        "duration": 64,
        "start_time": "2021-11-04T18:36:36.938Z"
      },
      {
        "duration": 27,
        "start_time": "2021-11-04T18:36:37.005Z"
      },
      {
        "duration": 118,
        "start_time": "2021-11-04T18:36:37.035Z"
      },
      {
        "duration": 31,
        "start_time": "2021-11-04T18:36:51.117Z"
      },
      {
        "duration": 88,
        "start_time": "2021-11-04T18:40:56.017Z"
      },
      {
        "duration": 105,
        "start_time": "2021-11-04T18:41:02.437Z"
      },
      {
        "duration": 21,
        "start_time": "2021-11-04T18:41:07.103Z"
      },
      {
        "duration": 21,
        "start_time": "2021-11-04T18:42:43.008Z"
      },
      {
        "duration": 18,
        "start_time": "2021-11-04T18:45:30.770Z"
      },
      {
        "duration": 19,
        "start_time": "2021-11-04T18:46:35.866Z"
      },
      {
        "duration": 22,
        "start_time": "2021-11-04T19:02:25.167Z"
      },
      {
        "duration": 399,
        "start_time": "2021-11-04T19:04:30.643Z"
      },
      {
        "duration": 15,
        "start_time": "2021-11-04T19:04:53.141Z"
      },
      {
        "duration": 298,
        "start_time": "2021-11-04T19:06:22.235Z"
      },
      {
        "duration": 17,
        "start_time": "2021-11-04T19:06:33.783Z"
      },
      {
        "duration": 312,
        "start_time": "2021-11-04T19:06:57.750Z"
      },
      {
        "duration": 31,
        "start_time": "2021-11-04T19:07:02.819Z"
      },
      {
        "duration": 17,
        "start_time": "2021-11-04T19:08:23.950Z"
      },
      {
        "duration": 17,
        "start_time": "2021-11-04T19:08:47.146Z"
      },
      {
        "duration": 16,
        "start_time": "2021-11-04T19:08:49.065Z"
      },
      {
        "duration": 26,
        "start_time": "2021-11-04T19:13:50.375Z"
      },
      {
        "duration": 833,
        "start_time": "2021-11-04T19:16:42.868Z"
      },
      {
        "duration": 70,
        "start_time": "2021-11-04T19:16:43.704Z"
      },
      {
        "duration": 37,
        "start_time": "2021-11-04T19:16:43.778Z"
      },
      {
        "duration": 18,
        "start_time": "2021-11-04T19:16:43.818Z"
      },
      {
        "duration": 48,
        "start_time": "2021-11-04T19:16:43.867Z"
      },
      {
        "duration": 9,
        "start_time": "2021-11-04T19:16:43.918Z"
      },
      {
        "duration": 12,
        "start_time": "2021-11-04T19:16:43.929Z"
      },
      {
        "duration": 9,
        "start_time": "2021-11-04T19:16:43.968Z"
      },
      {
        "duration": 11,
        "start_time": "2021-11-04T19:16:43.980Z"
      },
      {
        "duration": 12,
        "start_time": "2021-11-04T19:16:43.994Z"
      },
      {
        "duration": 12,
        "start_time": "2021-11-04T19:16:44.009Z"
      },
      {
        "duration": 56,
        "start_time": "2021-11-04T19:16:44.023Z"
      },
      {
        "duration": 8,
        "start_time": "2021-11-04T19:16:44.081Z"
      },
      {
        "duration": 19,
        "start_time": "2021-11-04T19:16:44.091Z"
      },
      {
        "duration": 5,
        "start_time": "2021-11-04T19:16:44.112Z"
      },
      {
        "duration": 250,
        "start_time": "2021-11-04T19:16:44.120Z"
      },
      {
        "duration": 14,
        "start_time": "2021-11-04T19:16:44.373Z"
      },
      {
        "duration": 16,
        "start_time": "2021-11-04T19:16:44.389Z"
      },
      {
        "duration": 16,
        "start_time": "2021-11-04T19:16:44.408Z"
      },
      {
        "duration": 59,
        "start_time": "2021-11-04T19:16:44.426Z"
      },
      {
        "duration": 23,
        "start_time": "2021-11-04T19:16:44.487Z"
      },
      {
        "duration": 20,
        "start_time": "2021-11-04T19:16:44.512Z"
      },
      {
        "duration": 4658,
        "start_time": "2021-11-04T19:16:44.536Z"
      },
      {
        "duration": 16,
        "start_time": "2021-11-04T19:16:49.198Z"
      },
      {
        "duration": 3706,
        "start_time": "2021-11-04T19:16:49.218Z"
      },
      {
        "duration": 64,
        "start_time": "2021-11-04T19:16:52.927Z"
      },
      {
        "duration": 24,
        "start_time": "2021-11-04T19:16:52.993Z"
      },
      {
        "duration": 19,
        "start_time": "2021-11-04T19:16:53.019Z"
      },
      {
        "duration": 47,
        "start_time": "2021-11-04T19:16:53.040Z"
      },
      {
        "duration": 17,
        "start_time": "2021-11-04T19:16:53.089Z"
      },
      {
        "duration": 16,
        "start_time": "2021-11-04T19:16:53.108Z"
      },
      {
        "duration": 107,
        "start_time": "2021-11-04T19:52:33.892Z"
      },
      {
        "duration": 8,
        "start_time": "2021-11-04T20:00:16.156Z"
      },
      {
        "duration": 8,
        "start_time": "2021-11-04T20:00:38.255Z"
      },
      {
        "duration": 796,
        "start_time": "2021-11-04T20:06:14.477Z"
      },
      {
        "duration": 67,
        "start_time": "2021-11-04T20:06:15.275Z"
      },
      {
        "duration": 46,
        "start_time": "2021-11-04T20:06:15.345Z"
      },
      {
        "duration": 78,
        "start_time": "2021-11-04T20:06:15.394Z"
      },
      {
        "duration": 14,
        "start_time": "2021-11-04T20:06:15.474Z"
      },
      {
        "duration": 10,
        "start_time": "2021-11-04T20:06:15.491Z"
      },
      {
        "duration": 14,
        "start_time": "2021-11-04T20:06:15.503Z"
      },
      {
        "duration": 48,
        "start_time": "2021-11-04T20:06:15.521Z"
      },
      {
        "duration": 6,
        "start_time": "2021-11-04T20:06:15.572Z"
      },
      {
        "duration": 9,
        "start_time": "2021-11-04T20:06:15.580Z"
      },
      {
        "duration": 12,
        "start_time": "2021-11-04T20:06:15.591Z"
      },
      {
        "duration": 7,
        "start_time": "2021-11-04T20:06:15.605Z"
      },
      {
        "duration": 5,
        "start_time": "2021-11-04T20:06:15.668Z"
      },
      {
        "duration": 22,
        "start_time": "2021-11-04T20:06:15.676Z"
      },
      {
        "duration": 5,
        "start_time": "2021-11-04T20:06:15.700Z"
      },
      {
        "duration": 282,
        "start_time": "2021-11-04T20:06:15.707Z"
      },
      {
        "duration": 16,
        "start_time": "2021-11-04T20:06:15.992Z"
      },
      {
        "duration": 19,
        "start_time": "2021-11-04T20:06:16.010Z"
      },
      {
        "duration": 18,
        "start_time": "2021-11-04T20:06:16.068Z"
      },
      {
        "duration": 21,
        "start_time": "2021-11-04T20:06:16.088Z"
      },
      {
        "duration": 24,
        "start_time": "2021-11-04T20:06:16.111Z"
      },
      {
        "duration": 21,
        "start_time": "2021-11-04T20:06:16.168Z"
      },
      {
        "duration": 5140,
        "start_time": "2021-11-04T20:06:16.193Z"
      },
      {
        "duration": 17,
        "start_time": "2021-11-04T20:06:21.336Z"
      },
      {
        "duration": 4006,
        "start_time": "2021-11-04T20:06:21.366Z"
      },
      {
        "duration": 52,
        "start_time": "2021-11-04T20:06:25.376Z"
      },
      {
        "duration": 52,
        "start_time": "2021-11-04T20:06:25.430Z"
      },
      {
        "duration": 21,
        "start_time": "2021-11-04T20:06:25.485Z"
      },
      {
        "duration": 59,
        "start_time": "2021-11-04T20:06:25.510Z"
      },
      {
        "duration": 24,
        "start_time": "2021-11-04T20:06:25.572Z"
      },
      {
        "duration": 17,
        "start_time": "2021-11-04T20:06:25.600Z"
      },
      {
        "duration": 7431,
        "start_time": "2021-11-04T20:07:15.884Z"
      },
      {
        "duration": 13,
        "start_time": "2021-11-04T20:07:27.494Z"
      },
      {
        "duration": 10,
        "start_time": "2021-11-04T20:07:55.823Z"
      },
      {
        "duration": 12,
        "start_time": "2021-11-04T20:12:42.851Z"
      },
      {
        "duration": 9,
        "start_time": "2021-11-04T20:12:45.590Z"
      },
      {
        "duration": 754,
        "start_time": "2021-11-04T20:13:06.413Z"
      },
      {
        "duration": 70,
        "start_time": "2021-11-04T20:13:07.170Z"
      },
      {
        "duration": 41,
        "start_time": "2021-11-04T20:13:07.243Z"
      },
      {
        "duration": 51,
        "start_time": "2021-11-04T20:13:07.287Z"
      },
      {
        "duration": 38,
        "start_time": "2021-11-04T20:13:07.340Z"
      },
      {
        "duration": 16,
        "start_time": "2021-11-04T20:13:07.381Z"
      },
      {
        "duration": 13,
        "start_time": "2021-11-04T20:13:07.400Z"
      },
      {
        "duration": 10,
        "start_time": "2021-11-04T20:13:07.417Z"
      },
      {
        "duration": 40,
        "start_time": "2021-11-04T20:13:07.431Z"
      },
      {
        "duration": 10,
        "start_time": "2021-11-04T20:13:07.474Z"
      },
      {
        "duration": 15,
        "start_time": "2021-11-04T20:13:07.487Z"
      },
      {
        "duration": 8,
        "start_time": "2021-11-04T20:13:07.504Z"
      },
      {
        "duration": 9,
        "start_time": "2021-11-04T20:13:07.515Z"
      },
      {
        "duration": 52,
        "start_time": "2021-11-04T20:13:07.527Z"
      },
      {
        "duration": 9,
        "start_time": "2021-11-04T20:13:07.582Z"
      },
      {
        "duration": 9,
        "start_time": "2021-11-04T20:13:07.593Z"
      },
      {
        "duration": 30,
        "start_time": "2021-11-04T20:13:07.605Z"
      },
      {
        "duration": 6,
        "start_time": "2021-11-04T20:13:07.667Z"
      },
      {
        "duration": 316,
        "start_time": "2021-11-04T20:13:07.675Z"
      },
      {
        "duration": 16,
        "start_time": "2021-11-04T20:13:07.994Z"
      },
      {
        "duration": 17,
        "start_time": "2021-11-04T20:13:08.013Z"
      },
      {
        "duration": 45,
        "start_time": "2021-11-04T20:13:08.033Z"
      },
      {
        "duration": 20,
        "start_time": "2021-11-04T20:13:08.083Z"
      },
      {
        "duration": 22,
        "start_time": "2021-11-04T20:13:08.106Z"
      },
      {
        "duration": 51,
        "start_time": "2021-11-04T20:13:08.131Z"
      },
      {
        "duration": 5082,
        "start_time": "2021-11-04T20:13:08.185Z"
      },
      {
        "duration": 29,
        "start_time": "2021-11-04T20:13:13.271Z"
      },
      {
        "duration": 4320,
        "start_time": "2021-11-04T20:13:13.303Z"
      },
      {
        "duration": 65,
        "start_time": "2021-11-04T20:13:17.625Z"
      },
      {
        "duration": 24,
        "start_time": "2021-11-04T20:13:17.693Z"
      },
      {
        "duration": 21,
        "start_time": "2021-11-04T20:13:17.719Z"
      },
      {
        "duration": 48,
        "start_time": "2021-11-04T20:13:17.743Z"
      },
      {
        "duration": 18,
        "start_time": "2021-11-04T20:13:17.794Z"
      },
      {
        "duration": 63,
        "start_time": "2021-11-04T20:13:17.815Z"
      },
      {
        "duration": 11,
        "start_time": "2021-11-04T20:19:00.443Z"
      },
      {
        "duration": 5,
        "start_time": "2021-11-04T20:20:40.829Z"
      },
      {
        "duration": 228,
        "start_time": "2021-11-04T20:20:47.276Z"
      },
      {
        "duration": 5,
        "start_time": "2021-11-04T20:21:55.798Z"
      },
      {
        "duration": 229,
        "start_time": "2021-11-04T20:21:57.485Z"
      },
      {
        "duration": 17,
        "start_time": "2021-11-04T20:23:12.211Z"
      },
      {
        "duration": 19,
        "start_time": "2021-11-04T20:23:27.403Z"
      },
      {
        "duration": 763,
        "start_time": "2021-11-04T20:23:34.804Z"
      },
      {
        "duration": 65,
        "start_time": "2021-11-04T20:23:35.570Z"
      },
      {
        "duration": 41,
        "start_time": "2021-11-04T20:23:35.638Z"
      },
      {
        "duration": 48,
        "start_time": "2021-11-04T20:23:35.682Z"
      },
      {
        "duration": 43,
        "start_time": "2021-11-04T20:23:35.732Z"
      },
      {
        "duration": 9,
        "start_time": "2021-11-04T20:23:35.778Z"
      },
      {
        "duration": 11,
        "start_time": "2021-11-04T20:23:35.790Z"
      },
      {
        "duration": 8,
        "start_time": "2021-11-04T20:23:35.804Z"
      },
      {
        "duration": 51,
        "start_time": "2021-11-04T20:23:35.816Z"
      },
      {
        "duration": 10,
        "start_time": "2021-11-04T20:23:35.870Z"
      },
      {
        "duration": 14,
        "start_time": "2021-11-04T20:23:35.883Z"
      },
      {
        "duration": 10,
        "start_time": "2021-11-04T20:23:35.900Z"
      },
      {
        "duration": 22,
        "start_time": "2021-11-04T20:23:35.912Z"
      },
      {
        "duration": 39,
        "start_time": "2021-11-04T20:23:35.937Z"
      },
      {
        "duration": 9,
        "start_time": "2021-11-04T20:23:35.979Z"
      },
      {
        "duration": 18,
        "start_time": "2021-11-04T20:23:35.991Z"
      },
      {
        "duration": 23,
        "start_time": "2021-11-04T20:23:36.012Z"
      },
      {
        "duration": 44,
        "start_time": "2021-11-04T20:23:36.038Z"
      },
      {
        "duration": 7,
        "start_time": "2021-11-04T20:23:36.085Z"
      },
      {
        "duration": 262,
        "start_time": "2021-11-04T20:23:36.095Z"
      },
      {
        "duration": 26,
        "start_time": "2021-11-04T20:23:36.360Z"
      },
      {
        "duration": 25,
        "start_time": "2021-11-04T20:23:36.390Z"
      },
      {
        "duration": 56,
        "start_time": "2021-11-04T20:23:36.422Z"
      },
      {
        "duration": 30,
        "start_time": "2021-11-04T20:23:36.481Z"
      },
      {
        "duration": 59,
        "start_time": "2021-11-04T20:23:36.514Z"
      },
      {
        "duration": 26,
        "start_time": "2021-11-04T20:23:36.576Z"
      },
      {
        "duration": 4837,
        "start_time": "2021-11-04T20:23:36.605Z"
      },
      {
        "duration": 24,
        "start_time": "2021-11-04T20:23:41.445Z"
      },
      {
        "duration": 3815,
        "start_time": "2021-11-04T20:23:41.472Z"
      },
      {
        "duration": 46,
        "start_time": "2021-11-04T20:23:45.290Z"
      },
      {
        "duration": 45,
        "start_time": "2021-11-04T20:23:45.339Z"
      },
      {
        "duration": 26,
        "start_time": "2021-11-04T20:23:45.387Z"
      },
      {
        "duration": 56,
        "start_time": "2021-11-04T20:23:45.416Z"
      },
      {
        "duration": 18,
        "start_time": "2021-11-04T20:23:45.475Z"
      },
      {
        "duration": 19,
        "start_time": "2021-11-04T20:23:45.495Z"
      },
      {
        "duration": 405,
        "start_time": "2021-11-04T20:29:16.283Z"
      },
      {
        "duration": 747,
        "start_time": "2021-11-04T20:29:26.920Z"
      },
      {
        "duration": 67,
        "start_time": "2021-11-04T20:29:27.669Z"
      },
      {
        "duration": 39,
        "start_time": "2021-11-04T20:29:27.739Z"
      },
      {
        "duration": 49,
        "start_time": "2021-11-04T20:29:27.781Z"
      },
      {
        "duration": 39,
        "start_time": "2021-11-04T20:29:27.833Z"
      },
      {
        "duration": 9,
        "start_time": "2021-11-04T20:29:27.875Z"
      },
      {
        "duration": 11,
        "start_time": "2021-11-04T20:29:27.886Z"
      },
      {
        "duration": 10,
        "start_time": "2021-11-04T20:29:27.901Z"
      },
      {
        "duration": 6,
        "start_time": "2021-11-04T20:29:27.915Z"
      },
      {
        "duration": 46,
        "start_time": "2021-11-04T20:29:27.924Z"
      },
      {
        "duration": 13,
        "start_time": "2021-11-04T20:29:27.973Z"
      },
      {
        "duration": 9,
        "start_time": "2021-11-04T20:29:27.988Z"
      },
      {
        "duration": 10,
        "start_time": "2021-11-04T20:29:28.000Z"
      },
      {
        "duration": 15,
        "start_time": "2021-11-04T20:29:28.012Z"
      },
      {
        "duration": 6,
        "start_time": "2021-11-04T20:29:28.067Z"
      },
      {
        "duration": 10,
        "start_time": "2021-11-04T20:29:28.076Z"
      },
      {
        "duration": 15,
        "start_time": "2021-11-04T20:29:28.088Z"
      },
      {
        "duration": 19,
        "start_time": "2021-11-04T20:29:28.105Z"
      },
      {
        "duration": 5,
        "start_time": "2021-11-04T20:29:28.126Z"
      },
      {
        "duration": 174,
        "start_time": "2021-11-04T20:29:28.168Z"
      },
      {
        "duration": 13,
        "start_time": "2021-11-04T20:29:28.345Z"
      },
      {
        "duration": 17,
        "start_time": "2021-11-04T20:29:28.368Z"
      },
      {
        "duration": 13,
        "start_time": "2021-11-04T20:29:28.390Z"
      },
      {
        "duration": 15,
        "start_time": "2021-11-04T20:29:28.405Z"
      },
      {
        "duration": 53,
        "start_time": "2021-11-04T20:29:28.422Z"
      },
      {
        "duration": 15,
        "start_time": "2021-11-04T20:29:28.477Z"
      },
      {
        "duration": 4255,
        "start_time": "2021-11-04T20:29:28.495Z"
      },
      {
        "duration": 26,
        "start_time": "2021-11-04T20:29:32.753Z"
      },
      {
        "duration": 3212,
        "start_time": "2021-11-04T20:29:32.782Z"
      },
      {
        "duration": 33,
        "start_time": "2021-11-04T20:29:35.997Z"
      },
      {
        "duration": 46,
        "start_time": "2021-11-04T20:29:36.033Z"
      },
      {
        "duration": 21,
        "start_time": "2021-11-04T20:29:36.082Z"
      },
      {
        "duration": 22,
        "start_time": "2021-11-04T20:29:36.105Z"
      },
      {
        "duration": 49,
        "start_time": "2021-11-04T20:29:36.129Z"
      },
      {
        "duration": 16,
        "start_time": "2021-11-04T20:29:36.180Z"
      },
      {
        "duration": 26,
        "start_time": "2021-11-04T20:40:54.818Z"
      },
      {
        "duration": 16,
        "start_time": "2021-11-04T20:50:56.164Z"
      },
      {
        "duration": 752,
        "start_time": "2021-11-04T20:54:53.511Z"
      },
      {
        "duration": 68,
        "start_time": "2021-11-04T20:54:54.268Z"
      },
      {
        "duration": 44,
        "start_time": "2021-11-04T20:54:54.339Z"
      },
      {
        "duration": 49,
        "start_time": "2021-11-04T20:54:54.386Z"
      },
      {
        "duration": 40,
        "start_time": "2021-11-04T20:54:54.438Z"
      },
      {
        "duration": 9,
        "start_time": "2021-11-04T20:54:54.480Z"
      },
      {
        "duration": 11,
        "start_time": "2021-11-04T20:54:54.492Z"
      },
      {
        "duration": 9,
        "start_time": "2021-11-04T20:54:54.509Z"
      },
      {
        "duration": 47,
        "start_time": "2021-11-04T20:54:54.522Z"
      },
      {
        "duration": 7,
        "start_time": "2021-11-04T20:54:54.571Z"
      },
      {
        "duration": 18,
        "start_time": "2021-11-04T20:54:54.581Z"
      },
      {
        "duration": 10,
        "start_time": "2021-11-04T20:54:54.602Z"
      },
      {
        "duration": 12,
        "start_time": "2021-11-04T20:54:54.614Z"
      },
      {
        "duration": 43,
        "start_time": "2021-11-04T20:54:54.628Z"
      },
      {
        "duration": 6,
        "start_time": "2021-11-04T20:54:54.673Z"
      },
      {
        "duration": 11,
        "start_time": "2021-11-04T20:54:54.682Z"
      },
      {
        "duration": 20,
        "start_time": "2021-11-04T20:54:54.695Z"
      },
      {
        "duration": 18,
        "start_time": "2021-11-04T20:54:54.717Z"
      },
      {
        "duration": 33,
        "start_time": "2021-11-04T20:54:54.737Z"
      },
      {
        "duration": 170,
        "start_time": "2021-11-04T20:54:54.772Z"
      },
      {
        "duration": 26,
        "start_time": "2021-11-04T20:54:54.945Z"
      },
      {
        "duration": 18,
        "start_time": "2021-11-04T20:54:54.974Z"
      },
      {
        "duration": 15,
        "start_time": "2021-11-04T20:54:54.999Z"
      },
      {
        "duration": 54,
        "start_time": "2021-11-04T20:54:55.018Z"
      },
      {
        "duration": 19,
        "start_time": "2021-11-04T20:54:55.075Z"
      },
      {
        "duration": 18,
        "start_time": "2021-11-04T20:54:55.096Z"
      },
      {
        "duration": 4227,
        "start_time": "2021-11-04T20:54:55.118Z"
      },
      {
        "duration": 28,
        "start_time": "2021-11-04T20:54:59.348Z"
      },
      {
        "duration": 3309,
        "start_time": "2021-11-04T20:54:59.378Z"
      },
      {
        "duration": 25,
        "start_time": "2021-11-04T20:55:02.690Z"
      },
      {
        "duration": 24,
        "start_time": "2021-11-04T20:55:02.717Z"
      },
      {
        "duration": 43,
        "start_time": "2021-11-04T20:55:02.743Z"
      },
      {
        "duration": 19,
        "start_time": "2021-11-04T20:55:02.788Z"
      },
      {
        "duration": 16,
        "start_time": "2021-11-04T20:55:02.809Z"
      },
      {
        "duration": 50,
        "start_time": "2021-11-04T20:55:02.827Z"
      },
      {
        "duration": 362,
        "start_time": "2021-11-04T21:45:23.980Z"
      },
      {
        "duration": 5,
        "start_time": "2021-11-04T21:50:26.198Z"
      },
      {
        "duration": 775,
        "start_time": "2021-11-04T21:50:34.257Z"
      },
      {
        "duration": 66,
        "start_time": "2021-11-04T21:50:35.035Z"
      },
      {
        "duration": 34,
        "start_time": "2021-11-04T21:50:35.104Z"
      },
      {
        "duration": 74,
        "start_time": "2021-11-04T21:50:35.141Z"
      },
      {
        "duration": 49,
        "start_time": "2021-11-04T21:50:35.218Z"
      },
      {
        "duration": 12,
        "start_time": "2021-11-04T21:50:35.271Z"
      },
      {
        "duration": 12,
        "start_time": "2021-11-04T21:50:35.286Z"
      },
      {
        "duration": 10,
        "start_time": "2021-11-04T21:50:35.304Z"
      },
      {
        "duration": 55,
        "start_time": "2021-11-04T21:50:35.318Z"
      },
      {
        "duration": 14,
        "start_time": "2021-11-04T21:50:35.375Z"
      },
      {
        "duration": 15,
        "start_time": "2021-11-04T21:50:35.392Z"
      },
      {
        "duration": 7,
        "start_time": "2021-11-04T21:50:35.410Z"
      },
      {
        "duration": 48,
        "start_time": "2021-11-04T21:50:35.421Z"
      },
      {
        "duration": 20,
        "start_time": "2021-11-04T21:50:35.472Z"
      },
      {
        "duration": 6,
        "start_time": "2021-11-04T21:50:35.495Z"
      },
      {
        "duration": 10,
        "start_time": "2021-11-04T21:50:35.503Z"
      },
      {
        "duration": 59,
        "start_time": "2021-11-04T21:50:35.515Z"
      },
      {
        "duration": 16,
        "start_time": "2021-11-04T21:50:35.577Z"
      },
      {
        "duration": 5,
        "start_time": "2021-11-04T21:50:35.596Z"
      },
      {
        "duration": 198,
        "start_time": "2021-11-04T21:50:35.604Z"
      },
      {
        "duration": 12,
        "start_time": "2021-11-04T21:50:35.805Z"
      },
      {
        "duration": 18,
        "start_time": "2021-11-04T21:50:35.819Z"
      },
      {
        "duration": 13,
        "start_time": "2021-11-04T21:50:35.871Z"
      },
      {
        "duration": 15,
        "start_time": "2021-11-04T21:50:35.887Z"
      },
      {
        "duration": 16,
        "start_time": "2021-11-04T21:50:35.904Z"
      },
      {
        "duration": 55,
        "start_time": "2021-11-04T21:50:35.923Z"
      },
      {
        "duration": 4204,
        "start_time": "2021-11-04T21:50:35.981Z"
      },
      {
        "duration": 16,
        "start_time": "2021-11-04T21:50:40.188Z"
      },
      {
        "duration": 3244,
        "start_time": "2021-11-04T21:50:40.207Z"
      },
      {
        "duration": 38,
        "start_time": "2021-11-04T21:50:43.467Z"
      },
      {
        "duration": 18,
        "start_time": "2021-11-04T21:50:43.508Z"
      },
      {
        "duration": 58,
        "start_time": "2021-11-04T21:50:43.528Z"
      },
      {
        "duration": 18,
        "start_time": "2021-11-04T21:50:43.588Z"
      },
      {
        "duration": 16,
        "start_time": "2021-11-04T21:50:43.608Z"
      },
      {
        "duration": 17,
        "start_time": "2021-11-04T21:50:43.666Z"
      },
      {
        "duration": 17,
        "start_time": "2021-11-04T22:03:10.710Z"
      },
      {
        "duration": 17,
        "start_time": "2021-11-04T22:03:14.936Z"
      },
      {
        "duration": 23,
        "start_time": "2021-11-04T22:03:24.565Z"
      },
      {
        "duration": 26,
        "start_time": "2021-11-04T22:04:49.665Z"
      },
      {
        "duration": 27,
        "start_time": "2021-11-04T22:04:52.331Z"
      },
      {
        "duration": 802,
        "start_time": "2021-11-04T22:24:09.644Z"
      },
      {
        "duration": 65,
        "start_time": "2021-11-04T22:24:10.449Z"
      },
      {
        "duration": 55,
        "start_time": "2021-11-04T22:24:10.520Z"
      },
      {
        "duration": 49,
        "start_time": "2021-11-04T22:24:10.578Z"
      },
      {
        "duration": 39,
        "start_time": "2021-11-04T22:24:10.629Z"
      },
      {
        "duration": 9,
        "start_time": "2021-11-04T22:24:10.670Z"
      },
      {
        "duration": 11,
        "start_time": "2021-11-04T22:24:10.683Z"
      },
      {
        "duration": 8,
        "start_time": "2021-11-04T22:24:10.697Z"
      },
      {
        "duration": 7,
        "start_time": "2021-11-04T22:24:10.707Z"
      },
      {
        "duration": 56,
        "start_time": "2021-11-04T22:24:10.717Z"
      },
      {
        "duration": 12,
        "start_time": "2021-11-04T22:24:10.776Z"
      },
      {
        "duration": 7,
        "start_time": "2021-11-04T22:24:10.791Z"
      },
      {
        "duration": 10,
        "start_time": "2021-11-04T22:24:10.800Z"
      },
      {
        "duration": 62,
        "start_time": "2021-11-04T22:24:10.812Z"
      },
      {
        "duration": 6,
        "start_time": "2021-11-04T22:24:10.876Z"
      },
      {
        "duration": 14,
        "start_time": "2021-11-04T22:24:10.885Z"
      },
      {
        "duration": 14,
        "start_time": "2021-11-04T22:24:10.902Z"
      },
      {
        "duration": 57,
        "start_time": "2021-11-04T22:24:10.918Z"
      },
      {
        "duration": 5,
        "start_time": "2021-11-04T22:24:10.978Z"
      },
      {
        "duration": 191,
        "start_time": "2021-11-04T22:24:10.985Z"
      },
      {
        "duration": 12,
        "start_time": "2021-11-04T22:24:11.179Z"
      },
      {
        "duration": 17,
        "start_time": "2021-11-04T22:24:11.195Z"
      },
      {
        "duration": 59,
        "start_time": "2021-11-04T22:24:11.214Z"
      },
      {
        "duration": 15,
        "start_time": "2021-11-04T22:24:11.275Z"
      },
      {
        "duration": 16,
        "start_time": "2021-11-04T22:24:11.292Z"
      },
      {
        "duration": 64,
        "start_time": "2021-11-04T22:24:11.310Z"
      },
      {
        "duration": 4356,
        "start_time": "2021-11-04T22:24:11.376Z"
      },
      {
        "duration": 33,
        "start_time": "2021-11-04T22:24:15.734Z"
      },
      {
        "duration": 3463,
        "start_time": "2021-11-04T22:24:15.770Z"
      },
      {
        "duration": 40,
        "start_time": "2021-11-04T22:24:19.235Z"
      },
      {
        "duration": 16,
        "start_time": "2021-11-04T22:24:19.278Z"
      },
      {
        "duration": 71,
        "start_time": "2021-11-04T22:24:19.296Z"
      },
      {
        "duration": 20,
        "start_time": "2021-11-04T22:24:19.369Z"
      },
      {
        "duration": 18,
        "start_time": "2021-11-04T22:24:19.391Z"
      },
      {
        "duration": 62,
        "start_time": "2021-11-04T22:24:19.411Z"
      },
      {
        "duration": 821,
        "start_time": "2021-11-04T22:27:03.336Z"
      },
      {
        "duration": 65,
        "start_time": "2021-11-04T22:27:04.160Z"
      },
      {
        "duration": 49,
        "start_time": "2021-11-04T22:27:04.232Z"
      },
      {
        "duration": 50,
        "start_time": "2021-11-04T22:27:04.283Z"
      },
      {
        "duration": 40,
        "start_time": "2021-11-04T22:27:04.335Z"
      },
      {
        "duration": 10,
        "start_time": "2021-11-04T22:27:04.378Z"
      },
      {
        "duration": 8,
        "start_time": "2021-11-04T22:27:04.392Z"
      },
      {
        "duration": 11,
        "start_time": "2021-11-04T22:27:04.403Z"
      },
      {
        "duration": 5,
        "start_time": "2021-11-04T22:27:04.468Z"
      },
      {
        "duration": 12,
        "start_time": "2021-11-04T22:27:04.476Z"
      },
      {
        "duration": 18,
        "start_time": "2021-11-04T22:27:04.492Z"
      },
      {
        "duration": 54,
        "start_time": "2021-11-04T22:27:04.514Z"
      },
      {
        "duration": 9,
        "start_time": "2021-11-04T22:27:04.572Z"
      },
      {
        "duration": 18,
        "start_time": "2021-11-04T22:27:04.585Z"
      },
      {
        "duration": 9,
        "start_time": "2021-11-04T22:27:04.607Z"
      },
      {
        "duration": 10,
        "start_time": "2021-11-04T22:27:04.668Z"
      },
      {
        "duration": 16,
        "start_time": "2021-11-04T22:27:04.681Z"
      },
      {
        "duration": 67,
        "start_time": "2021-11-04T22:27:04.700Z"
      },
      {
        "duration": 7,
        "start_time": "2021-11-04T22:27:04.771Z"
      },
      {
        "duration": 187,
        "start_time": "2021-11-04T22:27:04.780Z"
      },
      {
        "duration": 14,
        "start_time": "2021-11-04T22:27:04.969Z"
      },
      {
        "duration": 17,
        "start_time": "2021-11-04T22:27:04.989Z"
      },
      {
        "duration": 59,
        "start_time": "2021-11-04T22:27:05.009Z"
      },
      {
        "duration": 18,
        "start_time": "2021-11-04T22:27:05.071Z"
      },
      {
        "duration": 17,
        "start_time": "2021-11-04T22:27:05.092Z"
      },
      {
        "duration": 56,
        "start_time": "2021-11-04T22:27:05.112Z"
      },
      {
        "duration": 4561,
        "start_time": "2021-11-04T22:27:05.171Z"
      },
      {
        "duration": 14,
        "start_time": "2021-11-04T22:27:09.735Z"
      },
      {
        "duration": 3273,
        "start_time": "2021-11-04T22:27:09.767Z"
      },
      {
        "duration": 42,
        "start_time": "2021-11-04T22:27:13.042Z"
      },
      {
        "duration": 17,
        "start_time": "2021-11-04T22:27:13.086Z"
      },
      {
        "duration": 27,
        "start_time": "2021-11-04T22:27:13.105Z"
      },
      {
        "duration": 20,
        "start_time": "2021-11-04T22:27:13.167Z"
      },
      {
        "duration": 16,
        "start_time": "2021-11-04T22:27:13.189Z"
      },
      {
        "duration": 16,
        "start_time": "2021-11-04T22:27:13.207Z"
      },
      {
        "duration": 849,
        "start_time": "2021-11-05T11:10:34.140Z"
      },
      {
        "duration": 79,
        "start_time": "2021-11-05T11:10:34.993Z"
      },
      {
        "duration": 63,
        "start_time": "2021-11-05T11:10:35.075Z"
      },
      {
        "duration": 53,
        "start_time": "2021-11-05T11:10:35.143Z"
      },
      {
        "duration": 36,
        "start_time": "2021-11-05T11:10:35.199Z"
      },
      {
        "duration": 13,
        "start_time": "2021-11-05T11:10:35.238Z"
      },
      {
        "duration": 11,
        "start_time": "2021-11-05T11:10:35.254Z"
      },
      {
        "duration": 10,
        "start_time": "2021-11-05T11:10:35.269Z"
      },
      {
        "duration": 45,
        "start_time": "2021-11-05T11:10:35.286Z"
      },
      {
        "duration": 11,
        "start_time": "2021-11-05T11:10:35.336Z"
      },
      {
        "duration": 13,
        "start_time": "2021-11-05T11:10:35.350Z"
      },
      {
        "duration": 9,
        "start_time": "2021-11-05T11:10:35.365Z"
      },
      {
        "duration": 50,
        "start_time": "2021-11-05T11:10:35.377Z"
      },
      {
        "duration": 20,
        "start_time": "2021-11-05T11:10:35.430Z"
      },
      {
        "duration": 9,
        "start_time": "2021-11-05T11:10:35.453Z"
      },
      {
        "duration": 12,
        "start_time": "2021-11-05T11:10:35.465Z"
      },
      {
        "duration": 56,
        "start_time": "2021-11-05T11:10:35.480Z"
      },
      {
        "duration": 32,
        "start_time": "2021-11-05T11:10:35.540Z"
      },
      {
        "duration": 6,
        "start_time": "2021-11-05T11:10:35.575Z"
      },
      {
        "duration": 212,
        "start_time": "2021-11-05T11:10:35.584Z"
      },
      {
        "duration": 33,
        "start_time": "2021-11-05T11:10:35.799Z"
      },
      {
        "duration": 19,
        "start_time": "2021-11-05T11:10:35.835Z"
      },
      {
        "duration": 16,
        "start_time": "2021-11-05T11:10:35.858Z"
      },
      {
        "duration": 66,
        "start_time": "2021-11-05T11:10:35.877Z"
      },
      {
        "duration": 17,
        "start_time": "2021-11-05T11:10:35.945Z"
      },
      {
        "duration": 15,
        "start_time": "2021-11-05T11:10:35.964Z"
      },
      {
        "duration": 5071,
        "start_time": "2021-11-05T11:10:35.984Z"
      },
      {
        "duration": 25,
        "start_time": "2021-11-05T11:10:41.060Z"
      },
      {
        "duration": 4146,
        "start_time": "2021-11-05T11:10:41.089Z"
      },
      {
        "duration": 36,
        "start_time": "2021-11-05T11:10:45.238Z"
      },
      {
        "duration": 55,
        "start_time": "2021-11-05T11:10:45.277Z"
      },
      {
        "duration": 24,
        "start_time": "2021-11-05T11:10:45.335Z"
      },
      {
        "duration": 26,
        "start_time": "2021-11-05T11:10:45.362Z"
      },
      {
        "duration": 60,
        "start_time": "2021-11-05T11:10:45.391Z"
      },
      {
        "duration": 17,
        "start_time": "2021-11-05T11:10:45.454Z"
      },
      {
        "duration": 27,
        "start_time": "2021-11-05T11:55:56.653Z"
      },
      {
        "duration": 25,
        "start_time": "2021-11-05T11:56:06.901Z"
      },
      {
        "duration": 27,
        "start_time": "2021-11-05T11:59:29.116Z"
      },
      {
        "duration": 94,
        "start_time": "2021-11-05T11:59:29.293Z"
      },
      {
        "duration": 23,
        "start_time": "2021-11-05T11:59:29.780Z"
      },
      {
        "duration": 46,
        "start_time": "2021-11-05T11:59:30.469Z"
      },
      {
        "duration": 18,
        "start_time": "2021-11-05T11:59:31.378Z"
      },
      {
        "duration": 10,
        "start_time": "2021-11-05T11:59:32.520Z"
      },
      {
        "duration": 6,
        "start_time": "2021-11-05T11:59:32.725Z"
      },
      {
        "duration": 8,
        "start_time": "2021-11-05T11:59:35.359Z"
      },
      {
        "duration": 5,
        "start_time": "2021-11-05T11:59:37.949Z"
      },
      {
        "duration": 10,
        "start_time": "2021-11-05T11:59:38.649Z"
      },
      {
        "duration": 13,
        "start_time": "2021-11-05T11:59:41.826Z"
      },
      {
        "duration": 7,
        "start_time": "2021-11-05T11:59:44.169Z"
      },
      {
        "duration": 5,
        "start_time": "2021-11-05T11:59:44.669Z"
      },
      {
        "duration": 12,
        "start_time": "2021-11-05T11:59:47.685Z"
      },
      {
        "duration": 7,
        "start_time": "2021-11-05T11:59:48.112Z"
      },
      {
        "duration": 6,
        "start_time": "2021-11-05T11:59:50.718Z"
      },
      {
        "duration": 12,
        "start_time": "2021-11-05T11:59:52.931Z"
      },
      {
        "duration": 17,
        "start_time": "2021-11-05T11:59:53.091Z"
      },
      {
        "duration": 5,
        "start_time": "2021-11-05T11:59:54.562Z"
      },
      {
        "duration": 156,
        "start_time": "2021-11-05T11:59:55.371Z"
      },
      {
        "duration": 15,
        "start_time": "2021-11-05T11:59:59.167Z"
      },
      {
        "duration": 18,
        "start_time": "2021-11-05T12:00:01.189Z"
      },
      {
        "duration": 15,
        "start_time": "2021-11-05T12:00:13.835Z"
      },
      {
        "duration": 23,
        "start_time": "2021-11-05T12:00:24.149Z"
      },
      {
        "duration": 356,
        "start_time": "2021-11-05T12:00:37.534Z"
      },
      {
        "duration": 10,
        "start_time": "2021-11-05T12:00:40.166Z"
      },
      {
        "duration": 23,
        "start_time": "2021-11-05T12:00:49.626Z"
      },
      {
        "duration": 18,
        "start_time": "2021-11-05T12:01:01.188Z"
      },
      {
        "duration": 262,
        "start_time": "2021-11-05T12:01:23.314Z"
      },
      {
        "duration": 9,
        "start_time": "2021-11-05T12:01:28.473Z"
      },
      {
        "duration": 11,
        "start_time": "2021-11-05T12:01:51.755Z"
      },
      {
        "duration": 11,
        "start_time": "2021-11-05T12:02:02.162Z"
      },
      {
        "duration": 17,
        "start_time": "2021-11-05T12:02:14.568Z"
      },
      {
        "duration": 16,
        "start_time": "2021-11-05T12:03:45.375Z"
      },
      {
        "duration": 11,
        "start_time": "2021-11-05T12:05:54.495Z"
      },
      {
        "duration": 17,
        "start_time": "2021-11-05T12:05:59.171Z"
      },
      {
        "duration": 14,
        "start_time": "2021-11-05T12:06:00.226Z"
      },
      {
        "duration": 17,
        "start_time": "2021-11-05T12:06:05.838Z"
      },
      {
        "duration": 23,
        "start_time": "2021-11-05T12:18:24.829Z"
      },
      {
        "duration": 6,
        "start_time": "2021-11-05T12:20:25.529Z"
      },
      {
        "duration": 73,
        "start_time": "2021-11-05T12:20:25.697Z"
      },
      {
        "duration": 23,
        "start_time": "2021-11-05T12:20:26.057Z"
      },
      {
        "duration": 48,
        "start_time": "2021-11-05T12:20:26.235Z"
      },
      {
        "duration": 15,
        "start_time": "2021-11-05T12:20:26.586Z"
      },
      {
        "duration": 8,
        "start_time": "2021-11-05T12:20:27.110Z"
      },
      {
        "duration": 6,
        "start_time": "2021-11-05T12:20:27.290Z"
      },
      {
        "duration": 8,
        "start_time": "2021-11-05T12:20:29.363Z"
      },
      {
        "duration": 5,
        "start_time": "2021-11-05T12:20:31.275Z"
      },
      {
        "duration": 9,
        "start_time": "2021-11-05T12:20:31.615Z"
      },
      {
        "duration": 14,
        "start_time": "2021-11-05T12:20:31.931Z"
      },
      {
        "duration": 7,
        "start_time": "2021-11-05T12:20:33.156Z"
      },
      {
        "duration": 5,
        "start_time": "2021-11-05T12:20:33.509Z"
      },
      {
        "duration": 12,
        "start_time": "2021-11-05T12:20:33.845Z"
      },
      {
        "duration": 7,
        "start_time": "2021-11-05T12:20:35.448Z"
      },
      {
        "duration": 5,
        "start_time": "2021-11-05T12:20:35.812Z"
      },
      {
        "duration": 13,
        "start_time": "2021-11-05T12:20:39.935Z"
      },
      {
        "duration": 17,
        "start_time": "2021-11-05T12:20:40.236Z"
      },
      {
        "duration": 5,
        "start_time": "2021-11-05T12:20:43.137Z"
      },
      {
        "duration": 171,
        "start_time": "2021-11-05T12:20:43.550Z"
      },
      {
        "duration": 16,
        "start_time": "2021-11-05T12:20:46.638Z"
      },
      {
        "duration": 18,
        "start_time": "2021-11-05T12:20:46.801Z"
      },
      {
        "duration": 13,
        "start_time": "2021-11-05T12:20:48.938Z"
      },
      {
        "duration": 16,
        "start_time": "2021-11-05T12:20:51.162Z"
      },
      {
        "duration": 17,
        "start_time": "2021-11-05T12:20:51.481Z"
      },
      {
        "duration": 16,
        "start_time": "2021-11-05T12:20:51.843Z"
      },
      {
        "duration": 4608,
        "start_time": "2021-11-05T12:20:53.533Z"
      },
      {
        "duration": 28,
        "start_time": "2021-11-05T12:20:58.145Z"
      },
      {
        "duration": 3829,
        "start_time": "2021-11-05T12:21:01.274Z"
      },
      {
        "duration": 41,
        "start_time": "2021-11-05T12:21:05.106Z"
      },
      {
        "duration": 57,
        "start_time": "2021-11-05T12:21:07.412Z"
      },
      {
        "duration": 348,
        "start_time": "2021-11-05T19:47:59.370Z"
      },
      {
        "duration": 805,
        "start_time": "2021-11-05T19:48:10.756Z"
      },
      {
        "duration": 68,
        "start_time": "2021-11-05T19:48:11.564Z"
      },
      {
        "duration": 49,
        "start_time": "2021-11-05T19:48:11.635Z"
      },
      {
        "duration": 49,
        "start_time": "2021-11-05T19:48:11.687Z"
      },
      {
        "duration": 48,
        "start_time": "2021-11-05T19:48:11.738Z"
      },
      {
        "duration": 11,
        "start_time": "2021-11-05T19:48:11.792Z"
      },
      {
        "duration": 9,
        "start_time": "2021-11-05T19:48:11.806Z"
      },
      {
        "duration": 80,
        "start_time": "2021-11-05T19:48:11.821Z"
      },
      {
        "duration": 8,
        "start_time": "2021-11-05T19:48:11.904Z"
      },
      {
        "duration": 8,
        "start_time": "2021-11-05T19:48:11.914Z"
      },
      {
        "duration": 9,
        "start_time": "2021-11-05T19:48:11.925Z"
      },
      {
        "duration": 53,
        "start_time": "2021-11-05T19:48:11.937Z"
      },
      {
        "duration": 7,
        "start_time": "2021-11-05T19:48:11.993Z"
      },
      {
        "duration": 7,
        "start_time": "2021-11-05T19:48:12.002Z"
      },
      {
        "duration": 12,
        "start_time": "2021-11-05T19:48:12.011Z"
      },
      {
        "duration": 8,
        "start_time": "2021-11-05T19:48:12.025Z"
      },
      {
        "duration": 6,
        "start_time": "2021-11-05T19:48:12.084Z"
      },
      {
        "duration": 14,
        "start_time": "2021-11-05T19:48:12.093Z"
      },
      {
        "duration": 15,
        "start_time": "2021-11-05T19:48:12.110Z"
      },
      {
        "duration": 4,
        "start_time": "2021-11-05T19:48:12.127Z"
      },
      {
        "duration": 227,
        "start_time": "2021-11-05T19:48:12.133Z"
      },
      {
        "duration": 10,
        "start_time": "2021-11-05T19:48:12.363Z"
      },
      {
        "duration": 21,
        "start_time": "2021-11-05T19:48:12.387Z"
      },
      {
        "duration": 17,
        "start_time": "2021-11-05T19:48:12.412Z"
      },
      {
        "duration": 65,
        "start_time": "2021-11-05T19:48:12.431Z"
      },
      {
        "duration": 20,
        "start_time": "2021-11-05T19:48:12.499Z"
      },
      {
        "duration": 18,
        "start_time": "2021-11-05T19:48:12.521Z"
      },
      {
        "duration": 4297,
        "start_time": "2021-11-05T19:48:12.541Z"
      },
      {
        "duration": 16,
        "start_time": "2021-11-05T19:48:16.842Z"
      },
      {
        "duration": 3262,
        "start_time": "2021-11-05T19:48:16.861Z"
      },
      {
        "duration": 25,
        "start_time": "2021-11-05T19:48:20.127Z"
      },
      {
        "duration": 47,
        "start_time": "2021-11-05T19:48:20.155Z"
      },
      {
        "duration": 26,
        "start_time": "2021-11-05T19:48:20.204Z"
      },
      {
        "duration": 54,
        "start_time": "2021-11-05T19:48:20.232Z"
      },
      {
        "duration": 18,
        "start_time": "2021-11-05T19:48:20.289Z"
      },
      {
        "duration": 15,
        "start_time": "2021-11-05T19:48:20.309Z"
      },
      {
        "duration": 633,
        "start_time": "2021-11-05T19:58:09.318Z"
      },
      {
        "duration": 746,
        "start_time": "2021-11-05T19:58:23.544Z"
      },
      {
        "duration": 61,
        "start_time": "2021-11-05T19:58:24.293Z"
      },
      {
        "duration": 36,
        "start_time": "2021-11-05T19:58:24.357Z"
      },
      {
        "duration": 46,
        "start_time": "2021-11-05T19:58:24.396Z"
      },
      {
        "duration": 45,
        "start_time": "2021-11-05T19:58:24.444Z"
      },
      {
        "duration": 8,
        "start_time": "2021-11-05T19:58:24.491Z"
      },
      {
        "duration": 8,
        "start_time": "2021-11-05T19:58:24.502Z"
      },
      {
        "duration": 83,
        "start_time": "2021-11-05T19:58:24.516Z"
      },
      {
        "duration": 8,
        "start_time": "2021-11-05T19:58:24.602Z"
      },
      {
        "duration": 368,
        "start_time": "2021-11-05T19:58:24.612Z"
      },
      {
        "duration": 1320,
        "start_time": "2021-11-05T19:58:23.663Z"
      },
      {
        "duration": 1285,
        "start_time": "2021-11-05T19:58:23.700Z"
      },
      {
        "duration": 1282,
        "start_time": "2021-11-05T19:58:23.704Z"
      },
      {
        "duration": 1278,
        "start_time": "2021-11-05T19:58:23.709Z"
      },
      {
        "duration": 1276,
        "start_time": "2021-11-05T19:58:23.713Z"
      },
      {
        "duration": 1273,
        "start_time": "2021-11-05T19:58:23.717Z"
      },
      {
        "duration": 1263,
        "start_time": "2021-11-05T19:58:23.728Z"
      },
      {
        "duration": 1260,
        "start_time": "2021-11-05T19:58:23.733Z"
      },
      {
        "duration": 1257,
        "start_time": "2021-11-05T19:58:23.737Z"
      },
      {
        "duration": 1254,
        "start_time": "2021-11-05T19:58:23.741Z"
      },
      {
        "duration": 1252,
        "start_time": "2021-11-05T19:58:23.745Z"
      },
      {
        "duration": 1250,
        "start_time": "2021-11-05T19:58:23.749Z"
      },
      {
        "duration": 1247,
        "start_time": "2021-11-05T19:58:23.753Z"
      },
      {
        "duration": 1244,
        "start_time": "2021-11-05T19:58:23.757Z"
      },
      {
        "duration": 1242,
        "start_time": "2021-11-05T19:58:23.761Z"
      },
      {
        "duration": 1232,
        "start_time": "2021-11-05T19:58:23.772Z"
      },
      {
        "duration": 1229,
        "start_time": "2021-11-05T19:58:23.777Z"
      },
      {
        "duration": 1225,
        "start_time": "2021-11-05T19:58:23.782Z"
      },
      {
        "duration": 1216,
        "start_time": "2021-11-05T19:58:23.793Z"
      },
      {
        "duration": 1213,
        "start_time": "2021-11-05T19:58:23.797Z"
      },
      {
        "duration": 1211,
        "start_time": "2021-11-05T19:58:23.801Z"
      },
      {
        "duration": 1204,
        "start_time": "2021-11-05T19:58:23.809Z"
      },
      {
        "duration": 1196,
        "start_time": "2021-11-05T19:58:23.819Z"
      },
      {
        "duration": 1192,
        "start_time": "2021-11-05T19:58:23.824Z"
      },
      {
        "duration": 1190,
        "start_time": "2021-11-05T19:58:23.828Z"
      },
      {
        "duration": 1188,
        "start_time": "2021-11-05T19:58:23.831Z"
      },
      {
        "duration": 1185,
        "start_time": "2021-11-05T19:58:23.835Z"
      },
      {
        "duration": 1184,
        "start_time": "2021-11-05T19:58:23.838Z"
      },
      {
        "duration": 709,
        "start_time": "2021-11-05T19:58:45.919Z"
      },
      {
        "duration": 63,
        "start_time": "2021-11-05T19:58:46.631Z"
      },
      {
        "duration": 33,
        "start_time": "2021-11-05T19:58:46.697Z"
      },
      {
        "duration": 75,
        "start_time": "2021-11-05T19:58:46.732Z"
      },
      {
        "duration": 15,
        "start_time": "2021-11-05T19:58:46.810Z"
      },
      {
        "duration": 9,
        "start_time": "2021-11-05T19:58:46.828Z"
      },
      {
        "duration": 44,
        "start_time": "2021-11-05T19:58:46.840Z"
      },
      {
        "duration": 35,
        "start_time": "2021-11-05T19:58:46.888Z"
      },
      {
        "duration": 8,
        "start_time": "2021-11-05T19:58:46.926Z"
      },
      {
        "duration": 4,
        "start_time": "2021-11-05T19:58:46.937Z"
      },
      {
        "duration": 387,
        "start_time": "2021-11-05T19:58:46.983Z"
      },
      {
        "duration": 1268,
        "start_time": "2021-11-05T19:58:46.106Z"
      },
      {
        "duration": 1259,
        "start_time": "2021-11-05T19:58:46.116Z"
      },
      {
        "duration": 1253,
        "start_time": "2021-11-05T19:58:46.123Z"
      },
      {
        "duration": 1244,
        "start_time": "2021-11-05T19:58:46.133Z"
      },
      {
        "duration": 1236,
        "start_time": "2021-11-05T19:58:46.143Z"
      },
      {
        "duration": 1219,
        "start_time": "2021-11-05T19:58:46.161Z"
      },
      {
        "duration": 1197,
        "start_time": "2021-11-05T19:58:46.184Z"
      },
      {
        "duration": 1181,
        "start_time": "2021-11-05T19:58:46.201Z"
      },
      {
        "duration": 1165,
        "start_time": "2021-11-05T19:58:46.218Z"
      },
      {
        "duration": 1149,
        "start_time": "2021-11-05T19:58:46.235Z"
      },
      {
        "duration": 1135,
        "start_time": "2021-11-05T19:58:46.250Z"
      },
      {
        "duration": 1121,
        "start_time": "2021-11-05T19:58:46.266Z"
      },
      {
        "duration": 1112,
        "start_time": "2021-11-05T19:58:46.276Z"
      },
      {
        "duration": 1098,
        "start_time": "2021-11-05T19:58:46.291Z"
      },
      {
        "duration": 1089,
        "start_time": "2021-11-05T19:58:46.301Z"
      },
      {
        "duration": 1076,
        "start_time": "2021-11-05T19:58:46.316Z"
      },
      {
        "duration": 1067,
        "start_time": "2021-11-05T19:58:46.326Z"
      },
      {
        "duration": 1053,
        "start_time": "2021-11-05T19:58:46.341Z"
      },
      {
        "duration": 1044,
        "start_time": "2021-11-05T19:58:46.351Z"
      },
      {
        "duration": 1032,
        "start_time": "2021-11-05T19:58:46.364Z"
      },
      {
        "duration": 1023,
        "start_time": "2021-11-05T19:58:46.375Z"
      },
      {
        "duration": 1015,
        "start_time": "2021-11-05T19:58:46.384Z"
      },
      {
        "duration": 1002,
        "start_time": "2021-11-05T19:58:46.398Z"
      },
      {
        "duration": 992,
        "start_time": "2021-11-05T19:58:46.409Z"
      },
      {
        "duration": 978,
        "start_time": "2021-11-05T19:58:46.425Z"
      },
      {
        "duration": 964,
        "start_time": "2021-11-05T19:58:46.440Z"
      },
      {
        "duration": 954,
        "start_time": "2021-11-05T19:58:46.451Z"
      },
      {
        "duration": 10,
        "start_time": "2021-11-05T19:59:12.506Z"
      },
      {
        "duration": 276,
        "start_time": "2021-11-05T19:59:16.507Z"
      },
      {
        "duration": 703,
        "start_time": "2021-11-05T19:59:24.727Z"
      },
      {
        "duration": 64,
        "start_time": "2021-11-05T19:59:25.432Z"
      },
      {
        "duration": 35,
        "start_time": "2021-11-05T19:59:25.498Z"
      },
      {
        "duration": 76,
        "start_time": "2021-11-05T19:59:25.536Z"
      },
      {
        "duration": 15,
        "start_time": "2021-11-05T19:59:25.614Z"
      },
      {
        "duration": 8,
        "start_time": "2021-11-05T19:59:25.631Z"
      },
      {
        "duration": 42,
        "start_time": "2021-11-05T19:59:25.641Z"
      },
      {
        "duration": 31,
        "start_time": "2021-11-05T19:59:25.687Z"
      },
      {
        "duration": 9,
        "start_time": "2021-11-05T19:59:25.721Z"
      },
      {
        "duration": 7,
        "start_time": "2021-11-05T19:59:25.732Z"
      },
      {
        "duration": 409,
        "start_time": "2021-11-05T19:59:25.741Z"
      },
      {
        "duration": 1286,
        "start_time": "2021-11-05T19:59:24.868Z"
      },
      {
        "duration": 1281,
        "start_time": "2021-11-05T19:59:24.874Z"
      },
      {
        "duration": 1279,
        "start_time": "2021-11-05T19:59:24.878Z"
      },
      {
        "duration": 1269,
        "start_time": "2021-11-05T19:59:24.889Z"
      },
      {
        "duration": 1265,
        "start_time": "2021-11-05T19:59:24.894Z"
      },
      {
        "duration": 1263,
        "start_time": "2021-11-05T19:59:24.898Z"
      },
      {
        "duration": 1260,
        "start_time": "2021-11-05T19:59:24.902Z"
      },
      {
        "duration": 1259,
        "start_time": "2021-11-05T19:59:24.905Z"
      },
      {
        "duration": 1256,
        "start_time": "2021-11-05T19:59:24.909Z"
      },
      {
        "duration": 1253,
        "start_time": "2021-11-05T19:59:24.913Z"
      },
      {
        "duration": 1252,
        "start_time": "2021-11-05T19:59:24.916Z"
      },
      {
        "duration": 1250,
        "start_time": "2021-11-05T19:59:24.919Z"
      },
      {
        "duration": 1248,
        "start_time": "2021-11-05T19:59:24.923Z"
      },
      {
        "duration": 1246,
        "start_time": "2021-11-05T19:59:24.926Z"
      },
      {
        "duration": 1231,
        "start_time": "2021-11-05T19:59:24.943Z"
      },
      {
        "duration": 1227,
        "start_time": "2021-11-05T19:59:24.948Z"
      },
      {
        "duration": 1224,
        "start_time": "2021-11-05T19:59:24.952Z"
      },
      {
        "duration": 1222,
        "start_time": "2021-11-05T19:59:24.955Z"
      },
      {
        "duration": 1220,
        "start_time": "2021-11-05T19:59:24.958Z"
      },
      {
        "duration": 1219,
        "start_time": "2021-11-05T19:59:24.961Z"
      },
      {
        "duration": 1217,
        "start_time": "2021-11-05T19:59:24.964Z"
      },
      {
        "duration": 1214,
        "start_time": "2021-11-05T19:59:24.968Z"
      },
      {
        "duration": 1211,
        "start_time": "2021-11-05T19:59:24.972Z"
      },
      {
        "duration": 1210,
        "start_time": "2021-11-05T19:59:24.975Z"
      },
      {
        "duration": 1209,
        "start_time": "2021-11-05T19:59:24.977Z"
      },
      {
        "duration": 1207,
        "start_time": "2021-11-05T19:59:24.980Z"
      },
      {
        "duration": 1207,
        "start_time": "2021-11-05T19:59:24.982Z"
      },
      {
        "duration": 9,
        "start_time": "2021-11-05T19:59:35.813Z"
      },
      {
        "duration": 10,
        "start_time": "2021-11-05T19:59:38.461Z"
      },
      {
        "duration": 16,
        "start_time": "2021-11-05T19:59:55.494Z"
      },
      {
        "duration": 9,
        "start_time": "2021-11-05T19:59:57.452Z"
      },
      {
        "duration": 778,
        "start_time": "2021-11-05T20:04:10.269Z"
      },
      {
        "duration": 69,
        "start_time": "2021-11-05T20:04:11.049Z"
      },
      {
        "duration": 33,
        "start_time": "2021-11-05T20:04:11.120Z"
      },
      {
        "duration": 67,
        "start_time": "2021-11-05T20:04:11.156Z"
      },
      {
        "duration": 14,
        "start_time": "2021-11-05T20:04:11.225Z"
      },
      {
        "duration": 41,
        "start_time": "2021-11-05T20:04:11.242Z"
      },
      {
        "duration": 10,
        "start_time": "2021-11-05T20:04:11.286Z"
      },
      {
        "duration": 34,
        "start_time": "2021-11-05T20:04:11.300Z"
      },
      {
        "duration": 46,
        "start_time": "2021-11-05T20:04:11.338Z"
      },
      {
        "duration": 15,
        "start_time": "2021-11-05T20:04:11.387Z"
      },
      {
        "duration": 9,
        "start_time": "2021-11-05T20:04:11.405Z"
      },
      {
        "duration": 66,
        "start_time": "2021-11-05T20:04:11.417Z"
      },
      {
        "duration": 4,
        "start_time": "2021-11-05T20:04:11.486Z"
      },
      {
        "duration": 12,
        "start_time": "2021-11-05T20:04:11.493Z"
      },
      {
        "duration": 6,
        "start_time": "2021-11-05T20:04:11.508Z"
      },
      {
        "duration": 5,
        "start_time": "2021-11-05T20:04:11.517Z"
      },
      {
        "duration": 5,
        "start_time": "2021-11-05T20:04:11.526Z"
      },
      {
        "duration": 14,
        "start_time": "2021-11-05T20:04:11.581Z"
      },
      {
        "duration": 21,
        "start_time": "2021-11-05T20:04:11.598Z"
      },
      {
        "duration": 6,
        "start_time": "2021-11-05T20:04:11.622Z"
      },
      {
        "duration": 261,
        "start_time": "2021-11-05T20:04:11.631Z"
      },
      {
        "duration": 14,
        "start_time": "2021-11-05T20:04:11.895Z"
      },
      {
        "duration": 16,
        "start_time": "2021-11-05T20:04:11.914Z"
      },
      {
        "duration": 57,
        "start_time": "2021-11-05T20:04:11.933Z"
      },
      {
        "duration": 20,
        "start_time": "2021-11-05T20:04:11.993Z"
      },
      {
        "duration": 23,
        "start_time": "2021-11-05T20:04:12.015Z"
      },
      {
        "duration": 55,
        "start_time": "2021-11-05T20:04:12.041Z"
      },
      {
        "duration": 4313,
        "start_time": "2021-11-05T20:04:12.098Z"
      },
      {
        "duration": 17,
        "start_time": "2021-11-05T20:04:16.414Z"
      },
      {
        "duration": 3414,
        "start_time": "2021-11-05T20:04:16.433Z"
      },
      {
        "duration": 34,
        "start_time": "2021-11-05T20:04:19.849Z"
      },
      {
        "duration": 19,
        "start_time": "2021-11-05T20:04:19.885Z"
      },
      {
        "duration": 25,
        "start_time": "2021-11-05T20:04:19.906Z"
      },
      {
        "duration": 57,
        "start_time": "2021-11-05T20:04:19.934Z"
      },
      {
        "duration": 20,
        "start_time": "2021-11-05T20:04:19.994Z"
      },
      {
        "duration": 19,
        "start_time": "2021-11-05T20:04:20.017Z"
      },
      {
        "duration": 24,
        "start_time": "2021-11-05T20:05:10.257Z"
      },
      {
        "duration": 34,
        "start_time": "2021-11-05T20:05:39.514Z"
      },
      {
        "duration": 33,
        "start_time": "2021-11-05T20:12:49.284Z"
      },
      {
        "duration": 841,
        "start_time": "2021-11-06T14:36:38.749Z"
      },
      {
        "duration": 67,
        "start_time": "2021-11-06T14:36:39.592Z"
      },
      {
        "duration": 38,
        "start_time": "2021-11-06T14:36:39.662Z"
      },
      {
        "duration": 72,
        "start_time": "2021-11-06T14:36:39.704Z"
      },
      {
        "duration": 14,
        "start_time": "2021-11-06T14:36:39.779Z"
      },
      {
        "duration": 9,
        "start_time": "2021-11-06T14:36:39.796Z"
      },
      {
        "duration": 11,
        "start_time": "2021-11-06T14:36:39.808Z"
      },
      {
        "duration": 64,
        "start_time": "2021-11-06T14:36:39.822Z"
      },
      {
        "duration": 10,
        "start_time": "2021-11-06T14:36:39.893Z"
      },
      {
        "duration": 14,
        "start_time": "2021-11-06T14:36:39.907Z"
      },
      {
        "duration": 51,
        "start_time": "2021-11-06T14:36:39.924Z"
      },
      {
        "duration": 16,
        "start_time": "2021-11-06T14:36:39.977Z"
      },
      {
        "duration": 3,
        "start_time": "2021-11-06T14:36:39.996Z"
      },
      {
        "duration": 9,
        "start_time": "2021-11-06T14:36:40.002Z"
      },
      {
        "duration": 7,
        "start_time": "2021-11-06T14:36:40.014Z"
      },
      {
        "duration": 17,
        "start_time": "2021-11-06T14:36:40.023Z"
      },
      {
        "duration": 3,
        "start_time": "2021-11-06T14:36:40.068Z"
      },
      {
        "duration": 18,
        "start_time": "2021-11-06T14:36:40.074Z"
      },
      {
        "duration": 18,
        "start_time": "2021-11-06T14:36:40.095Z"
      },
      {
        "duration": 4,
        "start_time": "2021-11-06T14:36:40.116Z"
      },
      {
        "duration": 260,
        "start_time": "2021-11-06T14:36:40.123Z"
      },
      {
        "duration": 15,
        "start_time": "2021-11-06T14:36:40.385Z"
      },
      {
        "duration": 16,
        "start_time": "2021-11-06T14:36:40.402Z"
      },
      {
        "duration": 58,
        "start_time": "2021-11-06T14:36:40.420Z"
      },
      {
        "duration": 28,
        "start_time": "2021-11-06T14:36:40.480Z"
      },
      {
        "duration": 20,
        "start_time": "2021-11-06T14:36:40.511Z"
      },
      {
        "duration": 23,
        "start_time": "2021-11-06T14:36:40.569Z"
      },
      {
        "duration": 20,
        "start_time": "2021-11-06T14:36:40.595Z"
      },
      {
        "duration": 4851,
        "start_time": "2021-11-06T14:36:40.617Z"
      },
      {
        "duration": 17,
        "start_time": "2021-11-06T14:36:45.470Z"
      },
      {
        "duration": 3979,
        "start_time": "2021-11-06T14:36:45.491Z"
      },
      {
        "duration": 27,
        "start_time": "2021-11-06T14:36:49.472Z"
      },
      {
        "duration": 25,
        "start_time": "2021-11-06T14:36:49.502Z"
      },
      {
        "duration": 64,
        "start_time": "2021-11-06T14:36:49.529Z"
      },
      {
        "duration": 26,
        "start_time": "2021-11-06T14:36:49.596Z"
      },
      {
        "duration": 55,
        "start_time": "2021-11-06T14:36:49.624Z"
      },
      {
        "duration": 16,
        "start_time": "2021-11-06T14:36:49.681Z"
      },
      {
        "duration": 16,
        "start_time": "2021-11-06T14:36:49.700Z"
      },
      {
        "duration": 52,
        "start_time": "2021-11-06T14:39:38.704Z"
      },
      {
        "duration": 121,
        "start_time": "2021-11-06T18:30:58.612Z"
      },
      {
        "duration": 129,
        "start_time": "2021-11-06T18:31:14.745Z"
      },
      {
        "duration": 2501,
        "start_time": "2021-11-06T18:50:22.824Z"
      },
      {
        "duration": 809,
        "start_time": "2021-11-06T18:50:42.254Z"
      },
      {
        "duration": 1517,
        "start_time": "2021-11-06T18:50:43.066Z"
      },
      {
        "duration": 34,
        "start_time": "2021-11-06T18:50:44.587Z"
      },
      {
        "duration": 63,
        "start_time": "2021-11-06T18:50:44.623Z"
      },
      {
        "duration": 13,
        "start_time": "2021-11-06T18:50:44.688Z"
      },
      {
        "duration": 9,
        "start_time": "2021-11-06T18:50:44.704Z"
      },
      {
        "duration": 11,
        "start_time": "2021-11-06T18:50:44.715Z"
      },
      {
        "duration": 63,
        "start_time": "2021-11-06T18:50:44.730Z"
      },
      {
        "duration": 17,
        "start_time": "2021-11-06T18:50:44.797Z"
      },
      {
        "duration": 13,
        "start_time": "2021-11-06T18:50:44.816Z"
      },
      {
        "duration": 32,
        "start_time": "2021-11-06T18:50:44.832Z"
      },
      {
        "duration": 14,
        "start_time": "2021-11-06T18:50:44.867Z"
      },
      {
        "duration": 4,
        "start_time": "2021-11-06T18:50:44.885Z"
      },
      {
        "duration": 17,
        "start_time": "2021-11-06T18:50:44.891Z"
      },
      {
        "duration": 8,
        "start_time": "2021-11-06T18:50:44.910Z"
      },
      {
        "duration": 9,
        "start_time": "2021-11-06T18:50:44.920Z"
      },
      {
        "duration": 4,
        "start_time": "2021-11-06T18:50:44.959Z"
      },
      {
        "duration": 12,
        "start_time": "2021-11-06T18:50:44.966Z"
      },
      {
        "duration": 16,
        "start_time": "2021-11-06T18:50:44.980Z"
      },
      {
        "duration": 5,
        "start_time": "2021-11-06T18:50:44.998Z"
      },
      {
        "duration": 254,
        "start_time": "2021-11-06T18:50:45.006Z"
      },
      {
        "duration": 14,
        "start_time": "2021-11-06T18:50:45.263Z"
      },
      {
        "duration": 17,
        "start_time": "2021-11-06T18:50:45.282Z"
      },
      {
        "duration": 16,
        "start_time": "2021-11-06T18:50:45.302Z"
      },
      {
        "duration": 62,
        "start_time": "2021-11-06T18:50:45.321Z"
      },
      {
        "duration": 9558,
        "start_time": "2021-11-06T18:50:45.385Z"
      },
      {
        "duration": 14,
        "start_time": "2021-11-06T18:50:54.931Z"
      },
      {
        "duration": 6,
        "start_time": "2021-11-06T18:50:54.941Z"
      },
      {
        "duration": 3,
        "start_time": "2021-11-06T18:50:54.945Z"
      },
      {
        "duration": -1,
        "start_time": "2021-11-06T18:50:54.950Z"
      },
      {
        "duration": -3,
        "start_time": "2021-11-06T18:50:54.953Z"
      },
      {
        "duration": -4,
        "start_time": "2021-11-06T18:50:54.956Z"
      },
      {
        "duration": -6,
        "start_time": "2021-11-06T18:50:54.959Z"
      },
      {
        "duration": -7,
        "start_time": "2021-11-06T18:50:54.962Z"
      },
      {
        "duration": -8,
        "start_time": "2021-11-06T18:50:54.964Z"
      },
      {
        "duration": -11,
        "start_time": "2021-11-06T18:50:54.969Z"
      },
      {
        "duration": -13,
        "start_time": "2021-11-06T18:50:54.972Z"
      },
      {
        "duration": -16,
        "start_time": "2021-11-06T18:50:54.976Z"
      },
      {
        "duration": -17,
        "start_time": "2021-11-06T18:50:54.979Z"
      },
      {
        "duration": -19,
        "start_time": "2021-11-06T18:50:54.982Z"
      },
      {
        "duration": 424,
        "start_time": "2021-11-06T18:51:05.561Z"
      },
      {
        "duration": 15,
        "start_time": "2021-11-06T18:52:15.822Z"
      },
      {
        "duration": 27,
        "start_time": "2021-11-06T18:52:17.566Z"
      },
      {
        "duration": 23,
        "start_time": "2021-11-06T18:52:27.048Z"
      },
      {
        "duration": 22,
        "start_time": "2021-11-06T18:52:29.351Z"
      },
      {
        "duration": 21,
        "start_time": "2021-11-06T18:52:31.252Z"
      },
      {
        "duration": 134,
        "start_time": "2021-11-06T18:53:00.989Z"
      },
      {
        "duration": 737,
        "start_time": "2021-11-06T18:57:52.697Z"
      },
      {
        "duration": 62,
        "start_time": "2021-11-06T18:57:53.436Z"
      },
      {
        "duration": 31,
        "start_time": "2021-11-06T18:57:53.501Z"
      },
      {
        "duration": 62,
        "start_time": "2021-11-06T18:57:53.535Z"
      },
      {
        "duration": 14,
        "start_time": "2021-11-06T18:57:53.599Z"
      },
      {
        "duration": 11,
        "start_time": "2021-11-06T18:57:53.616Z"
      },
      {
        "duration": 39,
        "start_time": "2021-11-06T18:57:53.629Z"
      },
      {
        "duration": 34,
        "start_time": "2021-11-06T18:57:53.672Z"
      },
      {
        "duration": 10,
        "start_time": "2021-11-06T18:57:53.710Z"
      },
      {
        "duration": 48,
        "start_time": "2021-11-06T18:57:53.723Z"
      },
      {
        "duration": 7,
        "start_time": "2021-11-06T18:57:53.773Z"
      },
      {
        "duration": 11,
        "start_time": "2021-11-06T18:57:53.782Z"
      },
      {
        "duration": 3,
        "start_time": "2021-11-06T18:57:53.795Z"
      },
      {
        "duration": 5,
        "start_time": "2021-11-06T18:57:53.800Z"
      },
      {
        "duration": 5,
        "start_time": "2021-11-06T18:57:53.807Z"
      },
      {
        "duration": 8,
        "start_time": "2021-11-06T18:57:53.814Z"
      },
      {
        "duration": 3,
        "start_time": "2021-11-06T18:57:53.860Z"
      },
      {
        "duration": 14,
        "start_time": "2021-11-06T18:57:53.865Z"
      },
      {
        "duration": 18,
        "start_time": "2021-11-06T18:57:53.881Z"
      },
      {
        "duration": 4,
        "start_time": "2021-11-06T18:57:53.902Z"
      },
      {
        "duration": 236,
        "start_time": "2021-11-06T18:57:53.908Z"
      },
      {
        "duration": 21,
        "start_time": "2021-11-06T18:57:54.146Z"
      },
      {
        "duration": 16,
        "start_time": "2021-11-06T18:57:54.172Z"
      },
      {
        "duration": 17,
        "start_time": "2021-11-06T18:57:54.191Z"
      },
      {
        "duration": 60,
        "start_time": "2021-11-06T18:57:54.210Z"
      },
      {
        "duration": 16,
        "start_time": "2021-11-06T18:57:54.273Z"
      },
      {
        "duration": 28,
        "start_time": "2021-11-06T18:57:54.291Z"
      },
      {
        "duration": 49,
        "start_time": "2021-11-06T18:57:54.322Z"
      },
      {
        "duration": 24,
        "start_time": "2021-11-06T18:57:54.373Z"
      },
      {
        "duration": 22,
        "start_time": "2021-11-06T18:57:54.400Z"
      },
      {
        "duration": 4759,
        "start_time": "2021-11-06T18:57:54.424Z"
      },
      {
        "duration": 15,
        "start_time": "2021-11-06T18:57:59.186Z"
      },
      {
        "duration": 3861,
        "start_time": "2021-11-06T18:57:59.204Z"
      },
      {
        "duration": 23,
        "start_time": "2021-11-06T18:58:03.067Z"
      },
      {
        "duration": 18,
        "start_time": "2021-11-06T18:58:03.092Z"
      },
      {
        "duration": 57,
        "start_time": "2021-11-06T18:58:03.112Z"
      },
      {
        "duration": 24,
        "start_time": "2021-11-06T18:58:03.171Z"
      },
      {
        "duration": 16,
        "start_time": "2021-11-06T18:58:03.197Z"
      },
      {
        "duration": 49,
        "start_time": "2021-11-06T18:58:03.215Z"
      },
      {
        "duration": 17,
        "start_time": "2021-11-06T18:58:03.266Z"
      },
      {
        "duration": 39,
        "start_time": "2021-11-06T18:58:11.097Z"
      },
      {
        "duration": 44,
        "start_time": "2021-11-06T18:58:15.378Z"
      },
      {
        "duration": 24,
        "start_time": "2021-11-06T18:59:13.089Z"
      },
      {
        "duration": 773,
        "start_time": "2021-11-06T18:59:18.337Z"
      },
      {
        "duration": 67,
        "start_time": "2021-11-06T18:59:19.113Z"
      },
      {
        "duration": 33,
        "start_time": "2021-11-06T18:59:19.188Z"
      },
      {
        "duration": 69,
        "start_time": "2021-11-06T18:59:19.223Z"
      },
      {
        "duration": 14,
        "start_time": "2021-11-06T18:59:19.294Z"
      },
      {
        "duration": 10,
        "start_time": "2021-11-06T18:59:19.311Z"
      },
      {
        "duration": 35,
        "start_time": "2021-11-06T18:59:19.325Z"
      },
      {
        "duration": 34,
        "start_time": "2021-11-06T18:59:19.363Z"
      },
      {
        "duration": 8,
        "start_time": "2021-11-06T18:59:19.399Z"
      },
      {
        "duration": 15,
        "start_time": "2021-11-06T18:59:19.410Z"
      },
      {
        "duration": 34,
        "start_time": "2021-11-06T18:59:19.427Z"
      },
      {
        "duration": 14,
        "start_time": "2021-11-06T18:59:19.463Z"
      },
      {
        "duration": 3,
        "start_time": "2021-11-06T18:59:19.480Z"
      },
      {
        "duration": 6,
        "start_time": "2021-11-06T18:59:19.485Z"
      },
      {
        "duration": 4,
        "start_time": "2021-11-06T18:59:19.494Z"
      },
      {
        "duration": 5,
        "start_time": "2021-11-06T18:59:19.500Z"
      },
      {
        "duration": 4,
        "start_time": "2021-11-06T18:59:19.508Z"
      },
      {
        "duration": 53,
        "start_time": "2021-11-06T18:59:19.515Z"
      },
      {
        "duration": 17,
        "start_time": "2021-11-06T18:59:19.571Z"
      },
      {
        "duration": 5,
        "start_time": "2021-11-06T18:59:19.591Z"
      },
      {
        "duration": 230,
        "start_time": "2021-11-06T18:59:19.598Z"
      },
      {
        "duration": 26,
        "start_time": "2021-11-06T18:59:19.833Z"
      },
      {
        "duration": 16,
        "start_time": "2021-11-06T18:59:19.862Z"
      },
      {
        "duration": 17,
        "start_time": "2021-11-06T18:59:19.881Z"
      },
      {
        "duration": 28,
        "start_time": "2021-11-06T18:59:19.900Z"
      },
      {
        "duration": 16,
        "start_time": "2021-11-06T18:59:19.960Z"
      },
      {
        "duration": 31,
        "start_time": "2021-11-06T18:59:19.978Z"
      },
      {
        "duration": 49,
        "start_time": "2021-11-06T18:59:20.012Z"
      },
      {
        "duration": 22,
        "start_time": "2021-11-06T18:59:20.064Z"
      },
      {
        "duration": 21,
        "start_time": "2021-11-06T18:59:20.089Z"
      }
    ],
    "kernelspec": {
      "display_name": "Python 3",
      "language": "python",
      "name": "python3"
    },
    "language_info": {
      "codemirror_mode": {
        "name": "ipython",
        "version": 3
      },
      "file_extension": ".py",
      "mimetype": "text/x-python",
      "name": "python",
      "nbconvert_exporter": "python",
      "pygments_lexer": "ipython3",
      "version": "3.7.8"
    },
    "toc": {
      "base_numbering": 1,
      "nav_menu": {},
      "number_sections": true,
      "sideBar": true,
      "skip_h1_title": true,
      "title_cell": "Table of Contents",
      "title_sidebar": "Contents",
      "toc_cell": false,
      "toc_position": {},
      "toc_section_display": true,
      "toc_window_display": true
    },
    "colab": {
      "name": "e3abef98-ad76-487c-bc5c-ea7abab266d2.ipynb",
      "provenance": []
    }
  },
  "nbformat": 4,
  "nbformat_minor": 0
}